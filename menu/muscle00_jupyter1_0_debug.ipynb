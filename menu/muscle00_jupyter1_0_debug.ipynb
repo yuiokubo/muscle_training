{
 "cells": [
  {
   "cell_type": "markdown",
   "metadata": {
    "colab_type": "text",
    "id": "IgTReaiN4hIQ"
   },
   "source": [
    "# Jupyerでのデバッグのやり方\n",
    "\n",
    "Python Debuggerモジュールを読み込むには，\n",
    "**import pdb** \n",
    "とする．"
   ]
  },
  {
   "cell_type": "code",
   "execution_count": 1,
   "metadata": {
    "colab": {},
    "colab_type": "code",
    "id": "ZEXffq2-4hIU"
   },
   "outputs": [],
   "source": [
    "import pdb"
   ]
  },
  {
   "cell_type": "code",
   "execution_count": 3,
   "metadata": {
    "colab": {},
    "colab_type": "code",
    "id": "Pfp68Xo64hIX"
   },
   "outputs": [],
   "source": [
    "# 呼び出し用の関数を準備する．\n",
    "def f(x):\n",
    "    print(\"x=\",100/(x+5))"
   ]
  },
  {
   "cell_type": "markdown",
   "metadata": {
    "colab_type": "text",
    "id": "DUvl5sqk4hIa"
   },
   "source": [
    "## プログラムを停止したい行の前に**pdb.set_trace()**と書くとデバッガが起動する．\n",
    "\n",
    "### 重要なコマンド一覧\n",
    "\n",
    "* h (help) でヘルプが出る．（help <コマンド> でコマンドの説明が出る．）\n",
    "* q (quit) でデバッガを終了する．（デバッガをちゃんと終了させないとカーネルが暴走するので注意！）\n",
    "* p (print) でプリント（コマンドと同じ変数でなければ，それを入れるだけでプリントしてくれる．）\n",
    "* n (next) で次の行に進む．\n",
    "* c (continue) で次の停止位置（ブレークポイント）まで進む．\n",
    "* s (step into) で呼び出した先に移動する．\n",
    "* l (list) で現在の近所のプログラムリストを表示する．\n",
    "\n",
    "以下のプログラムを動かして，コマンドを色々試してみよう．\n",
    "\n",
    "* 関数 f(x) 内では，変数 y はどうなっているだろうか？\n",
    "* もとのプログラム内では，変数 x はどうなっているだろうか？"
   ]
  },
  {
   "cell_type": "code",
   "execution_count": null,
   "metadata": {
    "colab": {},
    "colab_type": "code",
    "id": "n5BZR6IN4hIb"
   },
   "outputs": [
    {
     "name": "stdout",
     "output_type": "stream",
     "text": [
      "> <ipython-input-4-1fbe9dd1d132>(3)<module>()\n",
      "-> y = i+2\n",
      "(Pdb) 1\n",
      "1\n",
      "(Pdb) 5\n",
      "5\n"
     ]
    }
   ],
   "source": [
    "for i in range(3):\n",
    "    pdb.set_trace()\n",
    "    y = i+2\n",
    "    f(y) "
   ]
  },
  {
   "cell_type": "markdown",
   "metadata": {
    "colab_type": "text",
    "id": "lKS5by094hId"
   },
   "source": [
    "## 意図的にエラーを起こしてみる．\n",
    "\n",
    "**%debug** とうつと，エラー箇所からデバッグを開始できる．\n",
    "\n",
    "* 変数xを表示させ，何故エラーが起きたかを考えてみよう．"
   ]
  },
  {
   "cell_type": "code",
   "execution_count": null,
   "metadata": {
    "colab": {},
    "colab_type": "code",
    "id": "caUKBm1l4hId"
   },
   "outputs": [],
   "source": [
    "for i in range(-10,0):\n",
    "    y = i+2\n",
    "    f(y) "
   ]
  },
  {
   "cell_type": "code",
   "execution_count": null,
   "metadata": {
    "colab": {},
    "colab_type": "code",
    "id": "YpHOb6b-4hIg"
   },
   "outputs": [],
   "source": [
    "%debug"
   ]
  },
  {
   "cell_type": "code",
   "execution_count": null,
   "metadata": {
    "colab": {},
    "colab_type": "code",
    "id": "NwhlxTu84hIj"
   },
   "outputs": [],
   "source": []
  }
 ],
 "metadata": {
  "colab": {
   "collapsed_sections": [],
   "include_colab_link": true,
   "name": "debug.ipynb",
   "provenance": [],
   "version": "0.3.2"
  },
  "kernelspec": {
   "display_name": "Python 3",
   "language": "python",
   "name": "python3"
  },
  "language_info": {
   "codemirror_mode": {
    "name": "ipython",
    "version": 3
   },
   "file_extension": ".py",
   "mimetype": "text/x-python",
   "name": "python",
   "nbconvert_exporter": "python",
   "pygments_lexer": "ipython3",
   "version": "3.5.2"
  }
 },
 "nbformat": 4,
 "nbformat_minor": 1
}
