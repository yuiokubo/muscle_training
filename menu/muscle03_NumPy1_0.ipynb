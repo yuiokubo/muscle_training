{
 "cells": [
  {
   "cell_type": "markdown",
   "metadata": {
    "colab_type": "text",
    "id": "iy5cLOqX6VSW"
   },
   "source": [
    "# Python言語によるビジネスアナリティクス\n",
    "##実務家のための最適化，統計分析，機械学習（近代科学社）\n",
    "\n",
    "## NumPy\n",
    "\n",
    "NumPyモジュールの基本的な使用法を説明する．\n",
    "\n",
    "NumPyは科学技術計算のための基本モジュールであり，リストに似た配列を扱う．\n",
    "\n",
    "リストとの違いは：\n",
    "\n",
    "* サイズが変更できない．\n",
    "\n",
    "* 同じ種類のものしか保管できない（規定値は浮動小数点数）．\n",
    "\n",
    "**zeros**は $0$ が入ったベクトルや行列を生成するための関数である．\n",
    "これらはNumPyの**ndarray**（$n$次元配列）オブジェクトである．"
   ]
  },
  {
   "cell_type": "code",
   "execution_count": 1,
   "metadata": {
    "colab": {},
    "colab_type": "code",
    "id": "MbRJGVd36VSY"
   },
   "outputs": [],
   "source": [
    "import numpy as np #まずはインポート；別名は np が標準"
   ]
  },
  {
   "cell_type": "code",
   "execution_count": 2,
   "metadata": {
    "colab": {
     "base_uri": "https://localhost:8080/",
     "height": 34
    },
    "colab_type": "code",
    "id": "vSL4LGvL6VSd",
    "outputId": "f07e2ee3-f328-449c-f681-74e621a0c38f"
   },
   "outputs": [
    {
     "data": {
      "text/plain": [
       "array([0., 0., 0., 0., 0.])"
      ]
     },
     "execution_count": 2,
     "metadata": {},
     "output_type": "execute_result"
    }
   ],
   "source": [
    "z = np.zeros(5)  #長さ5の0ベクトルを生成\n",
    "z"
   ]
  },
  {
   "cell_type": "markdown",
   "metadata": {
    "colab_type": "text",
    "id": "QoxTJMS46VSl"
   },
   "source": [
    "同様に，**ones**関数ですべての要素が $1$ のベクトルや行列を生成できる．\n",
    "\n",
    "$0,1,2,\\cdots,n$ の数列は**arange**関数で生成できる．これはPython標準の**range**関数に相当する． \n",
    "\n",
    "$n$ 行 $m$ 列の行列を生成するためには，引数をタプル $(n,m)$ とすれば良い．"
   ]
  },
  {
   "cell_type": "code",
   "execution_count": 3,
   "metadata": {
    "colab": {
     "base_uri": "https://localhost:8080/",
     "height": 34
    },
    "colab_type": "code",
    "id": "s6Zh2TAL6VSm",
    "outputId": "cb95130c-08b3-4665-8c27-99de3d1d1b47"
   },
   "outputs": [
    {
     "data": {
      "text/plain": [
       "array([1., 1., 1., 1., 1., 1., 1., 1., 1., 1.])"
      ]
     },
     "execution_count": 3,
     "metadata": {},
     "output_type": "execute_result"
    }
   ],
   "source": [
    "e = np.ones( 10 )  #長さ10の単位ベクトル\n",
    "e"
   ]
  },
  {
   "cell_type": "code",
   "execution_count": 4,
   "metadata": {
    "colab": {
     "base_uri": "https://localhost:8080/",
     "height": 34
    },
    "colab_type": "code",
    "id": "vLl7OUFV6VSq",
    "outputId": "44edac62-9aa0-48ef-ec06-e9eac61b4934"
   },
   "outputs": [
    {
     "data": {
      "text/plain": [
       "array([0, 1, 2, 3, 4, 5, 6, 7, 8, 9])"
      ]
     },
     "execution_count": 4,
     "metadata": {},
     "output_type": "execute_result"
    }
   ],
   "source": [
    "seq = np.arange(10) #0,1,2,...9 の数列\n",
    "seq"
   ]
  },
  {
   "cell_type": "code",
   "execution_count": 5,
   "metadata": {
    "colab": {
     "base_uri": "https://localhost:8080/",
     "height": 52
    },
    "colab_type": "code",
    "id": "1bauq_y36VSu",
    "outputId": "6fbb338f-733a-4286-e4f3-078c361d4b4f"
   },
   "outputs": [
    {
     "data": {
      "text/plain": [
       "array([[0., 0.],\n",
       "       [0., 0.]])"
      ]
     },
     "execution_count": 5,
     "metadata": {},
     "output_type": "execute_result"
    }
   ],
   "source": [
    "Z =np.zeros( (2,2) ) #2行2列の0行列を生成；引数に行数，列数のタプルを入力\n",
    "Z"
   ]
  },
  {
   "cell_type": "markdown",
   "metadata": {
    "colab_type": "text",
    "id": "WMKAGt9Q6VSw"
   },
   "source": [
    "行列 $A$ の $i$ 行 $j$ 列の要素は，$A[i,j]$ でアクセスでき，代入も可能である．\n",
    "\n",
    "（Pythonではインデックスは 0  から始まることに注意．）\n",
    "\n",
    "たとえば，$3 \\times 3$ の単位行列は最初に$3 \\times 3$ の $0$ 行列を作って，後から対角成分に $1$ を代入することにより生成することができる．\n",
    "```python\n",
    "I = np.zeros( (3,3) ) \n",
    "I[0,0] =1. \n",
    "I[1,1] =1. \n",
    "I[2,2] =1.\n",
    ">>> 結果\n",
    "array([[ 1.,  0.,  0.],\n",
    "       [ 0.,  1.,  0.],\n",
    "       [ 0.,  0.,  1.]])\n",
    "```\n",
    "\n",
    "実は単位行列はeye関数を使えば1行で生成できる．\n",
    "```python\n",
    "I = np.eye(3)\n",
    "```\n",
    "\n",
    " もしくは，以下のように**for**文による反復を用いた方が，より一般的である．\n",
    " "
   ]
  },
  {
   "cell_type": "code",
   "execution_count": 6,
   "metadata": {
    "colab": {
     "base_uri": "https://localhost:8080/",
     "height": 70
    },
    "colab_type": "code",
    "id": "H86IAtyD6VSw",
    "outputId": "10f23b4d-f626-4de0-d277-0cbe8ddc11a9"
   },
   "outputs": [
    {
     "data": {
      "text/plain": [
       "array([[1., 0., 0.],\n",
       "       [0., 1., 0.],\n",
       "       [0., 0., 1.]])"
      ]
     },
     "execution_count": 6,
     "metadata": {},
     "output_type": "execute_result"
    }
   ],
   "source": [
    "I = np.zeros( (3,3) )  \n",
    "for i in range(3): \n",
    "    I[i,i]=1.0\n",
    "I"
   ]
  },
  {
   "cell_type": "markdown",
   "metadata": {
    "colab_type": "text",
    "id": "4IxQCQEF6VSz"
   },
   "source": [
    "### 問題\n",
    "\n",
    "1. 長さ $10$ の $1$ が並んだベクトルを生成せよ．\n",
    "\n",
    "2. $3$ 行 $4$ 列の $1$ だけが入った行列を生成せよ．\n",
    "\n",
    "3. $(0,1)$, $(1,2)$, $(2,0)$ の成分だけが $1$ で，他の要素が $0$ の $3 \\times 3$ 行列を生成せよ．\n",
    "\n",
    "4. $i$ 行，$i+1$ 列だけ $1$ で，他の要素が $0$ の $10 \\times 10$ 行列を生成せよ．\n",
    "（ただし最後の行はすべて $0$ である．）"
   ]
  },
  {
   "cell_type": "code",
   "execution_count": 7,
   "metadata": {
    "colab": {},
    "colab_type": "code",
    "id": "jQJHDrG56VS0"
   },
   "outputs": [
    {
     "data": {
      "text/plain": [
       "array([1., 1., 1., 1., 1., 1., 1., 1., 1., 1.])"
      ]
     },
     "execution_count": 7,
     "metadata": {},
     "output_type": "execute_result"
    }
   ],
   "source": [
    "e=np.ones(10)\n",
    "e"
   ]
  },
  {
   "cell_type": "code",
   "execution_count": 8,
   "metadata": {
    "colab": {},
    "colab_type": "code",
    "id": "Hd8B31LF6VS2"
   },
   "outputs": [
    {
     "data": {
      "text/plain": [
       "array([[1., 1., 1., 1.],\n",
       "       [1., 1., 1., 1.],\n",
       "       [1., 1., 1., 1.]])"
      ]
     },
     "execution_count": 8,
     "metadata": {},
     "output_type": "execute_result"
    }
   ],
   "source": [
    "I=np.ones((3,4))\n",
    "I[0,1]=1\n",
    "I"
   ]
  },
  {
   "cell_type": "code",
   "execution_count": 9,
   "metadata": {
    "colab": {},
    "colab_type": "code",
    "id": "IlMfgZ9n6VS4"
   },
   "outputs": [
    {
     "data": {
      "text/plain": [
       "array([[0., 1., 0.],\n",
       "       [0., 0., 1.],\n",
       "       [1., 0., 0.]])"
      ]
     },
     "execution_count": 9,
     "metadata": {},
     "output_type": "execute_result"
    }
   ],
   "source": [
    "I=np.zeros((3,3))\n",
    "I[0,1]=1\n",
    "I[1,2]=1\n",
    "I[2,0]=1\n",
    "I"
   ]
  },
  {
   "cell_type": "code",
   "execution_count": 10,
   "metadata": {
    "colab": {},
    "colab_type": "code",
    "id": "bL2ZZxoY6VS6"
   },
   "outputs": [
    {
     "data": {
      "text/plain": [
       "array([[0., 1., 0., 0., 0., 0., 0., 0., 0., 0.],\n",
       "       [0., 0., 1., 0., 0., 0., 0., 0., 0., 0.],\n",
       "       [0., 0., 0., 1., 0., 0., 0., 0., 0., 0.],\n",
       "       [0., 0., 0., 0., 1., 0., 0., 0., 0., 0.],\n",
       "       [0., 0., 0., 0., 0., 1., 0., 0., 0., 0.],\n",
       "       [0., 0., 0., 0., 0., 0., 1., 0., 0., 0.],\n",
       "       [0., 0., 0., 0., 0., 0., 0., 1., 0., 0.],\n",
       "       [0., 0., 0., 0., 0., 0., 0., 0., 1., 0.],\n",
       "       [0., 0., 0., 0., 0., 0., 0., 0., 0., 1.],\n",
       "       [0., 0., 0., 0., 0., 0., 0., 0., 0., 0.]])"
      ]
     },
     "execution_count": 10,
     "metadata": {},
     "output_type": "execute_result"
    }
   ],
   "source": [
    "I = np.zeros( (10,10) )  \n",
    "for i in range(9): \n",
    "    I[i,i+1]=1\n",
    "I"
   ]
  },
  {
   "cell_type": "markdown",
   "metadata": {
    "colab_type": "text",
    "id": "igrkYmea6VS7"
   },
   "source": [
    "# ベクトルと行列の生成（array関数の使用法）と型(shape属性)\n",
    "\n",
    "数字を自分で入れたベクトルや行列はNumPyのarray関数で生成できる．この関数の返値は多次元配列（ndarray）のオブジェクトである．\n",
    "\n",
    "引数にリストを入れて，\n",
    "```python\n",
    "v = np.array( [4,5,6] )\n",
    "```\n",
    "とすればベクトル $v = (4,5,6)$ が生成される．\n",
    "\n",
    "行列の場合には，行ごとのリストをもう1つのリストで入れ子にすることによって生成される．\n",
    "\n",
    "たとえば，\n",
    "```python\n",
    "A  = np.array( [ [1,0,0],\n",
    "               [-1, 1, 0],\n",
    "               [0, -1, 1] ] )\n",
    "```\n",
    "とすれば，$3$ 行 $3$ 列の行列 $A$ が生成される．\n",
    "\n",
    "また，引数dtypeでデータのタイプを指定できる．既定値は浮動小数点数であるが，上のようにすべて整数を入れると整数の要素をもつベクトルや配列が生成される．浮動小数点数を指定したい場合には，dtype=floatとする．\n",
    "```python\n",
    "v = np.array( [4,5,6], dtype=float) # array([4.,5.,6.])  \n",
    "```\n",
    "\n",
    "NumPyの多次元配列は型(shape)属性をもつ．たとえば，上で生成した行列 $A$ の型は $A.shape = (3,3)$ である．\n",
    "これは$3$行$3$列の行列を意味する．\n",
    "\n",
    "NumPyの多次元配列の型(shape)はshape属性にタプルを代入することによって変更できる．\n",
    "ただし要素数(size)の変更はできない．たとえば，行列 $A$ を $1$ 行 $9$ 列の行列に変更するには，\n",
    "```python\n",
    "A.shape=(1,9) # array([[ 1.,  0.,  0., -1.,  1.,  0.,  0., -1.,  1.]])\n",
    "```\n",
    "とすれば良い．\n",
    "\n",
    "上のベクトル $v$ の型 $v.shape$ はタプル $(3,)$ である．これは長さ $3$ のベクトル（列がない行列）を表す．\n",
    "$1$ 行 $3$ 列の行列とは異なることに注意されたい．$1$ 行 $3$ 列に変更するには，\n",
    "```python\n",
    "v.shape=(1,3) # array( [[4, 5, 6]] )\n",
    "```\n",
    "とする．よく見ると外側に $[]$ が1つ増えている（元は $array( [4, 5, 6] )$ だった）．\n",
    "\n"
   ]
  },
  {
   "cell_type": "markdown",
   "metadata": {
    "colab_type": "text",
    "id": "oKVUjoiM6VS8"
   },
   "source": [
    "### 問題\n",
    "\n",
    "1. 以下の行列 $A$ を $9$ 行 $1$ 列の型に変更せよ．\n",
    "2. 以下のベクトル $v$ を$3$ 行 $1$ 列の型に変更せよ．カッコがどのように変更されたか観察せよ．\n",
    "3. 以下の行列 $A$ を $4$ 行 $2$ 列に変更することを試みよ．何が発生するか観察せよ．"
   ]
  },
  {
   "cell_type": "code",
   "execution_count": 11,
   "metadata": {
    "colab": {},
    "colab_type": "code",
    "id": "30eQr0Zo6VS8"
   },
   "outputs": [],
   "source": [
    "A  = np.array( [ [1,0,0], [-1, 1, 0], [0, -1, 1] ]  )\n",
    "v = np.array( [4,5,6] )"
   ]
  },
  {
   "cell_type": "code",
   "execution_count": 12,
   "metadata": {
    "colab": {},
    "colab_type": "code",
    "id": "BgtwMFcN6VS-"
   },
   "outputs": [
    {
     "data": {
      "text/plain": [
       "array([[ 1,  0,  0, -1,  1,  0,  0, -1,  1]])"
      ]
     },
     "execution_count": 12,
     "metadata": {},
     "output_type": "execute_result"
    }
   ],
   "source": [
    "A = np.array( [ [1,0,0], [-1, 1, 0], [0, -1, 1] ]  )\n",
    "A.shape=(1,9)\n",
    "A"
   ]
  },
  {
   "cell_type": "code",
   "execution_count": 13,
   "metadata": {},
   "outputs": [
    {
     "data": {
      "text/plain": [
       "array([[4],\n",
       "       [5],\n",
       "       [6]])"
      ]
     },
     "execution_count": 13,
     "metadata": {},
     "output_type": "execute_result"
    }
   ],
   "source": [
    "v = np.array( [4,5,6] )\n",
    "v.shape=(3,1)\n",
    "v"
   ]
  },
  {
   "cell_type": "code",
   "execution_count": 14,
   "metadata": {},
   "outputs": [
    {
     "ename": "ValueError",
     "evalue": "cannot reshape array of size 9 into shape (4,2)",
     "output_type": "error",
     "traceback": [
      "\u001b[0;31m---------------------------------------------------------------------------\u001b[0m",
      "\u001b[0;31mValueError\u001b[0m                                Traceback (most recent call last)",
      "\u001b[0;32m<ipython-input-14-abbab5e37b4c>\u001b[0m in \u001b[0;36m<module>\u001b[0;34m()\u001b[0m\n\u001b[1;32m      1\u001b[0m \u001b[0mA\u001b[0m \u001b[0;34m=\u001b[0m \u001b[0mnp\u001b[0m\u001b[0;34m.\u001b[0m\u001b[0marray\u001b[0m\u001b[0;34m(\u001b[0m \u001b[0;34m[\u001b[0m \u001b[0;34m[\u001b[0m\u001b[0;36m1\u001b[0m\u001b[0;34m,\u001b[0m\u001b[0;36m0\u001b[0m\u001b[0;34m,\u001b[0m\u001b[0;36m0\u001b[0m\u001b[0;34m]\u001b[0m\u001b[0;34m,\u001b[0m \u001b[0;34m[\u001b[0m\u001b[0;34m-\u001b[0m\u001b[0;36m1\u001b[0m\u001b[0;34m,\u001b[0m \u001b[0;36m1\u001b[0m\u001b[0;34m,\u001b[0m \u001b[0;36m0\u001b[0m\u001b[0;34m]\u001b[0m\u001b[0;34m,\u001b[0m \u001b[0;34m[\u001b[0m\u001b[0;36m0\u001b[0m\u001b[0;34m,\u001b[0m \u001b[0;34m-\u001b[0m\u001b[0;36m1\u001b[0m\u001b[0;34m,\u001b[0m \u001b[0;36m1\u001b[0m\u001b[0;34m]\u001b[0m \u001b[0;34m]\u001b[0m  \u001b[0;34m)\u001b[0m\u001b[0;34m\u001b[0m\u001b[0m\n\u001b[0;32m----> 2\u001b[0;31m \u001b[0mA\u001b[0m\u001b[0;34m.\u001b[0m\u001b[0mshape\u001b[0m\u001b[0;34m=\u001b[0m\u001b[0;34m(\u001b[0m\u001b[0;36m4\u001b[0m\u001b[0;34m,\u001b[0m\u001b[0;36m2\u001b[0m\u001b[0;34m)\u001b[0m\u001b[0;34m\u001b[0m\u001b[0m\n\u001b[0m\u001b[1;32m      3\u001b[0m \u001b[0mA\u001b[0m\u001b[0;34m\u001b[0m\u001b[0m\n",
      "\u001b[0;31mValueError\u001b[0m: cannot reshape array of size 9 into shape (4,2)"
     ]
    }
   ],
   "source": [
    "A = np.array( [ [1,0,0], [-1, 1, 0], [0, -1, 1] ]  )\n",
    "A.shape=(4,2)\n",
    "A"
   ]
  },
  {
   "cell_type": "markdown",
   "metadata": {
    "colab_type": "text",
    "collapsed": true,
    "id": "SxguNZ-Y6VTA"
   },
   "source": [
    "# 添え字(インデックス）とスライシングと演算\n",
    "\n",
    "添え字とスライス表記はリストと同じ．\n",
    "```python\n",
    "L=[1,2,3,4] \n",
    "L[2]     # 3\n",
    "L[1:3]   # [2,3] \n",
    "```\n",
    "\n",
    "```python\n",
    "x= np.array([1,2,3,4]) \n",
    "x[2]     # 3\n",
    "x[1:3]   # array( [2,3] ) \n",
    "```\n",
    "\n",
    "加算の結果は異なり，リストは結合，arrayの場合は要素ごとの和になる．(他の演算子に対しても同じである．）\n",
    "```python\n",
    "[1,2,3] + [4,5,6]                         # [1,2,3,4,5,6]\n",
    "np.array( [1,2,3] ) + np.array( [4,5,6] ) # [5,7,9] \n",
    "```\n",
    "\n",
    "NumPyのarray（ベクトル）とスカラーの和は，（後述するブロードキャストが行われ）スカラーをベクトルにコピーした後に和をとり，ベクトルとなる．\n",
    "(他の演算子に対しても同じである．）\n",
    "```python\n",
    "np.array( [1,2,3] ) + 1    # [2,3,4] \n",
    "np.array( [1,2,3] ) * 10   # [10,20,30] \n",
    "```"
   ]
  },
  {
   "cell_type": "markdown",
   "metadata": {
    "colab_type": "text",
    "id": "FJSE-nhY6VTB"
   },
   "source": [
    "### 問題\n",
    "1. 以下のベクトル $x,y$ の和を計算せよ．\n",
    "2. $x$ の最初の2つの要素と $y$ の最後の2つの要素の和を計算せよ．\n",
    "3. ベクトル $x$ とスカラー $10$ との和を計算せよ．\n",
    "4. ベクトル $x$ をスカラー $3$ で乗じた値を計算せよ．\n",
    "5. $x$ と $y$ の積を計算せよ．（内積ではなく，要素ごとの積をとれ．）"
   ]
  },
  {
   "cell_type": "code",
   "execution_count": null,
   "metadata": {
    "colab": {},
    "colab_type": "code",
    "id": "dNQ3Fn6g6VTB"
   },
   "outputs": [],
   "source": [
    "x = np.array( [1, 2, 3] )\n",
    "y = np.array( [5, 6, 7] ) "
   ]
  },
  {
   "cell_type": "code",
   "execution_count": 15,
   "metadata": {
    "colab": {},
    "colab_type": "code",
    "id": "FXyIUP8U6VTF"
   },
   "outputs": [
    {
     "name": "stdout",
     "output_type": "stream",
     "text": [
      "[ 6  8 10]\n"
     ]
    }
   ],
   "source": [
    "A= np.array( [1, 2, 3] )+np.array( [5, 6, 7] )\n",
    "print(A)"
   ]
  },
  {
   "cell_type": "code",
   "execution_count": 16,
   "metadata": {},
   "outputs": [
    {
     "name": "stdout",
     "output_type": "stream",
     "text": [
      "[7 9]\n"
     ]
    }
   ],
   "source": [
    "x = np.array( [1, 2, 3] )\n",
    "y = np.array( [5, 6, 7] ) \n",
    "print(x[0:2]+y[1:3])"
   ]
  },
  {
   "cell_type": "code",
   "execution_count": 17,
   "metadata": {},
   "outputs": [
    {
     "name": "stdout",
     "output_type": "stream",
     "text": [
      "[11 12 13]\n"
     ]
    }
   ],
   "source": [
    "x = np.array( [1, 2, 3] )+10\n",
    "print(x)"
   ]
  },
  {
   "cell_type": "code",
   "execution_count": 18,
   "metadata": {},
   "outputs": [
    {
     "name": "stdout",
     "output_type": "stream",
     "text": [
      "[3 6 9]\n"
     ]
    }
   ],
   "source": [
    "x = np.array( [1, 2, 3] )*3\n",
    "print(x)"
   ]
  },
  {
   "cell_type": "code",
   "execution_count": 19,
   "metadata": {},
   "outputs": [
    {
     "name": "stdout",
     "output_type": "stream",
     "text": [
      "[ 5 12 21]\n"
     ]
    }
   ],
   "source": [
    "A= np.array( [1, 2, 3] )*np.array( [5, 6, 7] )\n",
    "print(A)"
   ]
  },
  {
   "cell_type": "markdown",
   "metadata": {
    "colab_type": "text",
    "id": "jDi68-QX6VTH"
   },
   "source": [
    "# 行列に対する添え字（インデックス）とスライシングと演算\n",
    "\n",
    "2次元の配列（行列）の添え字は**配列[行番号,列場号]**でアクセスできる．\n",
    "\n",
    "```python\n",
    "X = np.array( [[1, 2, 3],\n",
    "               [4, 5, 6],\n",
    "               [7, 8, 9]])\n",
    "X[0,1]   #　2\n",
    "```      \n",
    "\n",
    "スライシングはリストのときと同様に，** 開始番号:終了番号 ** で開始番号から終了番号 $-1$ の切り出しを行う．\n",
    "\n",
    "行と列に対して別々に切り出しを行うことができる．たとえば，すべての行(:)と1列目を指定すると，1列目だけを切り出すことができる．\n",
    "\n",
    "```python\n",
    "X[ : , 1]  #array([2, 5, 8])\n",
    "```   \n",
    "\n",
    "同様に1行目だけを切り出すには，\n",
    "```python\n",
    "X[ 1, : ]  #X[1] としても同じ！  array([4, 5, 6]) を返す．　\n",
    "```   \n",
    "とする．\n",
    "\n",
    "演算もベクトルと同様に行われる．スカラーに対する演算は，後述するブロードキャスト（同じ大きさになるようにコピーしてから演算）が行われる．"
   ]
  },
  {
   "cell_type": "markdown",
   "metadata": {
    "colab_type": "text",
    "id": "eGq_tzZ86VTI"
   },
   "source": [
    "### 問題\n",
    "\n",
    "1. 行列 $X$ の3行2列目の要素を出力せよ．\n",
    "2. 行列 $X$ の2行目だけを切り出せ．\n",
    "3. 行列 $X$ の1-2行と2-3列から成る部分行列 $[[2,3], [5,6]]$ を切り出せ．\n",
    "4. $X$ と $Y$ の和を求めよ．\n",
    "5. $X$ と $Y$ の積を求めよ．また $X$ とスカラー $1$ の積，ベクトル $(1,1,1)$ との積と較べてみよ．"
   ]
  },
  {
   "cell_type": "code",
   "execution_count": null,
   "metadata": {
    "colab": {},
    "colab_type": "code",
    "id": "28Z_Ely06VTK"
   },
   "outputs": [],
   "source": [
    "X = np.array( [[1, 2, 3],\n",
    "               [4, 5, 6],\n",
    "               [7, 8, 9]])\n",
    "Y = np.ones( (3,3) ) "
   ]
  },
  {
   "cell_type": "code",
   "execution_count": 20,
   "metadata": {
    "colab": {},
    "colab_type": "code",
    "id": "nlRFz3Gn6VTM"
   },
   "outputs": [
    {
     "data": {
      "text/plain": [
       "8"
      ]
     },
     "execution_count": 20,
     "metadata": {},
     "output_type": "execute_result"
    }
   ],
   "source": [
    "X = np.array( [[1, 2, 3],\n",
    "               [4, 5, 6],\n",
    "               [7, 8, 9]])\n",
    "X[2,1]"
   ]
  },
  {
   "cell_type": "code",
   "execution_count": 21,
   "metadata": {},
   "outputs": [
    {
     "data": {
      "text/plain": [
       "array([4, 5, 6])"
      ]
     },
     "execution_count": 21,
     "metadata": {},
     "output_type": "execute_result"
    }
   ],
   "source": [
    "X = np.array( [[1, 2, 3],\n",
    "               [4, 5, 6],\n",
    "               [7, 8, 9]])\n",
    "X[1,:]"
   ]
  },
  {
   "cell_type": "code",
   "execution_count": 22,
   "metadata": {},
   "outputs": [
    {
     "data": {
      "text/plain": [
       "array([[2, 3],\n",
       "       [5, 6]])"
      ]
     },
     "execution_count": 22,
     "metadata": {},
     "output_type": "execute_result"
    }
   ],
   "source": [
    "X = np.array( [[1, 2, 3],\n",
    "               [4, 5, 6],\n",
    "               [7, 8, 9]])\n",
    "X[0:2,1:3]"
   ]
  },
  {
   "cell_type": "code",
   "execution_count": 23,
   "metadata": {},
   "outputs": [
    {
     "name": "stdout",
     "output_type": "stream",
     "text": [
      "[[ 2.  3.  4.]\n",
      " [ 5.  6.  7.]\n",
      " [ 8.  9. 10.]]\n"
     ]
    }
   ],
   "source": [
    "X = np.array( [[1, 2, 3],\n",
    "               [4, 5, 6],\n",
    "               [7, 8, 9]])\n",
    "Y = np.ones( (3,3) ) \n",
    "\n",
    "print(X+Y)\n",
    "\n"
   ]
  },
  {
   "cell_type": "code",
   "execution_count": 24,
   "metadata": {},
   "outputs": [
    {
     "name": "stdout",
     "output_type": "stream",
     "text": [
      "[[1. 2. 3.]\n",
      " [4. 5. 6.]\n",
      " [7. 8. 9.]]\n",
      "[[1 2 3]\n",
      " [4 5 6]\n",
      " [7 8 9]]\n",
      "[[1. 2. 3.]\n",
      " [4. 5. 6.]\n",
      " [7. 8. 9.]]\n"
     ]
    }
   ],
   "source": [
    "X = np.array( [[1, 2, 3],\n",
    "               [4, 5, 6],\n",
    "               [7, 8, 9]])\n",
    "Y = np.ones( (3,3) ) \n",
    "\n",
    "print(X*Y)\n",
    "print(X*1)\n",
    "Z=np.ones((1,3))\n",
    "print(X*Z)"
   ]
  },
  {
   "cell_type": "markdown",
   "metadata": {
    "colab_type": "text",
    "id": "My86sHSq6VTN"
   },
   "source": [
    "# ユニバーサル関数\n",
    "\n",
    "NumPyの以下の関数はユニバーサル関数である．\n",
    "\n",
    "- Arithmetic Operators: + - * / // % **\n",
    "- Bitwise Operators: & | ~ ^ >> <<\n",
    "- Comparison Oper’s: < > <= >= == !=\n",
    "- Trig Family: np.sin, np.cos, np.tan ...\n",
    "- Exponential Family: np.exp, np.log, np.log10 ...\n",
    "\n",
    "これらを用いることによって多次元配列の各要素に対する演算を高速に行うことができる．\n",
    "\n",
    "たとえば，0から10000-1の整数の配列に対して，すべての要素に $5$ を加えるには，以下のようにする．\n",
    "\n",
    "```python\n",
    "x = np.arange(10000) #0から10000-1の整数の配列を生成\n",
    "x + 5 # スカラーを加えると後述のブロードキャストによって全ての要素にスカラーが足される\n",
    "```\n",
    "\n",
    "同じ配列に対して平方根をとるには，\n",
    "```python\n",
    "np.sqrt(x)\n",
    "```\n",
    "とする．NumPyモジュールのsqrt関数はユニバーサル関数なので，すべての要素に対して平方根を計算して返す．\n",
    "（数学モジュールmathの平方根だとエラーする．）"
   ]
  },
  {
   "cell_type": "code",
   "execution_count": null,
   "metadata": {
    "colab": {},
    "colab_type": "code",
    "id": "rcpE5fIS6VTN"
   },
   "outputs": [],
   "source": []
  },
  {
   "cell_type": "markdown",
   "metadata": {
    "colab_type": "text",
    "id": "XrBSz9IR6VTP"
   },
   "source": [
    "### 問題\n",
    "\n",
    "1. 0から99の整数が入った配列を生成し，正弦(sin）を計算せよ．\n",
    "2. 1から999の整数が入った配列の要素を2倍し，それに対数(log)をとったものに100を加えた配列を生成せよ．"
   ]
  },
  {
   "cell_type": "code",
   "execution_count": 25,
   "metadata": {
    "colab": {},
    "colab_type": "code",
    "id": "Mw-Bf03c6VTQ"
   },
   "outputs": [
    {
     "name": "stdout",
     "output_type": "stream",
     "text": [
      "0.0\n",
      "0.01745240643728351\n",
      "0.03489949670250097\n",
      "0.05233595624294383\n",
      "0.0697564737441253\n",
      "0.08715574274765817\n",
      "0.10452846326765346\n",
      "0.12186934340514748\n",
      "0.13917310096006544\n",
      "0.15643446504023087\n",
      "0.17364817766693033\n",
      "0.1908089953765448\n",
      "0.20791169081775931\n",
      "0.224951054343865\n",
      "0.24192189559966773\n",
      "0.25881904510252074\n",
      "0.27563735581699916\n",
      "0.29237170472273677\n",
      "0.3090169943749474\n",
      "0.32556815445715664\n",
      "0.3420201433256687\n",
      "0.35836794954530027\n",
      "0.374606593415912\n",
      "0.3907311284892737\n",
      "0.40673664307580015\n",
      "0.42261826174069944\n",
      "0.4383711467890774\n",
      "0.45399049973954675\n",
      "0.4694715627858908\n",
      "0.48480962024633706\n",
      "0.49999999999999994\n",
      "0.5150380749100542\n",
      "0.5299192642332049\n",
      "0.5446390350150271\n",
      "0.5591929034707469\n",
      "0.573576436351046\n",
      "0.5877852522924731\n",
      "0.6018150231520483\n",
      "0.6156614753256582\n",
      "0.6293203910498374\n",
      "0.6427876096865393\n",
      "0.6560590289905072\n",
      "0.6691306063588582\n",
      "0.6819983600624985\n",
      "0.6946583704589973\n",
      "0.7071067811865475\n",
      "0.7193398003386511\n",
      "0.7313537016191705\n",
      "0.7431448254773941\n",
      "0.754709580222772\n",
      "0.766044443118978\n",
      "0.7771459614569708\n",
      "0.788010753606722\n",
      "0.7986355100472928\n",
      "0.8090169943749475\n",
      "0.8191520442889918\n",
      "0.8290375725550417\n",
      "0.8386705679454239\n",
      "0.848048096156426\n",
      "0.8571673007021122\n",
      "0.8660254037844386\n",
      "0.8746197071393957\n",
      "0.8829475928589269\n",
      "0.8910065241883678\n",
      "0.898794046299167\n",
      "0.9063077870366499\n",
      "0.9135454576426009\n",
      "0.9205048534524403\n",
      "0.9271838545667874\n",
      "0.9335804264972017\n",
      "0.9396926207859083\n",
      "0.9455185755993167\n",
      "0.9510565162951535\n",
      "0.9563047559630354\n",
      "0.9612616959383189\n",
      "0.9659258262890683\n",
      "0.9702957262759965\n",
      "0.9743700647852352\n",
      "0.9781476007338056\n",
      "0.981627183447664\n",
      "0.984807753012208\n",
      "0.9876883405951378\n",
      "0.9902680687415703\n",
      "0.992546151641322\n",
      "0.9945218953682733\n",
      "0.9961946980917455\n",
      "0.9975640502598242\n",
      "0.9986295347545738\n",
      "0.9993908270190958\n",
      "0.9998476951563913\n",
      "1.0\n",
      "0.9998476951563913\n",
      "0.9993908270190958\n",
      "0.9986295347545738\n",
      "0.9975640502598242\n",
      "0.9961946980917455\n",
      "0.9945218953682734\n",
      "0.9925461516413221\n",
      "0.9902680687415704\n",
      "0.9876883405951377\n"
     ]
    }
   ],
   "source": [
    "A=np.arange(100)\n",
    "for i in A:\n",
    "    S=np.sin(np.pi*i/180)\n",
    "    print(S)"
   ]
  },
  {
   "cell_type": "code",
   "execution_count": 26,
   "metadata": {
    "colab": {},
    "colab_type": "code",
    "id": "uCgbrJJD6VTR"
   },
   "outputs": [
    {
     "name": "stdout",
     "output_type": "stream",
     "text": [
      "-inf\n",
      "100.69314718055995\n",
      "101.3862943611199\n",
      "101.79175946922805\n",
      "102.07944154167984\n",
      "102.30258509299405\n",
      "102.484906649788\n",
      "102.63905732961526\n",
      "102.77258872223977\n",
      "102.89037175789616\n",
      "102.995732273554\n",
      "103.09104245335831\n",
      "103.17805383034795\n",
      "103.25809653802148\n",
      "103.3322045101752\n",
      "103.40119738166216\n",
      "103.46573590279972\n",
      "103.52636052461617\n",
      "103.58351893845611\n",
      "103.63758615972638\n",
      "103.68887945411393\n",
      "103.73766961828336\n",
      "103.78418963391826\n",
      "103.82864139648909\n",
      "103.8712010109079\n",
      "103.91202300542814\n",
      "103.95124371858142\n",
      "103.98898404656427\n",
      "104.02535169073515\n",
      "104.06044301054642\n",
      "104.0943445622221\n",
      "104.1271343850451\n",
      "104.15888308335967\n",
      "104.18965474202642\n",
      "104.21950770517611\n",
      "104.24849524204936\n",
      "104.27666611901606\n",
      "104.30406509320417\n",
      "104.33073334028633\n",
      "104.3567088266896\n",
      "104.38202663467388\n",
      "104.40671924726425\n",
      "104.43081679884331\n",
      "104.4543472962535\n",
      "104.4773368144782\n",
      "104.49980967033027\n",
      "104.52178857704904\n",
      "104.54329478227001\n",
      "104.56434819146784\n",
      "104.58496747867058\n",
      "104.60517018598809\n",
      "104.62497281328427\n",
      "104.64439089914137\n",
      "104.66343909411206\n",
      "104.68213122712422\n",
      "104.70048036579242\n",
      "104.7184988712951\n",
      "104.73619844839449\n",
      "104.75359019110637\n",
      "104.77068462446566\n",
      "104.78749174278205\n",
      "104.80402104473326\n",
      "104.82028156560504\n",
      "104.83628190695148\n",
      "104.85203026391962\n",
      "104.86753445045558\n",
      "104.88280192258637\n",
      "104.89783979995092\n",
      "104.91265488573605\n",
      "104.92725368515721\n",
      "104.9416424226093\n",
      "104.95582705760125\n",
      "104.969813299576\n",
      "104.98360662170833\n",
      "104.99721227376412\n",
      "105.01063529409626\n",
      "105.02388052084628\n",
      "105.03695260241363\n",
      "105.04985600724953\n",
      "105.06259503302697\n",
      "105.07517381523382\n",
      "105.08759633523238\n",
      "105.0998664278242\n",
      "105.11198778835654\n",
      "105.12396397940326\n",
      "105.13579843705025\n",
      "105.14749447681345\n",
      "105.15905529921453\n",
      "105.17048399503815\n",
      "105.18178355029208\n",
      "105.19295685089021\n",
      "105.2040066870768\n",
      "105.21493575760898\n",
      "105.2257466737132\n",
      "105.23644196282994\n",
      "105.24702407216049\n",
      "105.25749537202778\n",
      "105.26785815906332\n",
      "105.27811465923051\n",
      "105.28826703069454\n"
     ]
    },
    {
     "name": "stderr",
     "output_type": "stream",
     "text": [
      "/usr/local/JupyterHub/lib/python3.5/site-packages/ipykernel_launcher.py:5: RuntimeWarning: divide by zero encountered in log\n",
      "  \"\"\"\n"
     ]
    }
   ],
   "source": [
    "import numpy as np\n",
    "A=np.arange(100)\n",
    "B=A*2\n",
    "for i in B:\n",
    "    S=np.log(i)+100\n",
    "    print(S)"
   ]
  },
  {
   "cell_type": "markdown",
   "metadata": {
    "colab_type": "text",
    "id": "tNIe__Zw6VTS"
   },
   "source": [
    "# NumPyの擬似乱数発生サブモジュール random \n",
    "\n",
    "通常のrandomモジュールと類似の擬似乱数がNumPyでも生成できる．\n",
    "\n",
    "ただし引数sizeでランダムな要素をもつ配列を一度に生成できる．\n",
    "\n",
    "たとえば，5つの[0,1)の一様乱数の生成は以下のようになる．\n",
    "```python \n",
    "np.random.random(size=5) # array([ 0.19672059,  0.91704669,  0.05184376,  0.13490049,  0.13663051])\n",
    "```\n",
    "\n",
    "整数の乱数を生成するにはrandintを用いる．引数は通常の下限(low)，上限(high)の他に，sizeを指定できる．\n",
    "sizeにタプルを入れると多次元の配列が生成される．\n",
    "```python \n",
    "np.random.randint(1, 6, size=(3,3))\n",
    ">>> 結果\n",
    "array([[4, 5, 5],\n",
    "       [1, 4, 1],\n",
    "       [1, 4, 1]])\n",
    "```\n",
    "\n",
    "正規分布にしたがうランダムな値を得るにはnormalが使える．\n",
    "```python\n",
    "np.random.normal(100,10,(2,2)) #平均100，標準偏差10にしたがう正規乱数を2行2列の行列に入れる\n",
    ">>> 結果\n",
    "array([[ 92.24228997,  85.74292368],\n",
    "       [ 83.08779098,  99.39865564]])\n",
    "```\n",
    "他にも様々な分布にしたがうランダムな値を生成できる．"
   ]
  },
  {
   "cell_type": "markdown",
   "metadata": {
    "colab_type": "text",
    "id": "E1E9bnwT6VTS"
   },
   "source": [
    "### 問題\n",
    "\n",
    "1. さいころを $10$回振ったシミュレーション結果を表す配列を生成せよ．\n",
    "2. 平均 $10$，標準偏差 $10$ の正規乱数を $10 \\times 10$ の行列に入れよ．"
   ]
  },
  {
   "cell_type": "code",
   "execution_count": 27,
   "metadata": {
    "colab": {},
    "colab_type": "code",
    "id": "WZG457m46VTT"
   },
   "outputs": [
    {
     "data": {
      "text/plain": [
       "array([1, 4, 4, 6, 5, 1, 3, 1, 2, 1])"
      ]
     },
     "execution_count": 27,
     "metadata": {},
     "output_type": "execute_result"
    }
   ],
   "source": [
    "np.random.randint(1,7,size=10)"
   ]
  },
  {
   "cell_type": "code",
   "execution_count": 28,
   "metadata": {},
   "outputs": [
    {
     "data": {
      "text/plain": [
       "array([[ 2.77875838e+01,  1.08413344e+01,  1.93603797e+01,\n",
       "         5.19742408e+00, -6.75188219e+00,  9.95784016e+00,\n",
       "         2.00220368e+01,  1.13946474e+01,  1.68481722e+01,\n",
       "         4.71326101e+00],\n",
       "       [ 8.12554358e+00,  1.38817527e+01,  9.32996806e+00,\n",
       "         3.14741125e+00, -1.48030341e+01,  2.48697234e+01,\n",
       "         1.70887416e+00,  1.43369490e+01,  2.28542606e+01,\n",
       "         6.35823158e+00],\n",
       "       [ 1.52340231e+00,  1.53573178e+01,  3.19154562e+00,\n",
       "         2.20528333e+00,  1.34505614e+01,  1.67187202e+01,\n",
       "         2.22517318e+01,  2.42137212e+01, -2.41788137e-02,\n",
       "         3.74907359e+00],\n",
       "       [ 3.36371358e+00,  1.10807572e+01,  6.35278591e+00,\n",
       "         5.44225045e+00,  1.28008027e+01, -2.40761477e-01,\n",
       "         1.45090801e+01,  8.63779318e+00,  1.44780189e+01,\n",
       "         2.00337701e+01],\n",
       "       [ 2.61344449e+01,  1.45032866e+01,  5.34062240e-02,\n",
       "         1.89102060e+01,  1.01940491e+01,  1.50870606e+01,\n",
       "         1.71231129e+01,  5.40670190e+00, -1.25764262e+01,\n",
       "         1.69504354e+01],\n",
       "       [-6.72965807e+00, -9.35378306e+00,  3.18711876e+00,\n",
       "         4.24183532e+00, -3.58678066e+00, -2.83932908e+00,\n",
       "         2.28895073e+01,  5.28674682e+00,  1.34679790e+01,\n",
       "         8.55736924e+00],\n",
       "       [-5.42160897e+00, -2.92536670e+00,  1.93928463e+01,\n",
       "         1.68608491e+01,  1.69180217e+01,  1.83957177e+01,\n",
       "         1.70061074e+01,  8.05582339e+00,  7.67984219e+00,\n",
       "         2.87143448e+00],\n",
       "       [ 8.83038137e+00,  1.62230502e+01,  9.85160638e+00,\n",
       "         1.68188193e+01,  2.90274566e+00,  1.84757754e+01,\n",
       "         3.13436182e+00,  1.29131135e+01, -1.39535127e+01,\n",
       "         2.95784587e+01],\n",
       "       [ 1.07009893e+01,  9.15216932e+00,  2.23913752e+00,\n",
       "         9.46650203e+00,  1.33686856e+01,  6.10160657e+00,\n",
       "         3.37681927e+00,  2.21282761e+00,  1.65870398e+01,\n",
       "         2.06790728e+01],\n",
       "       [ 1.17550378e+01, -2.49499133e+00,  2.30445155e+00,\n",
       "        -1.19698937e+00,  8.39613804e+00,  8.50540573e+00,\n",
       "        -4.69022668e+00,  1.01556294e+01, -1.37753562e+01,\n",
       "         4.92964879e+00]])"
      ]
     },
     "execution_count": 28,
     "metadata": {},
     "output_type": "execute_result"
    }
   ],
   "source": [
    "np.random.normal(10,10,(10,10))"
   ]
  },
  {
   "cell_type": "markdown",
   "metadata": {
    "colab_type": "text",
    "id": "nI1GTvkf6VTV"
   },
   "source": [
    "# 集約関数\n",
    "\n",
    "NumPyの関数で多次元配列内の値を集約して計算してくれるものがある．\n",
    "```python\n",
    "min, max, sum, mean, average, argmin, argmax, std などなど\n",
    "```"
   ]
  },
  {
   "cell_type": "code",
   "execution_count": 29,
   "metadata": {
    "colab": {
     "base_uri": "https://localhost:8080/",
     "height": 34
    },
    "colab_type": "code",
    "id": "cx7FJF2Y6VTW",
    "outputId": "2b532e2c-968d-4584-a4db-3fc065d8945a"
   },
   "outputs": [
    {
     "data": {
      "text/plain": [
       "array([64, 13,  1, 69, 29, 15, 32, 74, 98, 74])"
      ]
     },
     "execution_count": 29,
     "metadata": {},
     "output_type": "execute_result"
    }
   ],
   "source": [
    "x =np.random.randint(low=1, high=100, size=10)\n",
    "x"
   ]
  },
  {
   "cell_type": "code",
   "execution_count": 30,
   "metadata": {
    "colab": {
     "base_uri": "https://localhost:8080/",
     "height": 34
    },
    "colab_type": "code",
    "id": "XsvIlcOA6VTY",
    "outputId": "616bd469-a280-47d0-f5ee-5d7dd6b32fd4"
   },
   "outputs": [
    {
     "data": {
      "text/plain": [
       "1"
      ]
     },
     "execution_count": 30,
     "metadata": {},
     "output_type": "execute_result"
    }
   ],
   "source": [
    "np.min(x)   #最小値を求める"
   ]
  },
  {
   "cell_type": "code",
   "execution_count": 31,
   "metadata": {
    "colab": {
     "base_uri": "https://localhost:8080/",
     "height": 34
    },
    "colab_type": "code",
    "id": "MJf-bEBM6VTa",
    "outputId": "7d60dcc0-ea82-41a7-caca-018061a01731"
   },
   "outputs": [
    {
     "data": {
      "text/plain": [
       "2"
      ]
     },
     "execution_count": 31,
     "metadata": {},
     "output_type": "execute_result"
    }
   ],
   "source": [
    "np.argmin(x) #最小値になるインデックス"
   ]
  },
  {
   "cell_type": "code",
   "execution_count": 32,
   "metadata": {
    "colab": {
     "base_uri": "https://localhost:8080/",
     "height": 34
    },
    "colab_type": "code",
    "id": "5b-GKTDc6VTb",
    "outputId": "41a889a9-cd19-4dba-a726-7323a3e85fb5"
   },
   "outputs": [
    {
     "data": {
      "text/plain": [
       "469"
      ]
     },
     "execution_count": 32,
     "metadata": {},
     "output_type": "execute_result"
    }
   ],
   "source": [
    "np.sum(x)  #合計を求める"
   ]
  },
  {
   "cell_type": "code",
   "execution_count": 33,
   "metadata": {
    "colab": {
     "base_uri": "https://localhost:8080/",
     "height": 34
    },
    "colab_type": "code",
    "id": "be9ZlrXR6VTd",
    "outputId": "0eb272d2-6d31-49cc-fc5c-790ed7752f8a"
   },
   "outputs": [
    {
     "data": {
      "text/plain": [
       "31.107716084598692"
      ]
     },
     "execution_count": 33,
     "metadata": {},
     "output_type": "execute_result"
    }
   ],
   "source": [
    "np.std(x) #標準偏差を求める"
   ]
  },
  {
   "cell_type": "code",
   "execution_count": 34,
   "metadata": {
    "colab": {
     "base_uri": "https://localhost:8080/",
     "height": 70
    },
    "colab_type": "code",
    "id": "GsRSi5Kw6VTg",
    "outputId": "1718aacd-4557-4b15-9657-0123d90956d2"
   },
   "outputs": [
    {
     "data": {
      "text/plain": [
       "array([[69, 79, 42, 98, 59],\n",
       "       [30, 84, 87, 75, 90],\n",
       "       [96, 94, 97, 18, 86]])"
      ]
     },
     "execution_count": 34,
     "metadata": {},
     "output_type": "execute_result"
    }
   ],
   "source": [
    "A =np.random.randint(low=1,high=100, size=(3,5)) #ランダムな要素を含んだ行列 A を生成\n",
    "A"
   ]
  },
  {
   "cell_type": "code",
   "execution_count": 35,
   "metadata": {
    "colab": {
     "base_uri": "https://localhost:8080/",
     "height": 34
    },
    "colab_type": "code",
    "id": "E7Xq8aVJ6VTj",
    "outputId": "6573944c-4f9e-4d38-85e5-002b9834a662"
   },
   "outputs": [
    {
     "data": {
      "text/plain": [
       "array([195, 257, 226, 191, 235])"
      ]
     },
     "execution_count": 35,
     "metadata": {},
     "output_type": "execute_result"
    }
   ],
   "source": [
    "np.sum(A, axis=0) #行方向（軸番号=0)で合計"
   ]
  },
  {
   "cell_type": "code",
   "execution_count": 36,
   "metadata": {
    "colab": {
     "base_uri": "https://localhost:8080/",
     "height": 34
    },
    "colab_type": "code",
    "id": "wlSVbeXB6VTk",
    "outputId": "9edafe08-b47f-4a44-b528-c5ae5af6bc33"
   },
   "outputs": [
    {
     "data": {
      "text/plain": [
       "array([347, 366, 391])"
      ]
     },
     "execution_count": 36,
     "metadata": {},
     "output_type": "execute_result"
    }
   ],
   "source": [
    "np.sum(A, axis=1) #列方向（軸番号=1)で合計"
   ]
  },
  {
   "cell_type": "markdown",
   "metadata": {
    "colab_type": "text",
    "id": "1Beu5b1N6VTm"
   },
   "source": [
    "### 問題\n",
    "\n",
    "1. 上の行列Aの行ごとの最小値を求めよ．\n",
    "2. 同じ行列の列ごとの最小値を求めよ．\n",
    "3. さいころを $10$回振ったときの結果の配列を作成し，試行の中の最小値，最大値，平均値を出力せよ．\n",
    "4. 平均 $10$，標準偏差 $10$ の正規乱数を $10 \\times 10$ の行列に入れ，全体の平均，行ごとの平均を出力せよ．\n"
   ]
  },
  {
   "cell_type": "code",
   "execution_count": 37,
   "metadata": {
    "colab": {},
    "colab_type": "code",
    "id": "0bhREI8e6VTn"
   },
   "outputs": [
    {
     "name": "stdout",
     "output_type": "stream",
     "text": [
      "[[47 45 91 64 12]\n",
      " [88 27 79 50 10]\n",
      " [25 40  4 15 41]]\n"
     ]
    },
    {
     "data": {
      "text/plain": [
       "array([25, 27,  4, 15, 10])"
      ]
     },
     "execution_count": 37,
     "metadata": {},
     "output_type": "execute_result"
    }
   ],
   "source": [
    "A =np.random.randint(low=1,high=100, size=(3,5))\n",
    "print(A)\n",
    "np.min(A,axis=0)"
   ]
  },
  {
   "cell_type": "code",
   "execution_count": 38,
   "metadata": {
    "colab": {},
    "colab_type": "code",
    "id": "Y9QkqvLY6VTo"
   },
   "outputs": [
    {
     "name": "stdout",
     "output_type": "stream",
     "text": [
      "[[60 86 53 64 19]\n",
      " [51 22 22 61 84]\n",
      " [44 32 77  1 16]]\n"
     ]
    },
    {
     "data": {
      "text/plain": [
       "array([19, 22,  1])"
      ]
     },
     "execution_count": 38,
     "metadata": {},
     "output_type": "execute_result"
    }
   ],
   "source": [
    "A =np.random.randint(low=1,high=100, size=(3,5))\n",
    "print(A)\n",
    "np.min(A,axis=1)"
   ]
  },
  {
   "cell_type": "code",
   "execution_count": 39,
   "metadata": {},
   "outputs": [
    {
     "name": "stdout",
     "output_type": "stream",
     "text": [
      "[1 6 2 1 2 3 1 6 3 4]\n",
      "1 6 2.9\n"
     ]
    }
   ],
   "source": [
    "A=np.random.randint(1,7,size=10)\n",
    "print(A)\n",
    "print(np.min(A),np.max(A),np.average(A))"
   ]
  },
  {
   "cell_type": "code",
   "execution_count": 40,
   "metadata": {},
   "outputs": [
    {
     "name": "stdout",
     "output_type": "stream",
     "text": [
      "11.060282696426734\n",
      "[12.52498953  8.62513809  9.08609854 15.72604769 10.2240617  10.21040377\n",
      "  9.17210009  9.53572512 12.80512236 12.69314008]\n"
     ]
    }
   ],
   "source": [
    "Z=np.random.normal(10,10,(10,10))\n",
    "print(np.average(Z))\n",
    "print(np.average(Z,axis=1))"
   ]
  },
  {
   "cell_type": "markdown",
   "metadata": {
    "colab_type": "text",
    "id": "R-ajFYSA6VTp"
   },
   "source": [
    "# ブロードキャスト\n",
    "\n",
    "```python\n",
    " 多次元配列 = 多次元配列 + スカラー\n",
    "```\n",
    "になるのは，同じ型になるように変形してから演算を行うためである．\n",
    "\n",
    "\n",
    "``` python\n",
    "x= np.arange(5)  # [0 1 2 3 4]  型は (5,)\n",
    "x + 10           # 結果は array([10, 11, 12, 13, 14])\n",
    "```\n",
    "\n",
    "スカラー10をxと同じ型(5,)になるようにコピーしてから加算をしている．\n",
    "``` python\n",
    "x+ np.array([10,10,10,10,10]) #スカラー10を1次元配列にしてから，同じ長さになるまでコピー（ブロードキャスト）\n",
    "```\n",
    "\n",
    "同様に3行3列の行列 A と長さ3のベクトルxの加算を試してみる．"
   ]
  },
  {
   "cell_type": "code",
   "execution_count": 41,
   "metadata": {
    "colab": {
     "base_uri": "https://localhost:8080/",
     "height": 105
    },
    "colab_type": "code",
    "id": "vzGJICsK6VTp",
    "outputId": "72c69e6f-ffad-444c-e989-ef86672a7d51"
   },
   "outputs": [
    {
     "name": "stdout",
     "output_type": "stream",
     "text": [
      "A= [[1. 1. 1.]\n",
      " [1. 1. 1.]\n",
      " [1. 1. 1.]]\n",
      "x= [10 20 30]\n",
      "(3, 3) (3,)\n"
     ]
    }
   ],
   "source": [
    "A = np.ones( (3,3) )\n",
    "x = np.array( [10,20,30])\n",
    "print( 'A=', A)\n",
    "print( 'x=', x)\n",
    "print(A.shape, x.shape)"
   ]
  },
  {
   "cell_type": "code",
   "execution_count": 42,
   "metadata": {
    "colab": {
     "base_uri": "https://localhost:8080/",
     "height": 70
    },
    "colab_type": "code",
    "id": "HUD-fNAt6VTs",
    "outputId": "81252439-6d6b-4b07-86c7-c58dbb1d6ff2"
   },
   "outputs": [
    {
     "data": {
      "text/plain": [
       "array([[11., 21., 31.],\n",
       "       [11., 21., 31.],\n",
       "       [11., 21., 31.]])"
      ]
     },
     "execution_count": 42,
     "metadata": {},
     "output_type": "execute_result"
    }
   ],
   "source": [
    "A+x #ブロードキャストを用いた加算"
   ]
  },
  {
   "cell_type": "code",
   "execution_count": 43,
   "metadata": {
    "colab": {
     "base_uri": "https://localhost:8080/",
     "height": 70
    },
    "colab_type": "code",
    "id": "-0H_XP8m6VTx",
    "outputId": "4a55962a-c1f1-41d0-bbf4-5979f65b1e95"
   },
   "outputs": [
    {
     "data": {
      "text/plain": [
       "array([[11., 21., 31.],\n",
       "       [11., 21., 31.],\n",
       "       [11., 21., 31.]])"
      ]
     },
     "execution_count": 43,
     "metadata": {},
     "output_type": "execute_result"
    }
   ],
   "source": [
    "A+np.array( [[10,20,30], \n",
    "             [10,20,30],\n",
    "             [10,20,30]] ) #[10,20,30] のコピーを作成してから加算"
   ]
  },
  {
   "cell_type": "code",
   "execution_count": 44,
   "metadata": {
    "colab": {
     "base_uri": "https://localhost:8080/",
     "height": 105
    },
    "colab_type": "code",
    "id": "c6lJWP_K6VTz",
    "outputId": "29837bb5-35f4-481b-efe0-8f9780db0c2d"
   },
   "outputs": [
    {
     "name": "stdout",
     "output_type": "stream",
     "text": [
      "x= [[1.]\n",
      " [2.]\n",
      " [3.]]\n",
      "y= [10 20 30]\n",
      "(3, 1) (3,)\n"
     ]
    }
   ],
   "source": [
    "x = np.array( [[1.,2,3]] ).T  #3行1列の行列（縦ベクトル）\n",
    "y = np.array( [10,20,30])     #長さ3の横ベクトル\n",
    "print(\"x=\",x)\n",
    "print(\"y=\",y)\n",
    "print(x.shape, y.shape)"
   ]
  },
  {
   "cell_type": "code",
   "execution_count": 45,
   "metadata": {
    "colab": {
     "base_uri": "https://localhost:8080/",
     "height": 70
    },
    "colab_type": "code",
    "id": "DAS30aB86VT1",
    "outputId": "8a2e4114-7c2a-4b36-e742-627076bb709c"
   },
   "outputs": [
    {
     "data": {
      "text/plain": [
       "array([[11., 21., 31.],\n",
       "       [12., 22., 32.],\n",
       "       [13., 23., 33.]])"
      ]
     },
     "execution_count": 45,
     "metadata": {},
     "output_type": "execute_result"
    }
   ],
   "source": [
    "x+y #ブロードキャストによる加算"
   ]
  },
  {
   "cell_type": "code",
   "execution_count": 46,
   "metadata": {
    "colab": {
     "base_uri": "https://localhost:8080/",
     "height": 70
    },
    "colab_type": "code",
    "id": "XMLAM_bT6VT2",
    "outputId": "82a9707b-a171-4347-84ee-5750434840bb"
   },
   "outputs": [
    {
     "data": {
      "text/plain": [
       "array([[11, 21, 31],\n",
       "       [12, 22, 32],\n",
       "       [13, 23, 33]])"
      ]
     },
     "execution_count": 46,
     "metadata": {},
     "output_type": "execute_result"
    }
   ],
   "source": [
    "np.array([[1,1,1],\n",
    "          [2,2,2],\n",
    "          [3,3,3]])+np.array( [[10,20,30], \n",
    "                              [10,20,30],\n",
    "                             [10,20,30]] ) #コピーを作成してから加算 "
   ]
  },
  {
   "cell_type": "markdown",
   "metadata": {
    "colab_type": "text",
    "id": "5McKFQM16VT5"
   },
   "source": [
    "# インデックス配列\n",
    "\n",
    "NumPyでは，添え字を別の配列で指定できる．この機能はpandasでよく使うので，慣れておく必要がある．\n",
    "\n",
    "添え字の配列（もしくはリスト）を用いて配列 $x$ から添え字に対応する要素を取り出す．\n",
    "\n",
    "```python \n",
    "x = np.array( [1,2,3,4,5,6] )\n",
    "ind = np.array( [1,3,5] )  # リスト [1,3,5] でも同じ\n",
    "x[ind]\n",
    "\n",
    ">>> 結果\n",
    "array([2, 4, 6])\n",
    "```\n",
    "\n",
    "NumPyの配列に対して要素がTrueかFalseになる条件式を書くと，要素がTrueかFalseの配列が生成される．\n",
    "これをBoolインデックス配列とよぶ．\n",
    "```python \n",
    "x = np.array( [1,2,3,4,5,6] )\n",
    "x%2 == 1 #2で割ったときの余りが1か？\n",
    "\n",
    ">>> 結果\n",
    "array([ True, False,  True, False,  True, False], dtype=bool)\n",
    "```\n",
    "\n",
    "この配列の要素がTrueの部分だけを切り出すことができる．\n",
    "```python \n",
    "x = np.array( [1,2,3,4,5,6] )\n",
    "bool_index = x%2 == 1 \n",
    "x[ bool_index ]\n",
    "\n",
    ">>> 結果\n",
    "array([1, 3, 5])\n",
    "```\n",
    "\n",
    "これを1行で行うと\n",
    "```python \n",
    " x[ x%2==1 ]\n",
    "```\n",
    "と書ける．\n",
    "\n",
    "複数の論理条件を入れる場合には，集合(set)に対する演算子を用いる．\n",
    "\n",
    "かつ（and）は &，または（or）は | である．論理条件には必ず( )をつけて区分を明確にする．\n",
    "たとえば，偶数で $4$以上のものを切り出すには，\n",
    "```python \n",
    "x[ (x%2==0) & (x>=4) ] # array([4, 6])\n",
    "```\n",
    "とする．\n",
    "\n",
    "例として，ランダムに生成した長さ10の配列から，条件を満たすものを切り出してみる．\n"
   ]
  },
  {
   "cell_type": "code",
   "execution_count": 47,
   "metadata": {
    "colab": {
     "base_uri": "https://localhost:8080/",
     "height": 34
    },
    "colab_type": "code",
    "id": "JPtBnDVu6VT5",
    "outputId": "84e447c5-187a-4765-9d2b-537623518f82"
   },
   "outputs": [
    {
     "data": {
      "text/plain": [
       "array([35, 10, 32, 46, 77, 26, 84, 87, 16, 96])"
      ]
     },
     "execution_count": 47,
     "metadata": {},
     "output_type": "execute_result"
    }
   ],
   "source": [
    "x = np.random.randint(low=1,high=100, size=10) #[1,99]の一様乱数による配列\n",
    "x"
   ]
  },
  {
   "cell_type": "code",
   "execution_count": 48,
   "metadata": {
    "colab": {
     "base_uri": "https://localhost:8080/",
     "height": 52
    },
    "colab_type": "code",
    "id": "I1MxIsKM6VT6",
    "outputId": "f69ec732-3e90-4460-d3e2-9464c33f01e5"
   },
   "outputs": [
    {
     "data": {
      "text/plain": [
       "array([False,  True, False, False, False,  True, False, False,  True,\n",
       "       False])"
      ]
     },
     "execution_count": 48,
     "metadata": {},
     "output_type": "execute_result"
    }
   ],
   "source": [
    "bool_index = x < 30  #条件を満たすなら True の配列(Boolインデックス配列)\n",
    "bool_index"
   ]
  },
  {
   "cell_type": "code",
   "execution_count": 49,
   "metadata": {
    "colab": {
     "base_uri": "https://localhost:8080/",
     "height": 34
    },
    "colab_type": "code",
    "id": "N6RMsvRb6VT9",
    "outputId": "080209e2-e7f8-49e6-d3e0-de0e481dcf4a"
   },
   "outputs": [
    {
     "data": {
      "text/plain": [
       "array([10, 26, 16])"
      ]
     },
     "execution_count": 49,
     "metadata": {},
     "output_type": "execute_result"
    }
   ],
   "source": [
    "x[ bool_index ] #配列 bool_index がTrueのインデックスから成る配列"
   ]
  },
  {
   "cell_type": "code",
   "execution_count": 50,
   "metadata": {
    "colab": {
     "base_uri": "https://localhost:8080/",
     "height": 34
    },
    "colab_type": "code",
    "id": "YddGe9qz6VT_",
    "outputId": "4f9effe1-f429-4dbc-86c7-647b3d15322a"
   },
   "outputs": [
    {
     "data": {
      "text/plain": [
       "array([10, 26, 16])"
      ]
     },
     "execution_count": 50,
     "metadata": {},
     "output_type": "execute_result"
    }
   ],
   "source": [
    "x[ x <30 ] #上の操作を1行で書く"
   ]
  },
  {
   "cell_type": "code",
   "execution_count": 51,
   "metadata": {
    "colab": {
     "base_uri": "https://localhost:8080/",
     "height": 34
    },
    "colab_type": "code",
    "id": "BeXbQKAs6VUD",
    "outputId": "2e8ff879-6255-4306-cc6b-697a7261603d"
   },
   "outputs": [
    {
     "data": {
      "text/plain": [
       "array([10, 26, 16])"
      ]
     },
     "execution_count": 51,
     "metadata": {},
     "output_type": "execute_result"
    }
   ],
   "source": [
    "x[ (x<=30) & (x>=10) ]  #30以下でかつ10以上のもの（and は & を使う；論理条件には( )をつける) "
   ]
  },
  {
   "cell_type": "code",
   "execution_count": 52,
   "metadata": {
    "colab": {
     "base_uri": "https://localhost:8080/",
     "height": 34
    },
    "colab_type": "code",
    "id": "URm8xore6VUE",
    "outputId": "ccd740f0-c007-4ec4-f363-c26bb5c41930"
   },
   "outputs": [
    {
     "data": {
      "text/plain": [
       "array([10, 32, 46, 26, 84, 16, 96])"
      ]
     },
     "execution_count": 52,
     "metadata": {},
     "output_type": "execute_result"
    }
   ],
   "source": [
    "x[ (x<30) | (x%2==0) ] #30以下かもしくは2で割り切れるもの"
   ]
  },
  {
   "cell_type": "code",
   "execution_count": 53,
   "metadata": {
    "colab": {
     "base_uri": "https://localhost:8080/",
     "height": 52
    },
    "colab_type": "code",
    "id": "DmMcLWJb6VUH",
    "outputId": "c52678f0-18ba-4c84-8de0-fc20c820941c"
   },
   "outputs": [
    {
     "name": "stdout",
     "output_type": "stream",
     "text": [
      "[ 6 60 12 67 65 65  9 82 80 16]\n"
     ]
    },
    {
     "data": {
      "text/plain": [
       "True"
      ]
     },
     "execution_count": 53,
     "metadata": {},
     "output_type": "execute_result"
    }
   ],
   "source": [
    "x = np.random.randint(low=1,high=100, size=10) #[1,100]の一様乱数による配列\n",
    "print(x)\n",
    "np.all( x <=90 ) #すべてがTrueのときTrueを返す"
   ]
  },
  {
   "cell_type": "code",
   "execution_count": 54,
   "metadata": {
    "colab": {
     "base_uri": "https://localhost:8080/",
     "height": 34
    },
    "colab_type": "code",
    "id": "PlR6eKwd6VUK",
    "outputId": "3e9405a2-3d15-45a1-b071-1062e1d9355f"
   },
   "outputs": [
    {
     "data": {
      "text/plain": [
       "True"
      ]
     },
     "execution_count": 54,
     "metadata": {},
     "output_type": "execute_result"
    }
   ],
   "source": [
    "np.any( x <=10 )   #いずれかの要素がTrueのときTrueを返す"
   ]
  },
  {
   "cell_type": "markdown",
   "metadata": {
    "colab_type": "text",
    "id": "Bu7YzPqq6VUL"
   },
   "source": [
    "### 問題\n",
    "\n",
    "NumPyの配列 $x$ を以下のように生成する．\n",
    "```python \n",
    "x = np.array( [1,2,3,4,5,6] )\n",
    "```\n",
    "\n",
    "1. 添え字が $0$ 番目と $5$ 番目の要素を添え字配列を用いて取り出せ．\n",
    "2. 要素が2で割り切れるものだけをTrueかFalseが入った配列（Bool添え字配列）を用いて取り出せ．\n",
    "3. 要素が奇数のものだけを2倍せよ．"
   ]
  },
  {
   "cell_type": "code",
   "execution_count": 55,
   "metadata": {
    "colab": {},
    "colab_type": "code",
    "id": "i31YKkUw6VUM"
   },
   "outputs": [
    {
     "data": {
      "text/plain": [
       "array([1, 6])"
      ]
     },
     "execution_count": 55,
     "metadata": {},
     "output_type": "execute_result"
    }
   ],
   "source": [
    "x = np.array( [1,2,3,4,5,6] )\n",
    "ind = np.array( [0,5] )  \n",
    "x[ind]\n",
    "\n"
   ]
  },
  {
   "cell_type": "code",
   "execution_count": 56,
   "metadata": {},
   "outputs": [
    {
     "data": {
      "text/plain": [
       "array([2, 4, 6])"
      ]
     },
     "execution_count": 56,
     "metadata": {},
     "output_type": "execute_result"
    }
   ],
   "source": [
    "x = np.array( [1,2,3,4,5,6] )\n",
    "bool_index = x%2 == 0 \n",
    "x[ bool_index ]\n",
    "\n"
   ]
  },
  {
   "cell_type": "code",
   "execution_count": 57,
   "metadata": {},
   "outputs": [
    {
     "data": {
      "text/plain": [
       "array([ 2,  6, 10])"
      ]
     },
     "execution_count": 57,
     "metadata": {},
     "output_type": "execute_result"
    }
   ],
   "source": [
    "x = np.array( [1,2,3,4,5,6] )\n",
    "t = x%2 == 1 \n",
    "x[ t ]*2\n",
    "\n"
   ]
  },
  {
   "cell_type": "markdown",
   "metadata": {
    "colab_type": "text",
    "id": "u3JfPRPC6VUN"
   },
   "source": [
    "### 問題\n",
    "1. さいころを $10$回振ったときの結果の配列を作成し，試行の中で $4$ 以上のものだけを切り出せ．\n",
    "2. さいころを $100$回振ったときの結果の配列を作成し，試行の中で $5$ 以上で奇数のものだけを切り出せ．3\n",
    "3. 平均 $10$，標準偏差 $10$ の正規乱数を $10 \\times 10$ の行列に入れ，負のものだけを切り出せ．"
   ]
  },
  {
   "cell_type": "code",
   "execution_count": 58,
   "metadata": {
    "colab": {},
    "colab_type": "code",
    "id": "t52QY9Qr6VUP"
   },
   "outputs": [
    {
     "data": {
      "text/plain": [
       "array([5, 5, 5, 5])"
      ]
     },
     "execution_count": 58,
     "metadata": {},
     "output_type": "execute_result"
    }
   ],
   "source": [
    "x=np.random.randint(1,7,size=10)\n",
    "bool_index=x>=4\n",
    "x[bool_index]"
   ]
  },
  {
   "cell_type": "code",
   "execution_count": 59,
   "metadata": {},
   "outputs": [
    {
     "data": {
      "text/plain": [
       "array([5, 5, 5, 5, 5, 5, 5, 5, 5, 5, 5, 5, 5, 5, 5, 5])"
      ]
     },
     "execution_count": 59,
     "metadata": {},
     "output_type": "execute_result"
    }
   ],
   "source": [
    "x=np.random.randint(1,7,size=100)\n",
    "\n",
    "x[(x%2==1) & (x>=5)]\n",
    "\n"
   ]
  },
  {
   "cell_type": "markdown",
   "metadata": {
    "colab_type": "text",
    "id": "FhxKTepC6VUP"
   },
   "source": [
    "### 問題\n",
    "\n",
    "次のプログラムは入力した正の整数 x に対して何を返すためのプログラムか？\n",
    "\n",
    "```python \n",
    "not np.any([x%i == 0 for i in range(2, x)])\n",
    "```"
   ]
  },
  {
   "cell_type": "code",
   "execution_count": null,
   "metadata": {
    "colab": {},
    "colab_type": "code",
    "id": "ZG1kwN-16VUP"
   },
   "outputs": [],
   "source": []
  },
  {
   "cell_type": "markdown",
   "metadata": {
    "colab_type": "text",
    "id": "Zherhz0P6VUQ"
   },
   "source": [
    "### NumPyによる数列の生成法\n",
    "\n",
    "NumPyには様々な数列を生成するための関数が準備されている．\n",
    "\n",
    "通常のリストと同じように整数の配列を生成するためには，arange関数を用いる．\n",
    "\n",
    "引数は，開始，終了，ステップ（階差）である．\n",
    "\n",
    "```python\n",
    "x = np.arange(1,11,2) # array([1, 3, 5, 7, 9])\n",
    "```\n",
    "\n",
    "配列のサイズ(要素の個数）を指定して階差が等しくなるような数列を生成するには，linspace（線形空間を表すline spaceの意味）関数を用いる．\n",
    "\n",
    "引数は，開始，終了，要素数であるが，既定値だと最後の要素が終了と一致するように生成することに注意されたい．\n",
    "```python\n",
    "x = np.linspace(1,6,10)\n",
    ">>> 結果\n",
    "array([ 1.        ,  1.55555556,  2.11111111,  2.66666667,  3.22222222,\n",
    "        3.77777778,  4.33333333,  4.88888889,  5.44444444,  6.        ])\n",
    "```\n",
    "\n",
    "linspace関数はmatplotlibで関数の図を描画するときによく用いられる．以下に $y=x^2$ のグラフを描画した例を示す．"
   ]
  },
  {
   "cell_type": "code",
   "execution_count": 60,
   "metadata": {
    "colab": {
     "base_uri": "https://localhost:8080/",
     "height": 282
    },
    "colab_type": "code",
    "id": "PNuVnrhM6VUS",
    "outputId": "b6f287ea-36bf-4153-b05a-336cfc14b677"
   },
   "outputs": [
    {
     "data": {
      "text/plain": [
       "[<matplotlib.lines.Line2D at 0x2b0c6e6355f8>]"
      ]
     },
     "execution_count": 60,
     "metadata": {},
     "output_type": "execute_result"
    },
    {
     "data": {
      "image/png": "[encoded data removed]",
      "text/plain": [
       "<Figure size 432x288 with 1 Axes>"
      ]
     },
     "metadata": {
      "needs_background": "light"
     },
     "output_type": "display_data"
    }
   ],
   "source": [
    "x = np.linspace(0,100,100)  # 0から1まで均等割りした100個の要素から成る配列\n",
    "y = x**2                   # 同じ長さの配列に xの2乗を入れる\n",
    "import matplotlib.pyplot as plt # 図を描画する準備\n",
    "%matplotlib inline\n",
    "plt.plot(x,y) # 描画"
   ]
  },
  {
   "cell_type": "markdown",
   "metadata": {
    "colab_type": "text",
    "id": "UfTuo3gj6VUS"
   },
   "source": [
    "### 問題\n",
    "\n",
    "1. $x$ に1から100まで公差3の数列を代入し，$x$ の平方根のグラフをプロットせよ．ただし，平方根はNumPyのsqrt関数で計算せよ．(NumPyモジュールのsqrt関数はユニバーサル関数である．mathモジュールのsqrt関数を用いると，スカラーしか計算できないことに注意．）\n",
    "\n",
    "2. 0.1から10まで1000個の数値を均等に配置した $x$ 座標に対して $y=1/x$ の関数を描画せよ．"
   ]
  },
  {
   "cell_type": "code",
   "execution_count": 61,
   "metadata": {
    "colab": {},
    "colab_type": "code",
    "id": "NsNL1ydY6VUT"
   },
   "outputs": [],
   "source": [
    "import matplotlib.pyplot as plt # 図を描画する準備\n",
    "%matplotlib inline\n"
   ]
  },
  {
   "cell_type": "code",
   "execution_count": 62,
   "metadata": {
    "colab": {},
    "colab_type": "code",
    "id": "UrsKJQr86VUW"
   },
   "outputs": [
    {
     "data": {
      "text/plain": [
       "[<matplotlib.lines.Line2D at 0x2b0c6e6b05f8>]"
      ]
     },
     "execution_count": 62,
     "metadata": {},
     "output_type": "execute_result"
    },
    {
     "data": {
      "image/png": "[encoded data removed]",
      "text/plain": [
       "<Figure size 432x288 with 1 Axes>"
      ]
     },
     "metadata": {
      "needs_background": "light"
     },
     "output_type": "display_data"
    }
   ],
   "source": [
    "x=np.linspace(1,300,100)\n",
    "y=np.sqrt(x)\n",
    "import matplotlib.pyplot as plt # 図を描画する準備\n",
    "%matplotlib inline\n",
    "plt.plot(x,y)"
   ]
  },
  {
   "cell_type": "code",
   "execution_count": 63,
   "metadata": {
    "colab": {},
    "colab_type": "code",
    "id": "DG1swP7s6VUY"
   },
   "outputs": [
    {
     "data": {
      "text/plain": [
       "[<matplotlib.lines.Line2D at 0x2b0c6e6f45c0>]"
      ]
     },
     "execution_count": 63,
     "metadata": {},
     "output_type": "execute_result"
    },
    {
     "data": {
      "image/png": "[encoded data removed]",
      "text/plain": [
       "<Figure size 432x288 with 1 Axes>"
      ]
     },
     "metadata": {
      "needs_background": "light"
     },
     "output_type": "display_data"
    }
   ],
   "source": [
    "x=np.linspace(0.1,10,1000)\n",
    "y=1/x\n",
    "import matplotlib.pyplot as plt # 図を描画する準備\n",
    "%matplotlib inline\n",
    "plt.plot(x,y)"
   ]
  },
  {
   "cell_type": "code",
   "execution_count": null,
   "metadata": {},
   "outputs": [],
   "source": []
  }
 ],
 "metadata": {
  "colab": {
   "collapsed_sections": [],
   "include_colab_link": true,
   "name": "NumPy1.0.ipynb",
   "provenance": [],
   "version": "0.3.2"
  },
  "kernelspec": {
   "display_name": "Python 3",
   "language": "python",
   "name": "python3"
  },
  "language_info": {
   "codemirror_mode": {
    "name": "ipython",
    "version": 3
   },
   "file_extension": ".py",
   "mimetype": "text/x-python",
   "name": "python",
   "nbconvert_exporter": "python",
   "pygments_lexer": "ipython3",
   "version": "3.5.2"
  }
 },
 "nbformat": 4,
 "nbformat_minor": 1
}
