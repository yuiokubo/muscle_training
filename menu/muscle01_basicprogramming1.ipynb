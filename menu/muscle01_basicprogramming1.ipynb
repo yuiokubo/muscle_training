{
 "cells": [
  {
   "cell_type": "markdown",
   "metadata": {
    "nbpresent": {
     "id": "34b76949-9443-4d9c-87bd-659ba8d0e226"
    }
   },
   "source": [
    "# ■■■■■■■■■■■第１章■■■■■■■■■■■■\n",
    "\n",
    "（四則演算とprintの使い方）\n",
    "\n",
    "\n"
   ]
  },
  {
   "cell_type": "markdown",
   "metadata": {
    "nbpresent": {
     "id": "22a3c373-ea8a-43ff-972a-f9bacfb310a8"
    }
   },
   "source": [
    "\n",
    "\n",
    "●例題１－１\n",
    "\n",
    "Jupyterでは，電卓みたいに計算できる．$2^4$ （2の4乗）を計算してみよう．\n",
    "\n",
    "（Pythonではべき乗の演算子は $**$ です．Jupyterでプログラムを実行するためには，Shiftlキーを押しながら，Enterキーを押します．すると，最後の文が評価されて画面に表示されます．）\n"
   ]
  },
  {
   "cell_type": "code",
   "execution_count": 2,
   "metadata": {
    "nbpresent": {
     "id": "ae67c862-5df6-4679-90c1-7345a019d062"
    }
   },
   "outputs": [
    {
     "data": {
      "text/plain": [
       "16"
      ]
     },
     "execution_count": 2,
     "metadata": {},
     "output_type": "execute_result"
    }
   ],
   "source": [
    "2**4"
   ]
  },
  {
   "cell_type": "markdown",
   "metadata": {
    "nbpresent": {
     "id": "33c3e0e7-4715-4758-812b-98c5e7ab8550"
    }
   },
   "source": [
    "●例題１－２\n",
    "\n",
    "べき乗の演算子は $**$ なので，計算結果（16）が画面に表示されるはずです．次の例題を見てみましょう．\n",
    "\n",
    "\n",
    "結果を画面に表示させるためには，print()関数を用います．printの後ろの()の中に表示したいものを入れると，出力が返されます．\n",
    "\n",
    "（このように，何かを入れると何かが返されるものを「関数」と呼びます．詳細については後述します．）\n",
    "\n",
    "たとえば，$2+7$ の結果と文字列 'Hello' （文字列を表示させるためには，' ' で囲むか，\" \" で囲む）を表示させてみましょう．"
   ]
  },
  {
   "cell_type": "code",
   "execution_count": 6,
   "metadata": {
    "nbpresent": {
     "id": "552cceaf-4225-4e8c-9398-60c3f43aacf7"
    }
   },
   "outputs": [
    {
     "name": "stdout",
     "output_type": "stream",
     "text": [
      "9\n",
      "Hello\n"
     ]
    }
   ],
   "source": [
    "print( 2+7 )\n",
    "print( 'Hello' )"
   ]
  },
  {
   "cell_type": "markdown",
   "metadata": {
    "nbpresent": {
     "id": "75d99967-e0fe-465e-8bf9-2928b967be19"
    }
   },
   "source": [
    "2つの結果を同じ行に表示させるためには，間に *,*（カンマ）を入れて書きます．Python 3 では，日本語も表示できます．\n",
    "\n",
    "●例題１－３\n",
    "\n",
    "画面に \"10を3で割ったときの商は\" に続いて $10 // 3$ の結果を，\"余りは\" に続いて剰余 $10 \\% 3$ を表示せよ．\n",
    "\n",
    "（Python 3では整数除算の演算子は //，剰余の演算子は % です．普通の割り算 $/$ をすると小数（浮動小数点数）が表示されますので，\n",
    "これも試してみてください．）\n"
   ]
  },
  {
   "cell_type": "code",
   "execution_count": 8,
   "metadata": {
    "nbpresent": {
     "id": "8746f29a-ff28-447e-822d-1e2211983eec"
    }
   },
   "outputs": [
    {
     "name": "stdout",
     "output_type": "stream",
     "text": [
      "10を3で割ったときの商は 3\n",
      "余りは 1\n",
      "3.3333333333333335\n"
     ]
    }
   ],
   "source": [
    "print(\"10を3で割ったときの商は\", 10 //3 )\n",
    "print(\"余りは\", 10%3 )\n",
    "print( 10/3 )"
   ]
  },
  {
   "cell_type": "markdown",
   "metadata": {
    "nbpresent": {
     "id": "d518b9d7-3497-4ac7-8107-417c24642aef"
    }
   },
   "source": [
    "■問題１－１\n",
    "\n",
    "print関数を用いて\n",
    "\n",
    "1. Hello World\n",
    "2. $4+4*5$の結果\n",
    "\n",
    "を表示させてください．"
   ]
  },
  {
   "cell_type": "code",
   "execution_count": 9,
   "metadata": {
    "nbpresent": {
     "id": "0d8a5e96-c7d6-4678-8082-926ecd1a7282"
    }
   },
   "outputs": [
    {
     "name": "stdout",
     "output_type": "stream",
     "text": [
      "Hello World\n",
      "24\n"
     ]
    }
   ],
   "source": [
    "print(\"Hello World\")\n",
    "print(4+4*5)"
   ]
  },
  {
   "cell_type": "markdown",
   "metadata": {
    "nbpresent": {
     "id": "ac36f7a8-ae6b-442f-9ea7-7ae43cc138aa"
    }
   },
   "source": [
    "■問題１－２\n",
    "\n",
    "11211\n",
    "\n",
    "12121\n",
    "\n",
    "21112\n",
    "\n",
    "を一気に表示するようなプログラムを作りなさい．"
   ]
  },
  {
   "cell_type": "code",
   "execution_count": 13,
   "metadata": {},
   "outputs": [
    {
     "name": "stdout",
     "output_type": "stream",
     "text": [
      "11211 12121 2112\n"
     ]
    }
   ],
   "source": [
    "print(11211,12121,2112)"
   ]
  },
  {
   "cell_type": "markdown",
   "metadata": {},
   "source": [
    "■問題１－３\n",
    "\n",
    "2の10乗と5の100乗を出力するプログラムを作りなさい．"
   ]
  },
  {
   "cell_type": "code",
   "execution_count": 11,
   "metadata": {},
   "outputs": [
    {
     "name": "stdout",
     "output_type": "stream",
     "text": [
      "1024\n",
      "7888609052210118054117285652827862296732064351090230047702789306640625\n"
     ]
    }
   ],
   "source": [
    "print(2**10)\n",
    "print(5**100)"
   ]
  },
  {
   "cell_type": "markdown",
   "metadata": {
    "nbpresent": {
     "id": "eb1f7ec5-a9ee-4f11-8203-7ed05efe8b2d"
    }
   },
   "source": [
    "#   \n",
    "\n",
    "# ■■■■■■■■■■■第2章■■■■■■■■■■■■\n",
    "\n",
    "（変数と計算）"
   ]
  },
  {
   "cell_type": "markdown",
   "metadata": {
    "nbpresent": {
     "id": "3c861022-0911-47c1-a494-115fc84e96a6"
    }
   },
   "source": [
    "●例題２－１\n",
    "\n",
    "「（33+44）×55」と「2.1+4.3+6.5」と「123+456を78で割った余り」を計算し，表示するプログラムを作ってみましょう．\n",
    "\n",
    "その際に，（33+44）*55＝のように計算式も表示しましょう．\n"
   ]
  },
  {
   "cell_type": "code",
   "execution_count": 14,
   "metadata": {
    "nbpresent": {
     "id": "a0597278-51eb-4cdb-9d60-31f3e1b540d6"
    }
   },
   "outputs": [
    {
     "name": "stdout",
     "output_type": "stream",
     "text": [
      "(33+44)*55 = 4235\n",
      "2.1+4.3+6.5 = 12.9\n",
      "(123+456)%78 = 33\n"
     ]
    }
   ],
   "source": [
    "print('(33+44)*55 =', (33+44)*55 )\n",
    "print('2.1+4.3+6.5 =',2.1+4.3+6.5)\n",
    "print('(123+456)%78 =',(123+456)%78 )"
   ]
  },
  {
   "cell_type": "markdown",
   "metadata": {
    "nbpresent": {
     "id": "5a1d9134-4e99-4d77-91ab-0485184ec01d"
    }
   },
   "source": [
    "●例題２－２\n",
    "\n",
    "変数を使ったプログラムを作りましょう．変数xに123*45を代入した後，xの値を表示します．\n",
    "\n",
    "1. 変数 x に 123*45 の計算結果を代入する\n",
    "\n",
    "2. x の値を表示する\n",
    "\n",
    "という順番で命令を実行すればよいですね．\n"
   ]
  },
  {
   "cell_type": "code",
   "execution_count": 21,
   "metadata": {
    "nbpresent": {
     "id": "3b0459b6-e0a0-44dc-85db-2d55787184f2"
    }
   },
   "outputs": [
    {
     "name": "stdout",
     "output_type": "stream",
     "text": [
      "5535\n"
     ]
    }
   ],
   "source": [
    "x = 123*45\n",
    "print(x)"
   ]
  },
  {
   "cell_type": "markdown",
   "metadata": {
    "nbpresent": {
     "id": "5c31c185-8c06-4e2e-b395-fc28b687454c"
    }
   },
   "source": [
    "●例題２－３\n",
    "\n",
    "整数と小数（浮動小数点数）を使ったプログラムを実行してみましょう．\n",
    "\n",
    "このプログラムは，浮動小数点数である9.99と整数である50をそれぞれ10倍して表示します．\n"
   ]
  },
  {
   "cell_type": "code",
   "execution_count": 15,
   "metadata": {
    "nbpresent": {
     "id": "8c738f05-8525-466e-9622-0348b1d45fbb"
    }
   },
   "outputs": [
    {
     "name": "stdout",
     "output_type": "stream",
     "text": [
      "999.0 500\n"
     ]
    }
   ],
   "source": [
    "y = 99.9\n",
    "x = 50\n",
    "print(y*10,x*10)"
   ]
  },
  {
   "cell_type": "markdown",
   "metadata": {
    "nbpresent": {
     "id": "5350c59e-1d40-4e3c-8062-6606bb9843e1"
    }
   },
   "source": [
    "●例題２－４\n",
    "\n",
    "以下のプログラムは，xとyの値を3回表示するのですが，それぞれ，何と何が表示されると思いますか？\n",
    "\n",
    "プログラムがどのように動いて，変数には何が代入されるかを考えた上で，① 10,10 ② 10,20 ③ 20,20の中から選んで下さい．\n"
   ]
  },
  {
   "cell_type": "code",
   "execution_count": 16,
   "metadata": {
    "nbpresent": {
     "id": "7d1a8480-bd02-46d4-ba89-b25e0cd175d0"
    }
   },
   "outputs": [
    {
     "name": "stdout",
     "output_type": "stream",
     "text": [
      "10 10\n",
      "20 20\n",
      "10 10\n"
     ]
    }
   ],
   "source": [
    "x = 10\n",
    "y = 10\n",
    "print(x,y)\n",
    "x = y+10\n",
    "y = 20\n",
    "print(x,y)\n",
    "x = x-10\n",
    "y = y-x\n",
    "print(x,y)"
   ]
  },
  {
   "cell_type": "markdown",
   "metadata": {
    "nbpresent": {
     "id": "e2392f10-f12a-48f9-a172-f1a61d2e9e9a"
    }
   },
   "source": [
    "#          \n",
    "\n",
    "\n",
    "■問題２－１\n",
    "\n",
    "(1) $1+2+3+4+5$ の計算結果を表示しましょう．\n",
    "\n",
    "(2) $1*3*5*7*9$ の計算結果を表示しましょう．\n",
    "\n",
    "(3) $98*3+48*4+188+(208-50)*5$ の計算結果を表示しましょう．\n"
   ]
  },
  {
   "cell_type": "code",
   "execution_count": 20,
   "metadata": {
    "nbpresent": {
     "id": "249d05a3-123b-4379-8c6c-e47a5ecd79c5"
    }
   },
   "outputs": [
    {
     "name": "stdout",
     "output_type": "stream",
     "text": [
      "1+2+3+4+5= 15\n",
      "1*3*5*7*9= 945\n",
      "98*3+48*4+188+(208-50)*5= 1464\n"
     ]
    }
   ],
   "source": [
    "print(\"1+2+3+4+5=\",1+2+3+4+5)\n",
    "print(\"1*3*5*7*9=\",1*3*5*7*9)\n",
    "print(\"98*3+48*4+188+(208-50)*5=\",98*3+48*4+188+(208-50)*5)\n"
   ]
  },
  {
   "cell_type": "markdown",
   "metadata": {
    "nbpresent": {
     "id": "bf745217-8f6d-4009-88f8-9de3094fef5d"
    }
   },
   "source": [
    "■問題２－２\n",
    "\n",
    "例題２－２のサンプルコードを用いて，\n",
    "\n",
    "(1) 変数xの名前を，自分の好きな名前に変えてみましょう．どのような名前にすると，エラーが出るか，調べましょう．\n",
    "\n",
    "(2) x=の後の計算式を 12+45のようにいろいろと変えてみましょう．\n",
    "\n",
    "(3) 1行目と2行目を入れ替えると何が起きるか試してみましょう．なぜそうなるのか，考えましょう．\n",
    "（ヒント：コンピュータは最初の行から順番に命令を実行していきます．）"
   ]
  },
  {
   "cell_type": "code",
   "execution_count": 28,
   "metadata": {
    "nbpresent": {
     "id": "f927a649-e243-43e1-bdb3-e6ac539c5681"
    }
   },
   "outputs": [
    {
     "ename": "SyntaxError",
     "evalue": "invalid syntax (<ipython-input-28-fd91115a6415>, line 1)",
     "output_type": "error",
     "traceback": [
      "\u001b[0;36m  File \u001b[0;32m\"<ipython-input-28-fd91115a6415>\"\u001b[0;36m, line \u001b[0;32m1\u001b[0m\n\u001b[0;31m    print(yui!)\u001b[0m\n\u001b[0m             ^\u001b[0m\n\u001b[0;31mSyntaxError\u001b[0m\u001b[0;31m:\u001b[0m invalid syntax\n"
     ]
    }
   ],
   "source": [
    "print(yui!)\n",
    "yui!= 123*45\n",
    "\n",
    "\n"
   ]
  },
  {
   "cell_type": "markdown",
   "metadata": {
    "nbpresent": {
     "id": "fee68e76-15da-4ee9-a201-9eaba30150f3"
    }
   },
   "source": [
    "■問題２－３\n",
    "\n",
    "例題２－４のサンプルコードを用いて，\n",
    "\n",
    "(1) 各行の式に出てくる10や20などの数値を，自分の好きな数，例えば30や5に変更し，実行結果がどう変わるか調べましょう．\n",
    "\n",
    "(2) 4行目と5行目を入れ替えると，実行結果がどう代わるか，予測しましょう．また，7行目と8行目を入れ替えるとどのようになるかも予測しましょう．\n",
    "予測したら，実際に入れ替えて実行し，予測があっているか確かめましょう．"
   ]
  },
  {
   "cell_type": "code",
   "execution_count": null,
   "metadata": {
    "nbpresent": {
     "id": "2449a41d-8161-499f-96f7-1913b386508f"
    }
   },
   "outputs": [],
   "source": [
    "x = 10\n",
    "y = 10\n",
    "print(x,y)\n",
    "y =20\n",
    "x = y+10\n",
    "print(x,y)\n",
    "x = x-10\n",
    "y = y-x\n",
    "print(x,y)"
   ]
  },
  {
   "cell_type": "markdown",
   "metadata": {
    "nbpresent": {
     "id": "57db372f-ce5f-4a14-82ae-6530c070e18d"
    }
   },
   "source": [
    "■問題２－４\n",
    "\n",
    "変数xに10*20を，yに30*40を代入し，xとyの値を表示するプログラムを作りなさい．"
   ]
  },
  {
   "cell_type": "code",
   "execution_count": null,
   "metadata": {
    "nbpresent": {
     "id": "6e553bf5-31c5-40d4-8921-6fa77e91ec60"
    }
   },
   "outputs": [],
   "source": [
    "x=1020\n",
    "y=3040\n",
    "print(x,y)\n"
   ]
  },
  {
   "cell_type": "markdown",
   "metadata": {
    "nbpresent": {
     "id": "88ac7de6-e8b1-413c-918a-31d49425ac88"
    }
   },
   "source": [
    "■問題２－５\n",
    "\n",
    "変数xに1.5を代入し，xの値の1/10を表示するプログラムを作りなさい．"
   ]
  },
  {
   "cell_type": "code",
   "execution_count": null,
   "metadata": {
    "nbpresent": {
     "id": "761bc38a-95cf-4a92-a3b2-26b0696e184b"
    }
   },
   "outputs": [],
   "source": [
    "x=1.5\n",
    "print(x/10)"
   ]
  },
  {
   "cell_type": "markdown",
   "metadata": {
    "nbpresent": {
     "id": "f945a55e-172c-4dcd-bc7c-8f86f68621ee"
    }
   },
   "source": [
    "■問題２－６\n",
    "\n",
    "変数xに10を代入してxの値を表示，次に20を代入してxの値を表示，最後に30を代入してxの値を表示する，というプログラムを作りなさい．\n",
    "また，行を適当に入れ替えて，動きがどう変わるか見てみなさい．"
   ]
  },
  {
   "cell_type": "code",
   "execution_count": null,
   "metadata": {
    "nbpresent": {
     "id": "f9dba5ba-fc8a-431f-a9ad-ddb2e9f69558"
    }
   },
   "outputs": [],
   "source": [
    "x=10\n",
    "print(x)\n",
    "x=20\n",
    "print(x)\n",
    "x=30\n",
    "print(x)"
   ]
  },
  {
   "cell_type": "markdown",
   "metadata": {
    "nbpresent": {
     "id": "a57e8695-e1f4-4d6b-9345-07c8c9578df0"
    }
   },
   "source": [
    "#   \n",
    "\n",
    "# ■■■■■■■■■■■第3章■■■■■■■■■■■■\n",
    "\n",
    "（入力関数 input）\n",
    "\n",
    "\n",
    "#  \n",
    "\n",
    "ユーザーに入力を促し入力を受け取る関数 input() の構文は以下のようになります．\n",
    "\n",
    "```python\n",
    "  ユーザーが入力した文字列  = input( 画面に表示するメッセージ文字列 )\n",
    "```\n",
    "\n",
    "Python 3ではinput()関数は文字列を返します．\n",
    "\n",
    "整数を入力したい場合には，int()関数で入力された文字列を整数に直す必要があります．\n",
    "\n",
    "```python\n",
    "整数 = int( 文字列など ) \n",
    "```\n",
    "このように関数は，入力を出力に変換します．int( input (メッセージ) ) と書くと，以下のように変換されます．\n",
    "\n",
    "ユーザーの入力  => input関数 => 文字列  => int関数 => 整数\n",
    "\n",
    "\n",
    "●例題３－１\n",
    "\n",
    "整数の入力をうながし，入力した数の 10乗を計算した結果を表示せよ．\n"
   ]
  },
  {
   "cell_type": "code",
   "execution_count": null,
   "metadata": {
    "nbpresent": {
     "id": "6e8a4a3c-a67b-454f-a7a6-6ef7bb778666"
    }
   },
   "outputs": [],
   "source": [
    "x = int(input(\"何か整数を入力してね\"))\n",
    "print( x**10 )"
   ]
  },
  {
   "cell_type": "markdown",
   "metadata": {
    "nbpresent": {
     "id": "7114eb3a-2a8c-4b68-a250-483c18b2cc27"
    }
   },
   "source": [
    "●例題３－２\n",
    "\n",
    "名字を名前を英文で入力するようにうながし，フルネームを表示するプログラムを作成せよ．"
   ]
  },
  {
   "cell_type": "code",
   "execution_count": null,
   "metadata": {
    "nbpresent": {
     "id": "17b3642e-d7d1-4109-9016-fc1c5d7079b9"
    }
   },
   "outputs": [],
   "source": [
    "first = input(\"名字を英文で入力してね\")\n",
    "given = input(\"名前を英文で入力してね\")\n",
    "print(given,first)"
   ]
  },
  {
   "cell_type": "markdown",
   "metadata": {
    "nbpresent": {
     "id": "c61cca73-9059-4cd7-ba39-5f9d76d551d7"
    }
   },
   "source": [
    "■問題３－１\n",
    "\n",
    "inputが入力した数値を変数に代入している，ということを，プログラムを作って確認せよ．\n",
    "代入された変数の値を表示すれば確認できるので，プログラムの基本的な構造は以下のようになる．\n",
    "\n",
    "1. 変数xを宣言する\n",
    "\n",
    "2. inputで変数xに整数を入力する\n",
    "\n",
    "3. printで変数xの値を表示する\n",
    "\n",
    "\n",
    "（１）上の構造どおりのプログラムを作れ\n",
    "\n",
    "（２）変数xの名前を自分の好きな名前に変えてみよ．\n",
    "\n",
    "（３）数値を入力して表示する，という作業を2回するようにしましょう．\n",
    "\n",
    "（４）入力する前に Integer = ?と表示するようにせよ．\n",
    "\n",
    "（５）小数（正確には浮動小数点数）を入力し，それを表示させるように変えよ．(文字列を浮動小数点数に変換するにはfloat()関数を用います．）\n",
    "\n"
   ]
  },
  {
   "cell_type": "code",
   "execution_count": null,
   "metadata": {
    "nbpresent": {
     "id": "76a94a33-d451-42ed-af60-239dffd375d5"
    }
   },
   "outputs": [],
   "source": []
  },
  {
   "cell_type": "markdown",
   "metadata": {
    "nbpresent": {
     "id": "f0e09f0f-8bd2-4d68-9124-f7bee777057f"
    }
   },
   "source": [
    "■問題３－２\n",
    "\n",
    "入力した数値を使った計算をする．inputを使ってキーボードから2の整数を入力して，その合計を表示する，というプログラムを作りたい．\n",
    "プログラムの基本的な構造は以下のようになる．\n",
    "\n",
    "1. 整数変数を2つ宣言する\n",
    "\n",
    "2. 整数を2つ入力し，宣言した変数に代入する\n",
    "\n",
    "3. 2つの整数の和を表示する\n",
    "\n",
    "\n",
    "（１）上の構造どおりのプログラムを作れ\n",
    "\n",
    "（２）整数３つを入力して，その合計を表示するようにせよ\n",
    "\n",
    "（３）小数２つを入力して，その合計を表示するようにせよ\n",
    "\n",
    "（４）整数２つを入力して，その積を表示するようにせよ"
   ]
  },
  {
   "cell_type": "code",
   "execution_count": 1,
   "metadata": {
    "nbpresent": {
     "id": "c59f01a3-0826-4fc7-ba4d-71e898e94df7"
    }
   },
   "outputs": [
    {
     "name": "stdout",
     "output_type": "stream",
     "text": [
      "integer=?2\n",
      "2\n",
      "少数入れてね2.4\n",
      "2.4\n"
     ]
    }
   ],
   "source": [
    "yui=int(input(\"integer=?\"))\n",
    "print(yui)\n",
    "yui=float(input(\"少数入れてね\"))\n",
    "print(yui)\n"
   ]
  },
  {
   "cell_type": "code",
   "execution_count": null,
   "metadata": {},
   "outputs": [],
   "source": [
    "x=int(input(\"整数変数を入力せよ\"))\n",
    "y=int(input(\"整数変数を入力せよ\"))\n",
    "print(x+y)"
   ]
  },
  {
   "cell_type": "markdown",
   "metadata": {
    "nbpresent": {
     "id": "d7c9819d-9814-4211-9db5-e3ca87b43b1c"
    }
   },
   "source": [
    "■問題３－３【難】\n",
    "\n",
    "1,2,3章で勉強したinput，print，変数の3つだけで\n",
    "借金返済計画を立てるプログラムを作りたい．\n",
    "簡単のため，利子は無しとする．\n",
    "\n",
    "まず，借金の総額と，ひと月に返済する金額を入力すると，返済にかかる年数を表示し，さらに，毎年のボーナスから返済する金額を入力すると，返済完了が何年早まるかを表示し，\n",
    "その次に返済を完了したい年数を入力すると，ボーナスからいくら返せばよいかを表示するプログラムを作成せよ．\n"
   ]
  },
  {
   "cell_type": "code",
   "execution_count": 7,
   "metadata": {
    "nbpresent": {
     "id": "8907d7d5-a3ea-46ff-a146-160c641f0a4c"
    }
   },
   "outputs": [
    {
     "name": "stdout",
     "output_type": "stream",
     "text": [
      "借金の総額を入力せよ1000\n",
      "一月に返済する金額を入力せよ10\n",
      "年間ボーナスは？30\n",
      "返金にかかる年数は6.666666666666667年です\n",
      "返済を完了したい年は？5\n",
      "ボーナスから80.0円返せば良い\n"
     ]
    }
   ],
   "source": [
    "shakkin=float(input(\"借金の総額を入力せよ\"))\n",
    "henkin=float(input(\"一月に返済する金額を入力せよ\"))\n",
    "bonus=float(input(\"年間ボーナスは？\"))\n",
    "print(\"返金にかかる年数は\"+str(shakkin/(bonus+henkin*12))+\"年です\")\n",
    "\n",
    "year=int(input(\"返済を完了したい年は？\"))\n",
    "print(\"ボーナスから\"+str(shakkin/year-12*henkin)+\"円返せば良い\")"
   ]
  },
  {
   "cell_type": "markdown",
   "metadata": {
    "nbpresent": {
     "id": "2d7979d1-e1a7-4be9-bf8f-3661210a5f12"
    }
   },
   "source": [
    "■問題３－４（▲参考：問題３－１）\n",
    "\n",
    "キーボードから2つの整数と2つの浮動小数点数を入力して，\n",
    "それらを表示するプログラムを作れ．"
   ]
  },
  {
   "cell_type": "code",
   "execution_count": 10,
   "metadata": {
    "nbpresent": {
     "id": "c6f6c5a8-eb3d-470f-bae4-6622e8f183b9"
    }
   },
   "outputs": [
    {
     "name": "stdout",
     "output_type": "stream",
     "text": [
      "整数入力100\n",
      "整数入力100\n",
      "少数入力3\n",
      "少数入力4.4\n",
      "100 100 3.0 4.4\n"
     ]
    }
   ],
   "source": [
    "x=int(input(\"整数入力\"))\n",
    "y=int(input(\"整数入力\"))\n",
    "z=float(input(\"少数入力\"))\n",
    "a=float(input(\"少数入力\"))\n",
    "print(x,y,z,a)"
   ]
  },
  {
   "cell_type": "markdown",
   "metadata": {
    "nbpresent": {
     "id": "a3e395f4-ae5f-4317-96fc-4632298f0b86"
    }
   },
   "source": [
    "■問題３－５（▲参考：問題３－２）\n",
    "\n",
    "整数を4つ入力して，それらの合計を表示するプログラムを作りなさい．\n",
    "\n",
    "例えば，プログラムを実行して，10,20,33,44を入力すると，\n",
    "その合計の107が表示されます．"
   ]
  },
  {
   "cell_type": "code",
   "execution_count": 14,
   "metadata": {
    "nbpresent": {
     "id": "a8323bd0-c3da-476f-a343-930129234508"
    }
   },
   "outputs": [
    {
     "name": "stdout",
     "output_type": "stream",
     "text": [
      "10 20 33 44\n",
      "107\n"
     ]
    }
   ],
   "source": [
    "a,b,c,d=input().split()\n",
    "print(int(a)+int(b)+int(c)+int(d))"
   ]
  },
  {
   "cell_type": "markdown",
   "metadata": {
    "nbpresent": {
     "id": "eb0d8b0d-b783-4c25-8a96-f76f94637ca1"
    }
   },
   "source": [
    "■問題３－６\n",
    "\n",
    "整数を2つ入力して，それらの積を表示し，\n",
    "さらに整数を2つ入力してそれらの積を表示し，\n",
    "\n",
    "最後に，今までに表示した2つの数の合計を表示するプログラムを作りなさい．\n",
    "\n",
    "例えば，プログラムを実行して10,20,33,30 を入力すると，\n",
    "実行結果が以下のようになるようにします．\n",
    "\n",
    "10\n",
    "\n",
    "20\n",
    "\n",
    "product = 200\n",
    "\n",
    "33\n",
    "\n",
    "30\n",
    "\n",
    "product = 990\n",
    "\n",
    "total = 1190"
   ]
  },
  {
   "cell_type": "code",
   "execution_count": 19,
   "metadata": {
    "nbpresent": {
     "id": "2d770f1f-895a-487e-a8f3-d4418e2c1862"
    }
   },
   "outputs": [
    {
     "name": "stdout",
     "output_type": "stream",
     "text": [
      "整数入力10\n",
      "整数入力20\n",
      "200\n",
      "整数入力30\n",
      "整数入力40\n",
      "1200\n",
      "total=1400\n"
     ]
    }
   ],
   "source": [
    "a=int(input(\"整数入力\"))\n",
    "b=int(input(\"整数入力\"))\n",
    "product1=a*b\n",
    "print(product1)\n",
    "\n",
    "c=int(input(\"整数入力\"))\n",
    "d=int(input(\"整数入力\"))\n",
    "product2=c*d\n",
    "print(product2)\n",
    "\n",
    "print(\"total=\"+str(product1+product2))"
   ]
  },
  {
   "cell_type": "markdown",
   "metadata": {
    "nbpresent": {
     "id": "5d9e65dd-49af-4c38-b42f-6deeb75674ea"
    }
   },
   "source": [
    "■問題３－７\n",
    "\n",
    "xとyにキーボードから整数を入力し，\n",
    "その和差積を表示するようなプログラムを作りなさい．　\n",
    "\n",
    "【やや難】\n",
    "\n",
    "（ヒント：差というのは大きい方から小さい方を引いた数なので負にはなりません．aの絶対値は関数abs(a)で求めることができます． ）"
   ]
  },
  {
   "cell_type": "code",
   "execution_count": 22,
   "metadata": {
    "nbpresent": {
     "id": "1fab0480-f27d-4d0e-816d-1bf58595ec51"
    }
   },
   "outputs": [
    {
     "name": "stdout",
     "output_type": "stream",
     "text": [
      "整数入力10\n",
      "整数入力40\n",
      "和 50 差 30 積 400\n"
     ]
    }
   ],
   "source": [
    "x=int(input(\"整数入力\"))\n",
    "y=int(input(\"整数入力\"))\n",
    "\n",
    "print(\"和\",x+y,\"差\",abs(x-y),\"積\",x*y)"
   ]
  },
  {
   "cell_type": "markdown",
   "metadata": {
    "nbpresent": {
     "id": "ffc49a3e-1762-4939-9848-f866c6f403ea"
    }
   },
   "source": [
    "#   \n",
    "\n",
    "# ■■■■■■■■■■■第4章■■■■■■■■■■■■\n",
    "\n",
    "（条件if文）\n",
    "\n",
    "今までのプログラムは分岐がありませんでした（これを直線的プログラム）と言います）．\n",
    "\n",
    "条件が成立するときだけ，ある文を実行させることによって，もう少し面白いプログラムが書けます．\n",
    "\n",
    "```python\n",
    "if 条件文 :\n",
    "\n",
    "　　条件文が成立する（真：True)のときに実行される文のブロック\n",
    "```   \n",
    "というのが基本文法です．：（コロン）を書いた後に改行して，字下げ（インデント）を付けるのを忘れないようにしてください．\n",
    "#  "
   ]
  },
  {
   "cell_type": "markdown",
   "metadata": {
    "nbpresent": {
     "id": "478e593d-b23e-4c98-b2aa-605e45717447"
    }
   },
   "source": [
    "●例第４－１\n",
    "\n",
    "「0<10という条件が成り立つならOKと表示する」というプログラムを作って，\n",
    "ifの使い方を練習しましょう．\n",
    "\n",
    "0は10より小さいので0<10は必ず成り立ちます．\n",
    "\n",
    "ですから，実行すると，OKが表示されます．"
   ]
  },
  {
   "cell_type": "code",
   "execution_count": 23,
   "metadata": {
    "nbpresent": {
     "id": "6334ac6e-30d7-41de-bfc0-61e89cfe9868"
    }
   },
   "outputs": [
    {
     "name": "stdout",
     "output_type": "stream",
     "text": [
      "OK\n"
     ]
    }
   ],
   "source": [
    "if 0<10:\n",
    "    print('OK')"
   ]
  },
  {
   "cell_type": "markdown",
   "metadata": {
    "nbpresent": {
     "id": "f671b2c7-098b-42f9-87cc-4e81fed9da26"
    }
   },
   "source": [
    "●例題４－２\n",
    "\n",
    "もう少し難しい条件を判定しましょう．if の後ろの式が成り立たない（偽: False）のときに実行されるのが else: のブロックです． \n",
    "\n",
    "```python\n",
    "if 条件文 :\n",
    "\n",
    "　　条件文が成立する（真：True)のときに実行される文のブロック\n",
    "else: \n",
    "    条件文が成立しない（偽: False)のときに実行される文のブロック\n",
    "\n",
    "```\n",
    "\n",
    "キーボードから入力した数に $25000$ を足したものが，$3500*9$ と等しいかどうかを判定するプログラムを作ります．\n",
    "\n",
    "それには，以下の順で命令を実行すればよいですね．\n",
    "\n",
    "1.　変数xに数値を入力する\n",
    "\n",
    "2.　ifで $x+25000$ と $3500*9$ が等しいかどうか判定する\n",
    "\n",
    "3.　等しいならOKを，そうでなければBoooを表示する\n",
    "\n",
    "条件式では，等号に==を使うことを注意してください．"
   ]
  },
  {
   "cell_type": "code",
   "execution_count": 25,
   "metadata": {
    "nbpresent": {
     "id": "298fa251-8e14-45db-9c28-1904b8e430df"
    }
   },
   "outputs": [
    {
     "name": "stdout",
     "output_type": "stream",
     "text": [
      "Please enter an integer:5000\n",
      "Booo\n"
     ]
    }
   ],
   "source": [
    "x = int(input(\"Please enter an integer:\"))\n",
    "if x+25000 == 3500*9 :\n",
    "    print(\"OK\")\n",
    "else:\n",
    "    print (\"Booo\")"
   ]
  },
  {
   "cell_type": "markdown",
   "metadata": {
    "collapsed": true,
    "nbpresent": {
     "id": "752011ee-3333-4e9f-811f-ee149c1377f1"
    }
   },
   "source": [
    "●例題４－３\n",
    "\n",
    "ifの入れ子を使ったプログラムを作りましょう．\n",
    "\n",
    "else の後に if 文を入れたい場合には，elif: とあわせて書くことができます．これを使うと，不必要な字下げ（インデント）をしないで済むようになるので綺麗に書けます．\n",
    "\n",
    "```python\n",
    "if 条件文1:\n",
    "　　条件文1が真のときに実行される文のブロック\n",
    "elif 条件文2: \n",
    "    条件文1が偽で条件文2が真のときに実行される文のブロック\n",
    "else:\n",
    "    条件文1が偽で条件文2も偽のときに実行される文のブロック\n",
    "\n",
    "```\n",
    "\n",
    "入力した数が正の場合はpositiveと表示して，\n",
    "さらに100以上の場合は100以上，100未満の場合は100未満と表示しましょう．\n",
    "\n",
    "また，入力した数が正でない場合，0の場合はzero，負の場合はnegativeと表示しましょう．"
   ]
  },
  {
   "cell_type": "code",
   "execution_count": 27,
   "metadata": {
    "nbpresent": {
     "id": "fab92b1e-5de7-4f93-bb14-c6f121154aba"
    }
   },
   "outputs": [
    {
     "name": "stdout",
     "output_type": "stream",
     "text": [
      "Please enter an integer:-109\n",
      "negative\n"
     ]
    }
   ],
   "source": [
    "x = int(input(\"Please enter an integer:\"))\n",
    "if x > 0 :\n",
    "    print(\"positive\")\n",
    "    if x >= 100 :\n",
    "        print(\"100以上\")\n",
    "    else :\n",
    "        print(\"100未満\")\n",
    "elif x == 0 :\n",
    "    print (\"zero\")\n",
    "else :\n",
    "    print (\"negative\")"
   ]
  },
  {
   "cell_type": "markdown",
   "metadata": {},
   "source": [
    "\n",
    "\n",
    "条件文には，様々な論理式を入れることができます．\n",
    "\n",
    "論理式とは真(True)か偽(False)に *and*（かつ） や *or*（または） や *not* などの論理演算子を適用した式です．\n",
    "\n",
    "たとえば，「xが 1 または yが6でない」ということは，\n",
    "```python\n",
    "  x==1 or y!=6 \n",
    "```\n",
    "という論理式で書けます．\n",
    "\n",
    "同様に「xが3未満でなく かつyが6未満」は\n",
    "```python\n",
    " not(x<4) and y<6\n",
    "```\n",
    "と書けます．\n",
    "\n",
    "●例題４－４\n",
    "\n",
    "入力した数が負か100以上なら\"範囲外\"と出力し，それ以外なら\"OK\"と出力するプログラムを作成せよ．\n"
   ]
  },
  {
   "cell_type": "code",
   "execution_count": 28,
   "metadata": {},
   "outputs": [
    {
     "name": "stdout",
     "output_type": "stream",
     "text": [
      "数を入力してください 50\n",
      "OK\n"
     ]
    }
   ],
   "source": [
    "x =int( input(\"数を入力してください \"))\n",
    "if x<0 or x>=100:\n",
    "    print(\"範囲外\")\n",
    "else:\n",
    "    print(\"OK\")"
   ]
  },
  {
   "cell_type": "markdown",
   "metadata": {
    "collapsed": true,
    "nbpresent": {
     "id": "5a94a7ba-860f-4bab-88c9-2cbf4b9a0e58"
    }
   },
   "source": [
    "#      \n",
    "\n",
    "\n",
    "■問題４－１\n",
    "\n",
    "（1）　入力した数が0ならzeroと表示するプログラムを作りましょう．\n",
    "\n",
    "（2）　入力した数が100以上ならOKと表示するプログラムを作りましょう．\n",
    "\n",
    "（3）　入力した数が0以上ならpositive，そうでなければnegativeと表示するプログラムを作りましょう．\n",
    "\n",
    "（4）　入力した2つの数が等しいならequalと表示するプログラムを作りましょう．"
   ]
  },
  {
   "cell_type": "code",
   "execution_count": 29,
   "metadata": {
    "nbpresent": {
     "id": "184a38f1-e00f-4260-921b-4f73142514d6"
    }
   },
   "outputs": [
    {
     "name": "stdout",
     "output_type": "stream",
     "text": [
      "数を入力してください 0\n",
      "zero\n"
     ]
    }
   ],
   "source": [
    "x =int( input(\"数を入力してください \"))\n",
    "if x==0:\n",
    "    print(\"zero\")"
   ]
  },
  {
   "cell_type": "code",
   "execution_count": 30,
   "metadata": {},
   "outputs": [
    {
     "name": "stdout",
     "output_type": "stream",
     "text": [
      "数を入力してください 10\n",
      "OK\n"
     ]
    }
   ],
   "source": [
    "x =int( input(\"数を入力してください \"))\n",
    "if x>=0:\n",
    "    print(\"OK\")"
   ]
  },
  {
   "cell_type": "code",
   "execution_count": 31,
   "metadata": {},
   "outputs": [
    {
     "name": "stdout",
     "output_type": "stream",
     "text": [
      "数を入力してください -10\n",
      "negtaive\n"
     ]
    }
   ],
   "source": [
    "x =int( input(\"数を入力してください \"))\n",
    "if x>=0:\n",
    "    print(\"positive\")\n",
    "else:\n",
    "    print(\"negtaive\")"
   ]
  },
  {
   "cell_type": "code",
   "execution_count": 32,
   "metadata": {},
   "outputs": [
    {
     "name": "stdout",
     "output_type": "stream",
     "text": [
      "数を入力してください 100\n",
      "数を入力してください 100\n",
      "equal\n"
     ]
    }
   ],
   "source": [
    "x =int( input(\"数を入力してください \"))\n",
    "y =int( input(\"数を入力してください \"))\n",
    "if x==y:\n",
    "    print(\"equal\")"
   ]
  },
  {
   "cell_type": "markdown",
   "metadata": {
    "collapsed": true,
    "nbpresent": {
     "id": "20cc427e-4cf1-4086-882a-80a10a288419"
    }
   },
   "source": [
    "■問題４－２\n",
    "\n",
    "例題４－３のサンプルコードを用いて，\n",
    "\n",
    "（1）　入力した数が10か10より大きいか10未満かを判定するプログラムを作りましょう．\n",
    "\n",
    "（2）　入力した数が1なら1，2なら2，それ以外ならetcと表示させましょう．\n",
    "\n",
    "（3）　最初のifの条件式を(x<0)とすると，実行結果は元のプログラムと変わってしまいます．\n",
    "\n",
    "そこで，この条件式以外の部分を修正して，元のプログラムと同じ実行結果を出すプログラムに修正しましょう．"
   ]
  },
  {
   "cell_type": "code",
   "execution_count": 34,
   "metadata": {
    "nbpresent": {
     "id": "efd546b6-83b9-4e4f-9213-d25135a48dd7"
    }
   },
   "outputs": [
    {
     "name": "stdout",
     "output_type": "stream",
     "text": [
      "Please enter an integer:2\n",
      "10より小さい\n"
     ]
    }
   ],
   "source": [
    "x = int(input(\"Please enter an integer:\"))\n",
    "if x > 10 :\n",
    "    print(\"10より大きい\")\n",
    "elif x == 10 :\n",
    "    print (\"10\")\n",
    "else :\n",
    "    print (\"10より小さい\")"
   ]
  },
  {
   "cell_type": "markdown",
   "metadata": {
    "collapsed": true,
    "nbpresent": {
     "id": "e7514176-f784-471f-ae1b-44de1221139b"
    }
   },
   "source": [
    "■問題４－３\n",
    "\n",
    "キーボードから2つの数 $x$ と $y$ を入力し，$y$ が $x$ 以下なら $x-y$ を表示し，\n",
    "$y$ が $x$ より大きければ '負になります' と表示するプログラムを作りなさい．"
   ]
  },
  {
   "cell_type": "code",
   "execution_count": 35,
   "metadata": {
    "nbpresent": {
     "id": "2426ce7c-5233-4d5e-aeb9-52b062e2a298"
    }
   },
   "outputs": [
    {
     "name": "stdout",
     "output_type": "stream",
     "text": [
      "Please enter an integer:10\n",
      "Please enter an integer:9\n",
      "1\n"
     ]
    }
   ],
   "source": [
    "x = int(input(\"Please enter an integer:\"))\n",
    "y = int(input(\"Please enter an integer:\"))\n",
    "if y<=x:\n",
    "    print(x-y)\n",
    "else:\n",
    "    print(\"負になります\")"
   ]
  },
  {
   "cell_type": "markdown",
   "metadata": {
    "collapsed": true,
    "nbpresent": {
     "id": "c974e4e9-f12a-41f4-bcdb-3b1b47a85fe7"
    }
   },
   "source": [
    "■問題４－４\n",
    "\n",
    "まず，文字で絵を3種類作りましょう（例えば '(>_<)'や '⌒▽⌒\"'のような絵）．そして，キーボードから数を入力し，その数が1なら1番目の絵を，2なら2番目の絵を，3なら3番目の絵を表示するプログラムを作りなさい．それ以外の数が入力された場合は，何もしなくてよいです．"
   ]
  },
  {
   "cell_type": "code",
   "execution_count": 38,
   "metadata": {
    "nbpresent": {
     "id": "0871b2e1-944b-46d4-a940-0729e64a717e"
    }
   },
   "outputs": [
    {
     "name": "stdout",
     "output_type": "stream",
     "text": [
      "Please enter an integer:3\n",
      "m(_ _)m\n"
     ]
    }
   ],
   "source": [
    "x = int(input(\"Please enter an integer:\"))\n",
    "if x==1:\n",
    "    print(\"( ＾∀＾)\")\n",
    "elif x==2:\n",
    "    print(\"( ^ω^ )\")\n",
    "elif x==3:\n",
    "    print(\"m(_ _)m\")\n",
    "else:\n",
    "    pass"
   ]
  },
  {
   "cell_type": "markdown",
   "metadata": {
    "collapsed": true,
    "nbpresent": {
     "id": "9132be7b-2dae-4894-9401-ce838c5f93a5"
    }
   },
   "source": [
    "■問題４－５\n",
    "\n",
    "キーボードから数値をxに入力し，ifを使って，xが偶数なら Even，奇数なら Odd と表示させるプログラムを作りなさい．\n",
    "\n",
    "（ヒント：xが偶数なら，xを2で割った余りが0となり，奇数であれば1になるので，xを2で割った余りを調べれば良いですね．\n",
    "余りを計算するには%を使います．）"
   ]
  },
  {
   "cell_type": "code",
   "execution_count": 41,
   "metadata": {
    "nbpresent": {
     "id": "d4bbbd83-ca84-442a-9020-243f7ab0eee3"
    }
   },
   "outputs": [
    {
     "name": "stdout",
     "output_type": "stream",
     "text": [
      "Please enter an integer:9\n",
      "Odd\n"
     ]
    }
   ],
   "source": [
    "x = int(input(\"Please enter an integer:\"))\n",
    "if x%2==0:\n",
    "    print(\"Even\")\n",
    "elif x%2==1:\n",
    "    print(\"Odd\")"
   ]
  },
  {
   "cell_type": "markdown",
   "metadata": {
    "collapsed": true,
    "nbpresent": {
     "id": "e7421b18-c456-40b0-92aa-4c86e4a91234"
    }
   },
   "source": [
    "■問題４－６\n",
    "\n",
    "キーボードから入力した数が10以上20以下であればOKと表示するプログラムを作りなさい．"
   ]
  },
  {
   "cell_type": "code",
   "execution_count": 45,
   "metadata": {
    "nbpresent": {
     "id": "05f988b1-ebf8-4fa5-bfd0-13809c60be0f"
    }
   },
   "outputs": [
    {
     "name": "stdout",
     "output_type": "stream",
     "text": [
      "数を入力してください 16\n",
      "OK\n"
     ]
    }
   ],
   "source": [
    "x =int( input(\"数を入力してください \"))\n",
    "if x>=10 and x<=20:\n",
    "    print(\"OK\")"
   ]
  },
  {
   "cell_type": "markdown",
   "metadata": {
    "nbpresent": {
     "id": "968a9b1e-cd8b-4d5e-a66c-50c438367a02"
    }
   },
   "source": [
    "■問題４－７\n",
    "\n",
    "文字で作った絵を2つ作りましょう．\n",
    "\n",
    "そして，キーボードから入力した数が10 以上20 以下なら1つ目の絵を，50以上60以下なら2つ目の絵を表示するプログラムを作りなさい．"
   ]
  },
  {
   "cell_type": "code",
   "execution_count": 47,
   "metadata": {
    "nbpresent": {
     "id": "1d4bd536-6fbd-4a93-b0eb-230f99ade32b"
    }
   },
   "outputs": [
    {
     "name": "stdout",
     "output_type": "stream",
     "text": [
      "数を入力してください 60\n",
      "(T ^ T)\n"
     ]
    }
   ],
   "source": [
    "x =int( input(\"数を入力してください \"))\n",
    "if x>=10 and x<=20:\n",
    "    print(\"･:*+.\\(( °ω° ))/.:+\")\n",
    "if x>=50 and x<=60:\n",
    "    print(\"(T ^ T)\")\n",
    "    "
   ]
  },
  {
   "cell_type": "markdown",
   "metadata": {
    "nbpresent": {
     "id": "4332c8e4-7b90-4ee0-9fa3-35f845b9fa86"
    }
   },
   "source": [
    "■問題４－８\n",
    "\n",
    "キーボードから数を入力し，その数が正ならその数を表示．そうでなければ，もうひとつ数を入力し，最初の数との積を表示するプログラムを作りなさい．\n",
    "\n",
    "表示結果例\n",
    "\n",
    "```python\n",
    "x = -3\n",
    "y = 2\n",
    "product = -6\n",
    "```"
   ]
  },
  {
   "cell_type": "code",
   "execution_count": 50,
   "metadata": {
    "nbpresent": {
     "id": "29698b24-b406-40db-9915-1eeafc09cab7"
    }
   },
   "outputs": [
    {
     "name": "stdout",
     "output_type": "stream",
     "text": [
      "数を入力してください -3\n",
      "数を入力してください 2\n",
      "product= -6\n"
     ]
    }
   ],
   "source": [
    "x =int( input(\"数を入力してください \"))\n",
    "if x>0:\n",
    "    print(x)\n",
    "else:\n",
    "    y =int( input(\"数を入力してください \"))\n",
    "    print(\"product=\",x*y)"
   ]
  },
  {
   "cell_type": "markdown",
   "metadata": {
    "nbpresent": {
     "id": "115cc600-1426-46d7-9ba6-950d07e65f8a"
    }
   },
   "source": [
    "#   \n",
    "\n",
    "# ■■■■■■■■■■■■第5章■■■■■■■■■■■■\n",
    "\n",
    "（繰り返し文，while，for）\n",
    "\n",
    "プログラム（コンピュータ）は，同じ操作を繰り返すことが得意です．\n",
    "\n",
    "```python\n",
    "while 条件: \n",
    "　　\n",
    "  繰り返したい文\n",
    "```\n",
    " \n",
    "の構文で条件が成立している間（真のとき）に文（複数でも可）が繰り返し実行されます．\n",
    "\n",
    "#  \n",
    "\n",
    "●例題５－１\n",
    "\n",
    "$5$ から $1$ までの数字を順番に表示するプログラムを作れ．\n",
    "\n",
    "xに最初に5を代入します．while x > 0: とxが正の間は繰り返す while 文を作ります．\n",
    "繰り返したいブロックの中で，xをprintしてから，xをから1を引いた値を再びxに代入します．（これを忘れると止まらないプログラムになります．）\n"
   ]
  },
  {
   "cell_type": "code",
   "execution_count": null,
   "metadata": {
    "nbpresent": {
     "id": "0173d4f5-4710-428c-9bc2-6f603fd9412f"
    }
   },
   "outputs": [],
   "source": [
    "x = 5 \n",
    "while x > 0:\n",
    "    print(x)\n",
    "    x= x -1  #x -= 1 と書いても同じ "
   ]
  },
  {
   "cell_type": "markdown",
   "metadata": {
    "nbpresent": {
     "id": "657d5889-0c2f-460d-a84f-58c2d88f830e"
    }
   },
   "source": [
    "●例題５－２\n",
    "\n",
    "while の中で break文を入れると，whileの反復（ループ）から出ることができます．\n",
    "\n",
    "10から1までの数字の2乗を順に出力するプログラムを作成せよ．\n",
    "\n",
    "xに最初に10を代入しておきます．\n",
    "\n",
    "while の後に True と常に真になる式を入れて whileループを作ります．繰り返しブロックの中でxの2乗を出力してから，\n",
    "１を引きます．その後に，if文を入れて，xが0以下になったら breakするようにします．\n"
   ]
  },
  {
   "cell_type": "code",
   "execution_count": 52,
   "metadata": {
    "nbpresent": {
     "id": "e34a5f85-c7b6-4e21-9054-d5ea3b15328d"
    }
   },
   "outputs": [
    {
     "name": "stdout",
     "output_type": "stream",
     "text": [
      "100\n",
      "81\n",
      "64\n",
      "49\n",
      "36\n",
      "25\n",
      "16\n",
      "9\n",
      "4\n",
      "1\n"
     ]
    }
   ],
   "source": [
    "x=10\n",
    "while True: \n",
    "    print( x**2 )\n",
    "    x =x-1\n",
    "    if x<=0:\n",
    "        break"
   ]
  },
  {
   "cell_type": "markdown",
   "metadata": {
    "nbpresent": {
     "id": "861c4c80-7353-4dd9-b787-2fc2c572595f"
    }
   },
   "source": [
    "●例題５－３\n",
    "\n",
    "簡単な数字の繰り返しなら for 文を使った方が簡単です．\n",
    "\n",
    "```python\n",
    "for x in range(初期値，終了値，ステップ)：\n",
    "\n",
    "　　繰り返したい文\n",
    "```\n",
    " \n",
    "の構文です．ここで繰り返しは range()関数を用いて生成します．\n",
    "\n",
    "たとえば，range(0,10,1) と書くと，0,1,2,...,9 の数字を x に順に代入して繰り返します．終了値の1つ前まで繰り返すことに注意してください．\n",
    "\n",
    "初期値は省略すると 0，ステップは省略すると 1 になりので，range(0,10,1)は range(10) と書いても大丈夫です．\n",
    "\n",
    "ステップを2にすると，1つ飛ばしで数列が生成されます．たとえば range(1,10,2) は 1,3,5,7,9 となります．\n",
    "\n",
    "\n",
    "1から10までの奇数の2乗を順に出力するプログラムを作成せよ．\n"
   ]
  },
  {
   "cell_type": "code",
   "execution_count": 53,
   "metadata": {
    "nbpresent": {
     "id": "59574263-90c9-402e-8dac-2d3a29bbb968"
    }
   },
   "outputs": [
    {
     "name": "stdout",
     "output_type": "stream",
     "text": [
      "1\n",
      "9\n",
      "25\n",
      "49\n",
      "81\n"
     ]
    }
   ],
   "source": [
    "for x in range(1,10,2):\n",
    "    print(x**2)"
   ]
  },
  {
   "cell_type": "markdown",
   "metadata": {
    "nbpresent": {
     "id": "a3314f49-0106-40bf-aed3-4c4c1f30d990"
    }
   },
   "source": [
    "●例題５－４\n",
    "\n",
    "例題５－２と同じ問題（10から1までの数字の2乗を順に出力するプログラムを作成せよ）をfor文を使って解いてみましょう．\n",
    "\n",
    "\n",
    "\n",
    "10から1までの数列を生成するには，range(10,0,-1)とステップに-1を入れます．\n"
   ]
  },
  {
   "cell_type": "code",
   "execution_count": 54,
   "metadata": {
    "nbpresent": {
     "id": "b3c3b67d-3422-42fa-85cd-b6ea9cad28e0"
    }
   },
   "outputs": [
    {
     "name": "stdout",
     "output_type": "stream",
     "text": [
      "100\n",
      "81\n",
      "64\n",
      "49\n",
      "36\n",
      "25\n",
      "16\n",
      "9\n",
      "4\n",
      "1\n"
     ]
    }
   ],
   "source": [
    "for x in range(10,0,-1):\n",
    "    print(x**2)"
   ]
  },
  {
   "cell_type": "markdown",
   "metadata": {
    "nbpresent": {
     "id": "46b6c903-5ceb-4705-b6aa-056934dd9752"
    }
   },
   "source": [
    "●例題５－５\n",
    "\n",
    "for(while)文の中にfor(while)文を書くこともできます．これは反復（ループ）の入れ子とよばれます．\n",
    "\n",
    "Pythonでは，字下げ（インデント）が重要ですので，構文は以下のようになります．\n",
    "\n",
    "```python\n",
    "for x in range(初期値，終了値，ステップ)：\n",
    "\n",
    "　　for y in range(初期値，終了値，ステップ)：\n",
    "\n",
    "　　　　繰り返したい文\n",
    "```  \n",
    " while文でも同様です．\n",
    " \n",
    " 1から5までの整数 $x$ と 8 から16までの整数 $y$ の和の表を作成せよ．\n",
    " \n",
    "\n",
    " 以下のような出力を得たいのですが， print()関数で出力すると，自動的に改行されてしまいます．\n",
    " \n",
    "  9 10 11 12 13 14 15 16 17 \n",
    " \n",
    "10 11 12 13 14 15 16 17 18 \n",
    "\n",
    "11 12 13 14 15 16 17 18 19 \n",
    "\n",
    "12 13 14 15 16 17 18 19 20 \n",
    "\n",
    "13 14 15 16 17 18 19 20 21 \n",
    " \n",
    "改行しないで（かつ空白を入れて）出力したいときには，print(出力したい数, end=' ') と書きます．\n",
    "これは，end= の後に書いた文字が，改行コードの代わりに，出力に付加されることを表します．\n",
    "\n",
    "すると全部つながって \n",
    "\n",
    "9 10 11 12 13 14 15 16 17 10 11 12 13 14 15 16 17 18 11 12 13 14 15 16 17 18 19 12 13 14 15 16 17 18 19 20 13 14 15 16 17 18 19 20 21\n",
    "\n",
    "と出力されてしまうので，内側の for ループが終わったあとに print() と改行を行うための出力をいれます．"
   ]
  },
  {
   "cell_type": "code",
   "execution_count": 57,
   "metadata": {
    "nbpresent": {
     "id": "68ead954-7ffb-4606-8946-e4c373341d05"
    }
   },
   "outputs": [
    {
     "name": "stdout",
     "output_type": "stream",
     "text": [
      "9 10 11 12 13 14 15 16 17 \n",
      "10 11 12 13 14 15 16 17 18 \n",
      "11 12 13 14 15 16 17 18 19 \n",
      "12 13 14 15 16 17 18 19 20 \n",
      "13 14 15 16 17 18 19 20 21 \n"
     ]
    }
   ],
   "source": [
    "for x in range(1,6):\n",
    "    for y in range(8,17):\n",
    "        print(x+y, end=' ')\n",
    "    print()"
   ]
  },
  {
   "cell_type": "markdown",
   "metadata": {
    "nbpresent": {
     "id": "68f80eb4-48ac-4b5a-b5fc-82c01dd35f33"
    }
   },
   "source": [
    "■問題５－１（while文）\n",
    "\n",
    "（１）「入力した数を表示する」という作業を，無条件に繰り返すプログラムを作りなさい．（プログラムが終わりませんが，再び新しいプログラムをShift+Enterで入力すると以前のプログラムは止まります．）\n",
    "\n",
    "（２）「２つの数を入力し，表示する」という作業を繰り返すようにせよ．\n",
    "\n",
    "（３）「入力した定価の税込価格を表示する」という作業を繰り返すプログラムを作成せよ．\n",
    "\n",
    "（４）０を入力したら止まるプログラムにせよ\n",
    "\n",
    "（５）負の数を入力したら止まるプログラムにせよ"
   ]
  },
  {
   "cell_type": "code",
   "execution_count": null,
   "metadata": {
    "nbpresent": {
     "id": "316a2e42-bb92-4743-bbda-44e81abd7f5d"
    }
   },
   "outputs": [],
   "source": [
    "while True:\n",
    "    x =int( input(\"数を入力してください \"))\n",
    "    y =int( input(\"数を入力してください \"))\n",
    "    print(x,y)\n"
   ]
  },
  {
   "cell_type": "code",
   "execution_count": null,
   "metadata": {},
   "outputs": [],
   "source": [
    "while True:\n",
    "    x =int( input(\"定価価格を入れてください \"))\n",
    "    print(\"税込価格は\",x*1.08,\"円です\")"
   ]
  },
  {
   "cell_type": "code",
   "execution_count": 11,
   "metadata": {},
   "outputs": [
    {
     "name": "stdout",
     "output_type": "stream",
     "text": [
      "数を入力してください 0\n",
      "0\n"
     ]
    }
   ],
   "source": [
    "while True:\n",
    "    x =int( input(\"数を入力してください \"))\n",
    "    print(x)\n",
    "    if x==0:\n",
    "        break\n"
   ]
  },
  {
   "cell_type": "code",
   "execution_count": 10,
   "metadata": {},
   "outputs": [
    {
     "name": "stdout",
     "output_type": "stream",
     "text": [
      "数を入力してください 3\n",
      "3\n",
      "数を入力してください 4\n",
      "4\n",
      "数を入力してください -2\n",
      "-2\n"
     ]
    }
   ],
   "source": [
    "while True:\n",
    "    x =int( input(\"数を入力してください \"))\n",
    "    print(x)\n",
    "    if x<0:\n",
    "        break\n"
   ]
  },
  {
   "cell_type": "markdown",
   "metadata": {
    "nbpresent": {
     "id": "a2c68fbf-b326-49cf-aa63-d28e91c27215"
    }
   },
   "source": [
    "■問題５－２（while文）\n",
    "\n",
    "（１）「入力した数が7の倍数かどうかを判定する」という作業を繰り返す\n",
    "プログラムを作りなさい．\n",
    "\n",
    "（２）３の倍数かどうかの判定を繰り返すようにせよ\n",
    "\n",
    "（３）負かどうかの判定を繰り返すようにせよ"
   ]
  },
  {
   "cell_type": "code",
   "execution_count": null,
   "metadata": {
    "nbpresent": {
     "id": "59e7d3f6-8301-4188-b863-b46b4b6201e4"
    }
   },
   "outputs": [],
   "source": [
    "while True:\n",
    "    x =int( input(\"数を入力してください \"))\n",
    "    if x%7==0:\n",
    "        print(\"入力された数字は7の倍数です\")\n",
    "    else:\n",
    "        print(\"入力された数字は７の倍数ではありません\")"
   ]
  },
  {
   "cell_type": "code",
   "execution_count": null,
   "metadata": {
    "scrolled": true
   },
   "outputs": [],
   "source": [
    "while True:\n",
    "    x =int( input(\"数を入力してください \"))\n",
    "    if x%3==0:\n",
    "        print(\"入力された数字は3の倍数です\")\n",
    "    else:\n",
    "        print(\"入力された数字は3の倍数ではありません\")"
   ]
  },
  {
   "cell_type": "code",
   "execution_count": 19,
   "metadata": {},
   "outputs": [
    {
     "name": "stdout",
     "output_type": "stream",
     "text": [
      "数を入力してください \n"
     ]
    },
    {
     "ename": "ValueError",
     "evalue": "invalid literal for int() with base 10: ''",
     "output_type": "error",
     "traceback": [
      "\u001b[0;31m---------------------------------------------------------------------------\u001b[0m",
      "\u001b[0;31mValueError\u001b[0m                                Traceback (most recent call last)",
      "\u001b[0;32m<ipython-input-19-efee2105b146>\u001b[0m in \u001b[0;36m<module>\u001b[0;34m()\u001b[0m\n\u001b[1;32m      1\u001b[0m \u001b[0;32mwhile\u001b[0m \u001b[0;32mTrue\u001b[0m\u001b[0;34m:\u001b[0m\u001b[0;34m\u001b[0m\u001b[0m\n\u001b[0;32m----> 2\u001b[0;31m     \u001b[0mx\u001b[0m \u001b[0;34m=\u001b[0m\u001b[0mint\u001b[0m\u001b[0;34m(\u001b[0m \u001b[0minput\u001b[0m\u001b[0;34m(\u001b[0m\u001b[0;34m\"数を入力してください \"\u001b[0m\u001b[0;34m)\u001b[0m\u001b[0;34m)\u001b[0m\u001b[0;34m\u001b[0m\u001b[0m\n\u001b[0m\u001b[1;32m      3\u001b[0m     \u001b[0;32mif\u001b[0m \u001b[0mx\u001b[0m\u001b[0;34m>\u001b[0m\u001b[0;36m0\u001b[0m\u001b[0;34m:\u001b[0m\u001b[0;34m\u001b[0m\u001b[0m\n\u001b[1;32m      4\u001b[0m         \u001b[0mprint\u001b[0m\u001b[0;34m(\u001b[0m\u001b[0;34m\"正の数です\"\u001b[0m\u001b[0;34m)\u001b[0m\u001b[0;34m\u001b[0m\u001b[0m\n\u001b[1;32m      5\u001b[0m     \u001b[0;32melif\u001b[0m \u001b[0mx\u001b[0m\u001b[0;34m<\u001b[0m\u001b[0;36m0\u001b[0m\u001b[0;34m:\u001b[0m\u001b[0;34m\u001b[0m\u001b[0m\n",
      "\u001b[0;31mValueError\u001b[0m: invalid literal for int() with base 10: ''"
     ]
    }
   ],
   "source": [
    "while True:\n",
    "    x =int( input(\"数を入力してください \"))\n",
    "    if x>0:\n",
    "        print(\"正の数です\")\n",
    "    elif x<0:\n",
    "        print(\"負の数です\")"
   ]
  },
  {
   "cell_type": "markdown",
   "metadata": {
    "nbpresent": {
     "id": "0db6b397-312e-4647-a2ab-d4830fa9518d"
    }
   },
   "source": [
    "■問題５－３\n",
    "\n",
    "（１）Hello!を10回表示するプログラムを作りなさい．\n",
    "\n",
    "（２）20回表示するプログラムにしなさい"
   ]
  },
  {
   "cell_type": "code",
   "execution_count": 22,
   "metadata": {
    "nbpresent": {
     "id": "bb8fb69b-f7c1-487f-97ff-44cc9a802a90"
    }
   },
   "outputs": [
    {
     "name": "stdout",
     "output_type": "stream",
     "text": [
      "Hello!\n",
      "Hello!\n",
      "Hello!\n",
      "Hello!\n",
      "Hello!\n",
      "Hello!\n",
      "Hello!\n",
      "Hello!\n",
      "Hello!\n",
      "Hello!\n"
     ]
    }
   ],
   "source": [
    "x=1\n",
    "while x<=10:\n",
    "    print(\"Hello!\")\n",
    "    x=x+1"
   ]
  },
  {
   "cell_type": "code",
   "execution_count": 21,
   "metadata": {},
   "outputs": [
    {
     "name": "stdout",
     "output_type": "stream",
     "text": [
      "･:*+.\\(( °ω° ))/.:+\n",
      "･:*+.\\(( °ω° ))/.:+\n",
      "･:*+.\\(( °ω° ))/.:+\n",
      "･:*+.\\(( °ω° ))/.:+\n",
      "･:*+.\\(( °ω° ))/.:+\n",
      "･:*+.\\(( °ω° ))/.:+\n",
      "･:*+.\\(( °ω° ))/.:+\n",
      "･:*+.\\(( °ω° ))/.:+\n",
      "･:*+.\\(( °ω° ))/.:+\n",
      "･:*+.\\(( °ω° ))/.:+\n",
      "･:*+.\\(( °ω° ))/.:+\n",
      "･:*+.\\(( °ω° ))/.:+\n",
      "･:*+.\\(( °ω° ))/.:+\n",
      "･:*+.\\(( °ω° ))/.:+\n",
      "･:*+.\\(( °ω° ))/.:+\n",
      "･:*+.\\(( °ω° ))/.:+\n",
      "･:*+.\\(( °ω° ))/.:+\n",
      "･:*+.\\(( °ω° ))/.:+\n",
      "･:*+.\\(( °ω° ))/.:+\n",
      "･:*+.\\(( °ω° ))/.:+\n"
     ]
    }
   ],
   "source": [
    "x=1\n",
    "while x<=20:\n",
    "    print(\"･:*+.\\(( °ω° ))/.:+\")\n",
    "    x=x+1"
   ]
  },
  {
   "cell_type": "markdown",
   "metadata": {
    "nbpresent": {
     "id": "5facd15a-b695-45b0-8860-c66a3c074156"
    }
   },
   "source": [
    "■問題５－４（while文）\n",
    "\n",
    "（１）1から10までの整数を表示するプログラムを作りなさい．\n",
    "\n",
    "（２）1から20までの整数を表示するように書き換えよ．\n",
    "\n",
    "（３）-10から10までの整数を表示するように書き換えよ．\n",
    "\n",
    "（４）2,4,6,8,10 を表示するように書き換えよ．\n",
    "\n",
    "（ヒント：xを2つずつ大きくすると…）\n",
    "\n",
    "（５）while x<=10: を while x<10: とするとどうなるか，試せ．\n",
    "また，どうしてそうなるのか，考察せよ．"
   ]
  },
  {
   "cell_type": "code",
   "execution_count": 23,
   "metadata": {
    "nbpresent": {
     "id": "dd7149b2-456e-48b5-ba3d-97335d137911"
    }
   },
   "outputs": [
    {
     "name": "stdout",
     "output_type": "stream",
     "text": [
      "1\n",
      "2\n",
      "3\n",
      "4\n",
      "5\n",
      "6\n",
      "7\n",
      "8\n",
      "9\n",
      "10\n"
     ]
    }
   ],
   "source": [
    "x=1\n",
    "while x<=10:\n",
    "    print(x)\n",
    "    x=1+x"
   ]
  },
  {
   "cell_type": "code",
   "execution_count": 24,
   "metadata": {},
   "outputs": [
    {
     "name": "stdout",
     "output_type": "stream",
     "text": [
      "1\n",
      "2\n",
      "3\n",
      "4\n",
      "5\n",
      "6\n",
      "7\n",
      "8\n",
      "9\n",
      "10\n",
      "11\n",
      "12\n",
      "13\n",
      "14\n",
      "15\n",
      "16\n",
      "17\n",
      "18\n",
      "19\n",
      "20\n"
     ]
    }
   ],
   "source": [
    "x=1\n",
    "while x<=20:\n",
    "    print(x)\n",
    "    x=1+x"
   ]
  },
  {
   "cell_type": "code",
   "execution_count": 1,
   "metadata": {},
   "outputs": [
    {
     "name": "stdout",
     "output_type": "stream",
     "text": [
      "-10\n",
      "-9\n",
      "-8\n",
      "-7\n",
      "-6\n",
      "-5\n",
      "-4\n",
      "-3\n",
      "-2\n",
      "-1\n",
      "0\n",
      "1\n",
      "2\n",
      "3\n",
      "4\n",
      "5\n",
      "6\n",
      "7\n",
      "8\n",
      "9\n",
      "10\n"
     ]
    }
   ],
   "source": [
    "x=-10\n",
    "while x<=10:\n",
    "    print(x)\n",
    "    x=1+x"
   ]
  },
  {
   "cell_type": "code",
   "execution_count": 2,
   "metadata": {},
   "outputs": [
    {
     "name": "stdout",
     "output_type": "stream",
     "text": [
      "2\n",
      "4\n",
      "6\n",
      "8\n",
      "10\n"
     ]
    }
   ],
   "source": [
    "x=1\n",
    "while x<=5:\n",
    "    y=x*2\n",
    "    print(y)\n",
    "    x=x+1"
   ]
  },
  {
   "cell_type": "markdown",
   "metadata": {
    "nbpresent": {
     "id": "d91a3b88-8409-42a1-8487-805e9d57aba2"
    }
   },
   "source": [
    "■問題５－５（for文）\n",
    "\n",
    "（１）問題５－４の各問をforループを用いて書き換えよ\n",
    "\n",
    "（２）10から1までの整数を大きい順で（10,9,8,… ）表示せよ．\n",
    "\n",
    "（３）1から100までの偶数を表示せよ．"
   ]
  },
  {
   "cell_type": "code",
   "execution_count": 3,
   "metadata": {
    "nbpresent": {
     "id": "2d35e655-bb62-42e7-bada-cf69d2fc60c8"
    }
   },
   "outputs": [
    {
     "name": "stdout",
     "output_type": "stream",
     "text": [
      "1\n",
      "2\n",
      "3\n",
      "4\n",
      "5\n",
      "6\n",
      "7\n",
      "8\n",
      "9\n",
      "10\n"
     ]
    }
   ],
   "source": [
    "for x in range(1,11):\n",
    "    print(x)"
   ]
  },
  {
   "cell_type": "code",
   "execution_count": 5,
   "metadata": {},
   "outputs": [
    {
     "name": "stdout",
     "output_type": "stream",
     "text": [
      "10\n",
      "9\n",
      "8\n",
      "7\n",
      "6\n",
      "5\n",
      "4\n",
      "3\n",
      "2\n",
      "1\n"
     ]
    }
   ],
   "source": [
    "for x in range(10,0,-1):\n",
    "    print(x)"
   ]
  },
  {
   "cell_type": "code",
   "execution_count": 6,
   "metadata": {},
   "outputs": [
    {
     "name": "stdout",
     "output_type": "stream",
     "text": [
      "2\n",
      "4\n",
      "6\n",
      "8\n",
      "10\n",
      "12\n",
      "14\n",
      "16\n",
      "18\n",
      "20\n",
      "22\n",
      "24\n",
      "26\n",
      "28\n",
      "30\n",
      "32\n",
      "34\n",
      "36\n",
      "38\n",
      "40\n",
      "42\n",
      "44\n",
      "46\n",
      "48\n",
      "50\n",
      "52\n",
      "54\n",
      "56\n",
      "58\n",
      "60\n",
      "62\n",
      "64\n",
      "66\n",
      "68\n",
      "70\n",
      "72\n",
      "74\n",
      "76\n",
      "78\n",
      "80\n",
      "82\n",
      "84\n",
      "86\n",
      "88\n",
      "90\n",
      "92\n",
      "94\n",
      "96\n",
      "98\n",
      "100\n"
     ]
    }
   ],
   "source": [
    "for x in range(2,101,2):\n",
    "    print(x)"
   ]
  },
  {
   "cell_type": "markdown",
   "metadata": {
    "nbpresent": {
     "id": "8e84a281-52d2-412b-b0b8-8f29768f40bc"
    }
   },
   "source": [
    "■問題５－６\n",
    "\n",
    "（１）「数を10回入力して表示する，\n",
    "ただし，途中で0が入力されたら終了する」プログラムを作れ．\n",
    "\n",
    "（２）「数を20回入力するようにせよ\n",
    "\n",
    "（３）100を入力したら終わるようにせよ．\n",
    "\n",
    "（４）負の数を入力したら終わるようにせよ．\n",
    "\n",
    "（５）0か1を入力したら終わるようにせよ．\n",
    "\n",
    "（６）「入力した数を表示する作業を，0が入力されるまで繰り返す，\n",
    "ただし，10回を過ぎたら終了する」プログラムをfor文を用いて作れ"
   ]
  },
  {
   "cell_type": "code",
   "execution_count": 7,
   "metadata": {
    "nbpresent": {
     "id": "be2a3604-b4a7-491f-b5ea-835c5f35fca2"
    }
   },
   "outputs": [
    {
     "name": "stdout",
     "output_type": "stream",
     "text": [
      "数を入力してください1\n",
      "1\n",
      "数を入力してください0\n",
      "0\n"
     ]
    }
   ],
   "source": [
    "for x in range(1,11):\n",
    "    y=int(input(\"数を入力してください\"))\n",
    "    print(y)\n",
    "    x=1+x\n",
    "    if y==0:\n",
    "        break"
   ]
  },
  {
   "cell_type": "code",
   "execution_count": 8,
   "metadata": {},
   "outputs": [
    {
     "name": "stdout",
     "output_type": "stream",
     "text": [
      "数を入力してください1\n",
      "1\n",
      "数を入力してください2\n",
      "2\n",
      "数を入力してください3\n",
      "3\n",
      "数を入力してください4\n",
      "4\n",
      "数を入力してください5\n",
      "5\n",
      "数を入力してください6\n",
      "6\n",
      "数を入力してください7\n",
      "7\n",
      "数を入力してください8\n",
      "8\n",
      "数を入力してください9\n",
      "9\n",
      "数を入力してください0\n",
      "0\n",
      "数を入力してください1\n",
      "1\n",
      "数を入力してください1\n",
      "1\n",
      "数を入力してください22\n",
      "22\n",
      "数を入力してください33\n",
      "33\n",
      "数を入力してください44\n",
      "44\n",
      "数を入力してください33\n",
      "33\n",
      "数を入力してください44\n",
      "44\n",
      "数を入力してください23\n",
      "23\n",
      "数を入力してください56\n",
      "56\n",
      "数を入力してください34\n",
      "34\n"
     ]
    }
   ],
   "source": [
    "for x in range(1,21):\n",
    "    y=int(input(\"数を入力してください\"))\n",
    "    print(y)\n",
    "    x=1+x"
   ]
  },
  {
   "cell_type": "code",
   "execution_count": 9,
   "metadata": {},
   "outputs": [
    {
     "name": "stdout",
     "output_type": "stream",
     "text": [
      "数を入力してください2\n",
      "2\n",
      "数を入力してください100\n",
      "100\n"
     ]
    }
   ],
   "source": [
    "x=1\n",
    "while True:\n",
    "    y=int(input(\"数を入力してください\"))\n",
    "    print(y)\n",
    "    x=1+x\n",
    "    if y==100:\n",
    "        break"
   ]
  },
  {
   "cell_type": "code",
   "execution_count": 10,
   "metadata": {},
   "outputs": [
    {
     "name": "stdout",
     "output_type": "stream",
     "text": [
      "数を入力してください3\n",
      "3\n",
      "数を入力してください2\n",
      "2\n",
      "数を入力してください1\n",
      "1\n"
     ]
    }
   ],
   "source": [
    "x=1\n",
    "while True:\n",
    "    y=int(input(\"数を入力してください\"))\n",
    "    print(y)\n",
    "    x=1+x\n",
    "    if y==0 or y==1:\n",
    "        break"
   ]
  },
  {
   "cell_type": "code",
   "execution_count": 11,
   "metadata": {},
   "outputs": [
    {
     "name": "stdout",
     "output_type": "stream",
     "text": [
      "数を入力してください3\n",
      "3\n",
      "数を入力してください2\n",
      "2\n",
      "数を入力してください4\n",
      "4\n",
      "数を入力してください5\n",
      "5\n",
      "数を入力してください0\n",
      "0\n"
     ]
    }
   ],
   "source": [
    "for x in range(1,11):\n",
    "    y=int(input(\"数を入力してください\"))\n",
    "    print(y)\n",
    "    if y==0:\n",
    "        break\n",
    "    "
   ]
  },
  {
   "cell_type": "markdown",
   "metadata": {
    "nbpresent": {
     "id": "f8ebbbe6-66bd-4a74-b2ee-3e2ff7abd0c2"
    }
   },
   "source": [
    "■問題５－７\n",
    "\n",
    "（１）forの2重ループを使って，九九の表を書くプログラムを作成せよ．\n",
    "ただし，表の罫線を書くのは大変なので，中身の数字だけを書く．\n",
    "\n",
    "（２）9×9 の足し算の答えを表にせよ．\n",
    "\n",
    "（３）12×12 の掛け算の答えを表にせよ．"
   ]
  },
  {
   "cell_type": "code",
   "execution_count": 12,
   "metadata": {
    "nbpresent": {
     "id": "26f7afe5-b36c-4560-834e-38fb7099aa98"
    }
   },
   "outputs": [
    {
     "name": "stdout",
     "output_type": "stream",
     "text": [
      "1 2 3 4 5 6 7 8 9 \n",
      "2 4 6 8 10 12 14 16 18 \n",
      "3 6 9 12 15 18 21 24 27 \n",
      "4 8 12 16 20 24 28 32 36 \n",
      "5 10 15 20 25 30 35 40 45 \n",
      "6 12 18 24 30 36 42 48 54 \n",
      "7 14 21 28 35 42 49 56 63 \n",
      "8 16 24 32 40 48 56 64 72 \n",
      "9 18 27 36 45 54 63 72 81 \n"
     ]
    }
   ],
   "source": [
    "for x in range (1,10):\n",
    "    for y in range(1,10):\n",
    "        print(x*y, end=' ')\n",
    "    print()"
   ]
  },
  {
   "cell_type": "code",
   "execution_count": 13,
   "metadata": {},
   "outputs": [
    {
     "name": "stdout",
     "output_type": "stream",
     "text": [
      "2 3 4 5 6 7 8 9 10 \n",
      "3 4 5 6 7 8 9 10 11 \n",
      "4 5 6 7 8 9 10 11 12 \n",
      "5 6 7 8 9 10 11 12 13 \n",
      "6 7 8 9 10 11 12 13 14 \n",
      "7 8 9 10 11 12 13 14 15 \n",
      "8 9 10 11 12 13 14 15 16 \n",
      "9 10 11 12 13 14 15 16 17 \n",
      "10 11 12 13 14 15 16 17 18 \n"
     ]
    }
   ],
   "source": [
    "for x in range (1,10):\n",
    "    for y in range(1,10):\n",
    "        print(x+y, end=' ')\n",
    "    print()"
   ]
  },
  {
   "cell_type": "code",
   "execution_count": 14,
   "metadata": {},
   "outputs": [
    {
     "name": "stdout",
     "output_type": "stream",
     "text": [
      "1 2 3 4 5 6 7 8 9 10 11 12 \n",
      "2 4 6 8 10 12 14 16 18 20 22 24 \n",
      "3 6 9 12 15 18 21 24 27 30 33 36 \n",
      "4 8 12 16 20 24 28 32 36 40 44 48 \n",
      "5 10 15 20 25 30 35 40 45 50 55 60 \n",
      "6 12 18 24 30 36 42 48 54 60 66 72 \n",
      "7 14 21 28 35 42 49 56 63 70 77 84 \n",
      "8 16 24 32 40 48 56 64 72 80 88 96 \n",
      "9 18 27 36 45 54 63 72 81 90 99 108 \n",
      "10 20 30 40 50 60 70 80 90 100 110 120 \n",
      "11 22 33 44 55 66 77 88 99 110 121 132 \n",
      "12 24 36 48 60 72 84 96 108 120 132 144 \n"
     ]
    }
   ],
   "source": [
    "for x in range (1,13):\n",
    "    for y in range(1,13):\n",
    "        print(x*y, end=' ')\n",
    "    print()"
   ]
  },
  {
   "cell_type": "markdown",
   "metadata": {
    "nbpresent": {
     "id": "fb2dad07-9010-46ad-8d51-a60826d01e80"
    }
   },
   "source": [
    "■問題５－８\n",
    "\n",
    "　＃＃＃＃＃＃＃＃＃＃　1個の空白と10個の#を表示\n",
    "\n",
    "　　＃＃＃＃＃＃＃＃　　2個の空白と8個の#を表示\n",
    "\n",
    "　　　＃＃＃＃＃＃　　　3個の空白と6個の#を表示\n",
    "\n",
    "　　　　＃＃＃＃　　　　4個の空白と4個の#を表示\n",
    "\n",
    "　　　　　＃＃　　　　　5個の空白と2個の#を表示 \n",
    "  \n",
    "上のような#で作った三角形を表示するプログラムを作成せよ．　\n",
    "\n",
    "【やや難】"
   ]
  },
  {
   "cell_type": "code",
   "execution_count": null,
   "metadata": {
    "nbpresent": {
     "id": "24b9b07e-679b-4992-863a-202870fc4dd0"
    }
   },
   "outputs": [],
   "source": []
  },
  {
   "cell_type": "markdown",
   "metadata": {
    "nbpresent": {
     "id": "12d7a47c-7656-477c-be92-35946adcc758"
    }
   },
   "source": [
    "■問題５－９（whileとif文の練習１）（▲参考：問題５－２）\n",
    "\n",
    "整数x1をまず入力させる．\n",
    "\n",
    "次に整数x2をキーボードから入力させ，\n",
    "\n",
    "その数値がx1と同じならプログラムを終了し，\n",
    "\n",
    "違うならば何らかの絵文字を表示させるプログラムを作成せよ．"
   ]
  },
  {
   "cell_type": "code",
   "execution_count": 15,
   "metadata": {
    "nbpresent": {
     "id": "0d40923c-6ef4-4c35-ab77-5f0440d0e456"
    }
   },
   "outputs": [
    {
     "name": "stdout",
     "output_type": "stream",
     "text": [
      "# # # # # # # # # # \n",
      "\n",
      "# # # # # # # # \n",
      "\n",
      "# # # # # # \n",
      "\n",
      "# # # # \n",
      "\n",
      "# # \n",
      "\n"
     ]
    }
   ],
   "source": [
    "for x in range(0,5):\n",
    "    for y in range(1,11-2*x):\n",
    "        print(\"#\",end=' ')\n",
    "    print()\n",
    "    print()\n",
    "        "
   ]
  },
  {
   "cell_type": "markdown",
   "metadata": {
    "nbpresent": {
     "id": "de526fd4-9cfe-4bf1-b1c1-5c376d14ac05"
    }
   },
   "source": [
    "■問題５－１０（whileとif文の練習２）（▲参考：問題５－３）\n",
    "\n",
    "1から100までのランダムな整数をxに代入し，\n",
    "\n",
    "xが偶然50になるまで，その数値を\n",
    "\n",
    "表示させ続けるプログラムを作りなさい．\n",
    "\n",
    "（※最初の行にimport randomと宣言した上で，\n",
    "\n",
    "x=random.randint(a,b)と書くことで，\n",
    "\n",
    "xにaからbまでのランダムな整数を代入してくれる．）"
   ]
  },
  {
   "cell_type": "code",
   "execution_count": 16,
   "metadata": {
    "nbpresent": {
     "id": "872c618c-6c27-4cad-9632-f10b52a66a52"
    }
   },
   "outputs": [
    {
     "name": "stdout",
     "output_type": "stream",
     "text": [
      "数を入力してください3\n",
      "数を入力してください2\n",
      "(T ^ T)\n",
      "数を入力してください2\n",
      "数を入力してください2\n"
     ]
    }
   ],
   "source": [
    "\n",
    "while True:\n",
    "    x1=int(input(\"数を入力してください\"))\n",
    "    x2=int(input(\"数を入力してください\"))\n",
    "    if x1!=x2:\n",
    "        print(\"(T ^ T)\")\n",
    "    elif x1==x2:\n",
    "        break"
   ]
  },
  {
   "cell_type": "markdown",
   "metadata": {
    "nbpresent": {
     "id": "639d49cd-7b45-406a-8a07-b01bcb10039c"
    }
   },
   "source": [
    "■問題５－１１（whileとif文の練習３）（▲参考：問題５－４）\n",
    "\n",
    "数当てゲームを作りたい．\n",
    "\n",
    "１から100までのランダムな整数を用意し，\n",
    "キーボードから入力した数がその数と同じならば\n",
    "終了するプログラムを作成する．\n",
    "\n",
    "ただし，はずれたときは，\n",
    "正解よりも大きかったか小さかったかを表示して\n",
    "ヒントを出すようにすること．　\n",
    "\n",
    "【やや難】"
   ]
  },
  {
   "cell_type": "code",
   "execution_count": null,
   "metadata": {},
   "outputs": [],
   "source": [
    "import random\n",
    "x=random.randint(1,100)\n",
    "while True:\n",
    "    y=int(input(\"数を入力してください\"))\n",
    "    if x!=y:\n",
    "        print(y)\n",
    "    elif x==y:\n",
    "        break"
   ]
  },
  {
   "cell_type": "code",
   "execution_count": 17,
   "metadata": {
    "nbpresent": {
     "id": "dc46f1d0-4682-4072-8d0f-400a3caaa909"
    }
   },
   "outputs": [
    {
     "name": "stdout",
     "output_type": "stream",
     "text": [
      "数を入力してください14\n",
      "入力した数字は小さすぎます\n",
      "数を入力してください34\n",
      "入力した数字は小さすぎます\n",
      "数を入力してください57\n",
      "入力した数字は小さすぎます\n",
      "数を入力してください88\n",
      "入力した数字は大きすぎます\n",
      "数を入力してください66\n",
      "入力した数字は小さすぎます\n",
      "数を入力してください77\n",
      "入力した数字は大きすぎます\n",
      "数を入力してください68\n",
      "入力した数字は小さすぎます\n",
      "数を入力してください72\n",
      "入力した数字は大きすぎます\n",
      "数を入力してください70\n"
     ]
    }
   ],
   "source": [
    "import random\n",
    "x=random.randint(1,100)\n",
    "while True:\n",
    "    y=int(input(\"数を入力してください\"))\n",
    "    if x>y:\n",
    "        print(\"入力した数字は小さすぎます\")\n",
    "    elif x<y:\n",
    "        print(\"入力した数字は大きすぎます\")\n",
    "    else:\n",
    "        break"
   ]
  },
  {
   "cell_type": "markdown",
   "metadata": {
    "nbpresent": {
     "id": "56b5add6-b8bf-4575-af9c-eaed340316ae"
    }
   },
   "source": [
    "■問題５－１２（for，whileの使い分け）（▲参考：問題５－５）\n",
    "\n",
    "２つの整数aとbをキーボードから入力させ，\n",
    "\n",
    "a以上b以下の整数をすべて表示させるプログラムを作れ\n",
    "\n",
    "（１）for文を使って作れ（whileは使わない）\n",
    "\n",
    "（２）while文を使って作れ（forは使わない）"
   ]
  },
  {
   "cell_type": "code",
   "execution_count": 18,
   "metadata": {
    "nbpresent": {
     "id": "30ee6ccc-d6d9-464b-b253-480a8423c564"
    }
   },
   "outputs": [
    {
     "name": "stdout",
     "output_type": "stream",
     "text": [
      "数を入力してください2\n",
      "数を入力してください3\n",
      "2\n",
      "3\n"
     ]
    }
   ],
   "source": [
    "a=int(input(\"数を入力してください\"))\n",
    "b=int(input(\"数を入力してください\"))\n",
    "for x in range(a,b+1):\n",
    "    print(x)"
   ]
  },
  {
   "cell_type": "code",
   "execution_count": 19,
   "metadata": {},
   "outputs": [
    {
     "name": "stdout",
     "output_type": "stream",
     "text": [
      "数を入力してください1\n",
      "数を入力してください8\n",
      "1\n",
      "2\n",
      "3\n",
      "4\n",
      "5\n",
      "6\n",
      "7\n",
      "8\n"
     ]
    }
   ],
   "source": [
    "a=int(input(\"数を入力してください\"))\n",
    "b=int(input(\"数を入力してください\"))\n",
    "x=a\n",
    "while True:\n",
    "    print(x)\n",
    "    x=x+1\n",
    "    if x>b:\n",
    "        break"
   ]
  },
  {
   "cell_type": "markdown",
   "metadata": {
    "nbpresent": {
     "id": "9b7e908a-e2ee-4509-ab4c-6033f64da07e"
    }
   },
   "source": [
    "■問題５－１３（▲参考：問題５－９）\n",
    "\n",
    "２つの整数a,bをキーボードから入力し，\n",
    "\n",
    "縦がa文字，横がb文字の$*$で出来た四角を描くプログラムを作りなさい．\n",
    "\n",
    "たとえば，a=2,b=5なら，\n",
    "\n",
    "$*****$\n",
    "\n",
    "$*****$\n",
    "\n",
    "と表示される．\n",
    "\n",
    "（１）forを１回だけ使用して作れ\n",
    "\n",
    "（２）２重のforループを使用して作れ　\n",
    "\n",
    "【やや難】"
   ]
  },
  {
   "cell_type": "code",
   "execution_count": 21,
   "metadata": {},
   "outputs": [
    {
     "name": "stdout",
     "output_type": "stream",
     "text": [
      "数を入力してください2\n",
      "数を入力してください6\n",
      "* * * * * * \n",
      "\n",
      "* * * * * * \n",
      "\n"
     ]
    }
   ],
   "source": [
    "a=int(input(\"数を入力してください\"))\n",
    "b=int(input(\"数を入力してください\"))\n",
    "for x in range(0,a):\n",
    "    for y in range(0,b):\n",
    "        print(\"*\",end=' ')\n",
    "    print()\n",
    "    print()\n",
    "        "
   ]
  },
  {
   "cell_type": "code",
   "execution_count": 22,
   "metadata": {
    "nbpresent": {
     "id": "ee059d42-0504-4cdd-a538-5e80d12be75b"
    }
   },
   "outputs": [
    {
     "name": "stdout",
     "output_type": "stream",
     "text": [
      "数を入力してください3\n",
      "数を入力してください6\n",
      "* * * * * * \n",
      "\n",
      "* * * * * * \n",
      "\n",
      "* * * * * * \n",
      "\n"
     ]
    }
   ],
   "source": [
    "a=int(input(\"数を入力してください\"))\n",
    "b=int(input(\"数を入力してください\"))\n",
    "x=1\n",
    "while True:\n",
    "    for y in range(0,b):\n",
    "        print(\"*\",end=' ')\n",
    "    print()\n",
    "    print()\n",
    "    x=x+1\n",
    "    if x>a:\n",
    "        break\n",
    "    "
   ]
  },
  {
   "cell_type": "markdown",
   "metadata": {
    "nbpresent": {
     "id": "021ce133-49f0-4a8b-8d12-a4ec8b1051d9"
    }
   },
   "source": [
    "■問題５－１４（▲参考：問題５－７）\n",
    "\n",
    "九九の表を作るプログラムを，掛け算の答えだけでなく，\n",
    "\n",
    "それぞれが何と何の掛け算なのか，つまり $3*5=15$ のように表示するプログラムを作りなさい．\n",
    "\n",
    "表が大きすぎるならば5×5で構いません．"
   ]
  },
  {
   "cell_type": "code",
   "execution_count": 23,
   "metadata": {
    "nbpresent": {
     "id": "a03309a7-3ccb-466a-ad2f-6b00d5617990"
    }
   },
   "outputs": [
    {
     "name": "stdout",
     "output_type": "stream",
     "text": [
      "1×1=1 1×2=2 1×3=3 1×4=4 1×5=5 \n",
      "2×1=2 2×2=4 2×3=6 2×4=8 2×5=10 \n",
      "3×1=3 3×2=6 3×3=9 3×4=12 3×5=15 \n",
      "4×1=4 4×2=8 4×3=12 4×4=16 4×5=20 \n",
      "5×1=5 5×2=10 5×3=15 5×4=20 5×5=25 \n"
     ]
    }
   ],
   "source": [
    "for x in range(1,6):\n",
    "    for y in range(1,6):\n",
    "        print(str(x)+\"×\"+str(y)+\"=\"+str(x*y),end=\" \")\n",
    "    print()"
   ]
  },
  {
   "cell_type": "markdown",
   "metadata": {
    "nbpresent": {
     "id": "58fc96e9-b580-46ad-bc3d-adcbac5c9c3b"
    }
   },
   "source": [
    "■問題５－１５（▲参考：問題５－８）\n",
    "\n",
    "3×3×3のかけ算の表を表示するプログラムを作りなさい．\n",
    "\n",
    "1×1×1，1×1×2，1×1×3，1×2×1，．．．の順で表示するようにしなさい．"
   ]
  },
  {
   "cell_type": "code",
   "execution_count": 24,
   "metadata": {
    "nbpresent": {
     "id": "f0bf3262-3a1d-49a6-bf51-753d48d5dadc"
    }
   },
   "outputs": [
    {
     "name": "stdout",
     "output_type": "stream",
     "text": [
      "1 2 3 2 4 6 3 6 9 2 4 6 4 8 12 6 12 18 3 6 9 6 12 18 9 18 27 "
     ]
    }
   ],
   "source": [
    "for x in range(1,4):\n",
    "    for y in range(1,4):\n",
    "        for z in range(1,4):\n",
    "            print(x*y*z, end=\" \")"
   ]
  },
  {
   "cell_type": "markdown",
   "metadata": {
    "nbpresent": {
     "id": "1b773690-83cb-4db3-b563-17ddf5f34838"
    }
   },
   "source": [
    "■問題５－１６（▲参考：問題５－１１）\n",
    "\n",
    "キーボードから数xを入力し，xの数だけ#を横に並べて表示する，という作業を繰り返すプログラムを作りなさい．\n",
    "\n",
    "ただし，入力した数が0なら終了するようにします．例えば，5,3,15,0と入力した場合にはこのようになります．\n",
    "\n",
    "5\n",
    "\n",
    "＃＃＃＃＃\n",
    "\n",
    "3\n",
    "\n",
    "＃＃＃\n",
    "\n",
    "15\n",
    "\n",
    "＃＃＃＃＃＃＃＃＃＃＃＃＃＃＃\n",
    "\n",
    "0"
   ]
  },
  {
   "cell_type": "code",
   "execution_count": 25,
   "metadata": {
    "nbpresent": {
     "id": "12f9cc35-c684-4503-8248-21d1586042f4"
    }
   },
   "outputs": [
    {
     "name": "stdout",
     "output_type": "stream",
     "text": [
      "数を入力してください3\n",
      "# # # \n",
      "数を入力してください2\n",
      "# # \n",
      "数を入力してください7\n",
      "# # # # # # # \n",
      "数を入力してください0\n",
      "\n"
     ]
    }
   ],
   "source": [
    "while x!=0:\n",
    "    x=int(input(\"数を入力してください\"))\n",
    "    for y in range(0,x):\n",
    "        print(\"#\",end=' ')\n",
    "    print()"
   ]
  },
  {
   "cell_type": "markdown",
   "metadata": {
    "nbpresent": {
     "id": "1438e04e-dc87-49fd-8375-62d34a59964f"
    }
   },
   "source": [
    "#   \n",
    "\n",
    "# ■■■■■■■■■■■■第6章■■■■■■■■■■■■\n",
    "\n",
    "（繰り返し文の応用，補助変数・カウント・フラグ）\n",
    "\n",
    "#   "
   ]
  },
  {
   "cell_type": "markdown",
   "metadata": {
    "nbpresent": {
     "id": "f343add7-e490-48cb-a7b0-1291d0ea306d"
    }
   },
   "source": [
    "●例題６－１（補助変数）\n",
    "\n",
    "「数を繰り返し入力し，前回と同じ数が入力されたら終了する」プログラムを，補助変数を使って作ってみましょう．\n",
    "\n",
    "前回入力された数を記録するために，補助変数 $y$ を用意します．そして，ループ内で新たに $x$ に数を入力する前に，$y$ に $x$ を代入して，\n",
    "\n",
    "前回入力された値をyに保存するようにします．数の比較には $x==y$ や $x!=y$ などの表現を用います．\n"
   ]
  },
  {
   "cell_type": "code",
   "execution_count": 27,
   "metadata": {
    "nbpresent": {
     "id": "f3373762-b15e-44b6-a806-108ad1ddc3b0"
    }
   },
   "outputs": [
    {
     "name": "stdout",
     "output_type": "stream",
     "text": [
      "x=2\n",
      "x=4\n",
      "x=4\n",
      "x=4\n"
     ]
    }
   ],
   "source": [
    "y = int(input(\"x=\"))\n",
    "x = int(input(\"x=\"))\n",
    "while y != x :\n",
    "    y = x\n",
    "    x = input(\"x=\")"
   ]
  },
  {
   "cell_type": "markdown",
   "metadata": {
    "collapsed": true,
    "nbpresent": {
     "id": "7d6e989a-80fa-4411-90b4-fe292794904a"
    }
   },
   "source": [
    "●例題６－２\n",
    "\n",
    "10個の数を入力して，その中で最大のものを表示する，というプログラムを作りましょう．\n"
   ]
  },
  {
   "cell_type": "code",
   "execution_count": null,
   "metadata": {
    "nbpresent": {
     "id": "3a1ee7b9-37ae-4e86-b0ce-658bcfcf7efc"
    }
   },
   "outputs": [],
   "source": [
    "m = -9999\n",
    "for i in range(10) :\n",
    "    j = int(input(\"Please enter an integer:\"))\n",
    "    if m < j :\n",
    "        m=j\n",
    "print (m)"
   ]
  },
  {
   "cell_type": "markdown",
   "metadata": {
    "collapsed": true,
    "nbpresent": {
     "id": "3cfc5633-90b0-4862-a30e-472cc250943e"
    }
   },
   "source": [
    "●例題６－３（カウント）\n",
    "\n",
    "「入力した10個の数の中に10以上のものはいくつあるか」というプログラムを作りましょう．\n",
    "\n",
    "最初に補助変数 c に0を入れておきます．その後のfor文による反復（ループ）の中で，10以上の数字が出てきたときに c に1を加えます．\n",
    "ループから出てきたときには，c に10以上の数をカウントした数が入っています．\n"
   ]
  },
  {
   "cell_type": "code",
   "execution_count": 37,
   "metadata": {
    "nbpresent": {
     "id": "95cc38cd-7bab-45d3-bfb5-c007198f66aa"
    }
   },
   "outputs": [
    {
     "name": "stdout",
     "output_type": "stream",
     "text": [
      "Please enter an integer:44\n",
      "Please enter an integer:33\n",
      "Please enter an integer:2\n",
      "Please enter an integer:1\n",
      "Please enter an integer:2\n",
      "Please enter an integer:3\n",
      "Please enter an integer:4\n",
      "Please enter an integer:77\n",
      "Please enter an integer:5\n",
      "Please enter an integer:5\n",
      "3\n"
     ]
    }
   ],
   "source": [
    "c = 0\n",
    "for i in range(10) :\n",
    "    j =  int(input(\"Please enter an integer:\"))\n",
    "    if j >=10 :\n",
    "        c += 1\n",
    "print(c) "
   ]
  },
  {
   "cell_type": "markdown",
   "metadata": {
    "collapsed": true,
    "nbpresent": {
     "id": "f34a507e-0dee-48e7-a166-38adb8b19c86"
    }
   },
   "source": [
    " ●例題６－４（フラグ）\n",
    "\n",
    "「入力した10個の数の中に5があるかどうか」を調べるプログラムを作りましょう．以下のプログラムでは，f をフラグにしています．\n",
    "\n",
    "フラグ f は反復（ループ）に入る前には $0$ に設定されています．これはまだ $5$ が見つかっていないことを表します．\n",
    "\n",
    "ループの中で $5$ が入力されたら，フラグ f は $1$ に変更されます．\n",
    "\n",
    "最後にループを出た後で f が $1$ になっていれば，5があった，f が $0$ のままなら5がなかったことになります．\n"
   ]
  },
  {
   "cell_type": "code",
   "execution_count": null,
   "metadata": {
    "nbpresent": {
     "id": "1f0393c4-9736-4cd1-ab72-c23768b4f9af"
    }
   },
   "outputs": [],
   "source": [
    "f = 0\n",
    "for i in range(10) :\n",
    "    j = int(input(\"Please enter an integer:\"))\n",
    "    if j == 5 :\n",
    "        f = 1\n",
    "if f == 1 :\n",
    "    print (\"5があった\") "
   ]
  },
  {
   "cell_type": "markdown",
   "metadata": {
    "collapsed": true,
    "nbpresent": {
     "id": "ab19d124-d54e-4391-aa55-e61979a92ab6"
    }
   },
   "source": [
    "#    \n",
    "\n",
    "\n",
    "■問題６－１\n",
    "\n",
    "(1)　前回入力した数より倍以上大きな数を入力したら終了するようなプログラムを作りなさい．\n",
    "\n",
    "(2)　前回入力した負の数と同じ数を入力したら終了するようにしましょう（1,-1,4,-4,5 と入力した時点では，前回入力した負の数は-4です）．\n",
    "\n",
    "（ヒント：xが負のときだけ，yにxを代入しましょう．）\n",
    "\n",
    "(3)　2回前に入力した数と同じ数を入力したら終了するようにしましょう．\n"
   ]
  },
  {
   "cell_type": "code",
   "execution_count": 26,
   "metadata": {
    "nbpresent": {
     "id": "6800c109-d35f-4081-8104-1ca785cb2359"
    }
   },
   "outputs": [
    {
     "name": "stdout",
     "output_type": "stream",
     "text": [
      "x=2\n",
      "x=3\n",
      "x=6\n"
     ]
    }
   ],
   "source": [
    "y= int(input(\"x=\"))\n",
    "x= int(input(\"x=\"))\n",
    "while x < y*2 :\n",
    "    y = x\n",
    "    x = int(input(\"x=\"))"
   ]
  },
  {
   "cell_type": "markdown",
   "metadata": {
    "nbpresent": {
     "id": "eb18522c-4d3b-4e42-a12e-06cff0aec12e"
    }
   },
   "source": [
    "■問題６－２\n",
    "\n",
    "(1)　「入力した10個の数の最小」を表示するプログラムを作りなさい．\n",
    "\n",
    "(2)　「10以下の数の中での最大」を表示するようなプログラムを作りなさい．ただし，10以下の数は必ず1つは入力される，とみなして良いとします．\n"
   ]
  },
  {
   "cell_type": "code",
   "execution_count": 35,
   "metadata": {
    "nbpresent": {
     "id": "ac98c3b2-23c2-4f6d-8be9-41f137c4c779"
    },
    "scrolled": true
   },
   "outputs": [
    {
     "name": "stdout",
     "output_type": "stream",
     "text": [
      "Please enter an integer:1\n",
      "Please enter an integer:55\n",
      "Please enter an integer:33\n",
      "Please enter an integer:44\n",
      "Please enter an integer:2\n",
      "Please enter an integer:2\n",
      "Please enter an integer:2\n",
      "Please enter an integer:2\n",
      "Please enter an integer:2\n",
      "Please enter an integer:2\n",
      "1\n"
     ]
    }
   ],
   "source": [
    "m = 9999\n",
    "for i in range(10) :\n",
    "    j = int(input(\"Please enter an integer:\"))\n",
    "    if  m > j :\n",
    "        m=j\n",
    "print (m)"
   ]
  },
  {
   "cell_type": "code",
   "execution_count": 34,
   "metadata": {},
   "outputs": [
    {
     "name": "stdout",
     "output_type": "stream",
     "text": [
      "Please enter an integer:14\n",
      "Please enter an integer:22\n",
      "Please enter an integer:44\n",
      "Please enter an integer:7\n",
      "Please enter an integer:4\n",
      "Please enter an integer:3\n",
      "Please enter an integer:3\n",
      "Please enter an integer:3\n",
      "Please enter an integer:3\n",
      "Please enter an integer:4\n",
      "7\n"
     ]
    }
   ],
   "source": [
    "m = -9999\n",
    "for i in range(10) :\n",
    "    j = int(input(\"Please enter an integer:\"))\n",
    "    if j<=10 and m < j :\n",
    "        m=j\n",
    "print (m)"
   ]
  },
  {
   "cell_type": "markdown",
   "metadata": {
    "nbpresent": {
     "id": "683254d7-fe71-43dd-97a2-57255899e2a6"
    }
   },
   "source": [
    "■問題６－３\n",
    "\n",
    "キーボードから１０個の数字を入力し，\n",
    "\n",
    "(1)　負の数がいくつ入力されたかを表示するプログラムを作りなさい．\n",
    "\n",
    "(2)　偶数がいくつ入力されたかを表示するプログラムを作りなさい．\n"
   ]
  },
  {
   "cell_type": "code",
   "execution_count": 40,
   "metadata": {
    "nbpresent": {
     "id": "cdbf9d2f-97ff-4abc-ad99-a0017b50d708"
    }
   },
   "outputs": [
    {
     "name": "stdout",
     "output_type": "stream",
     "text": [
      "Please enter an integer:2\n",
      "Please enter an integer:-2\n",
      "Please enter an integer:-2\n",
      "Please enter an integer:2\n",
      "Please enter an integer:2\n",
      "Please enter an integer:2\n",
      "Please enter an integer:4\n",
      "Please enter an integer:5\n",
      "Please enter an integer:5\n",
      "Please enter an integer:5\n",
      "2\n"
     ]
    }
   ],
   "source": [
    "c = 0\n",
    "for i in range(10) :\n",
    "    j =  int(input(\"Please enter an integer:\"))\n",
    "    if j <0 :\n",
    "        c += 1\n",
    "print(c) "
   ]
  },
  {
   "cell_type": "code",
   "execution_count": 42,
   "metadata": {},
   "outputs": [
    {
     "name": "stdout",
     "output_type": "stream",
     "text": [
      "Please enter an integer:2\n",
      "Please enter an integer:5\n",
      "Please enter an integer:3\n",
      "Please enter an integer:4\n",
      "Please enter an integer:3\n",
      "Please enter an integer:4\n",
      "Please enter an integer:6\n",
      "Please enter an integer:5\n",
      "Please enter an integer:5\n",
      "Please enter an integer:5\n",
      "4\n"
     ]
    }
   ],
   "source": [
    "c = 0\n",
    "for i in range(10) :\n",
    "    j =  int(input(\"Please enter an integer:\"))\n",
    "    if j %2==0 :\n",
    "        c += 1\n",
    "print(c) "
   ]
  },
  {
   "cell_type": "markdown",
   "metadata": {
    "nbpresent": {
     "id": "4056215c-c29f-4860-bf0d-879fd4ae8516"
    }
   },
   "source": [
    "■問題６－４\n",
    "\n",
    "(1)　キーボードから入力した10個の数の中に5がなければ\"5がありません\"と表示するようにしましょう．\n",
    "\n",
    "(2)　入力した10個の数の中に負の数があるかどうかを表示するようにしましょう．\n"
   ]
  },
  {
   "cell_type": "code",
   "execution_count": 44,
   "metadata": {
    "nbpresent": {
     "id": "e74eed6e-31f3-41ee-a600-4209f5630a7c"
    }
   },
   "outputs": [
    {
     "name": "stdout",
     "output_type": "stream",
     "text": [
      "Please enter an integer:1\n",
      "Please enter an integer:1\n",
      "Please enter an integer:1\n",
      "Please enter an integer:1\n",
      "Please enter an integer:1\n",
      "Please enter an integer:2\n",
      "Please enter an integer:3\n",
      "Please enter an integer:2\n",
      "Please enter an integer:1\n",
      "Please enter an integer:1\n",
      "5がありません\n"
     ]
    }
   ],
   "source": [
    "f = 0\n",
    "for i in range(10) :\n",
    "    j = int(input(\"Please enter an integer:\"))\n",
    "    if j == 5 :\n",
    "        f = 1\n",
    "if f == 1 :\n",
    "    print (\"5があった\") \n",
    "elif f == 0:\n",
    "    print(\"5がありません\")"
   ]
  },
  {
   "cell_type": "code",
   "execution_count": 47,
   "metadata": {},
   "outputs": [
    {
     "name": "stdout",
     "output_type": "stream",
     "text": [
      "Please enter an integer:2\n",
      "Please enter an integer:3\n",
      "Please enter an integer:3\n",
      "Please enter an integer:3\n",
      "Please enter an integer:3\n",
      "Please enter an integer:-1\n",
      "Please enter an integer:-3\n",
      "Please enter an integer:2\n",
      "Please enter an integer:2\n",
      "Please enter an integer:2\n",
      "負の数があります\n"
     ]
    }
   ],
   "source": [
    "f = 0\n",
    "for i in range(10) :\n",
    "    j = int(input(\"Please enter an integer:\"))\n",
    "    if j < 0 :\n",
    "        f = 1\n",
    "if f == 1 :\n",
    "    print (\"負の数があります\") \n",
    "elif f == 0:\n",
    "    print(\"負の数がありません\")"
   ]
  },
  {
   "cell_type": "markdown",
   "metadata": {
    "nbpresent": {
     "id": "1817909f-e61d-499c-b871-91c21028d9dd"
    }
   },
   "source": [
    "\n",
    "■問題６－５\n",
    "\n",
    "数を10個入力してその合計を表示するプログラムを作りなさい．\n"
   ]
  },
  {
   "cell_type": "code",
   "execution_count": 50,
   "metadata": {
    "nbpresent": {
     "id": "f44cfa6a-f767-44b4-b9b6-335b4ed3e09b"
    }
   },
   "outputs": [
    {
     "name": "stdout",
     "output_type": "stream",
     "text": [
      "Please enter an integer:1\n",
      "Please enter an integer:1\n",
      "Please enter an integer:1\n",
      "Please enter an integer:1\n",
      "Please enter an integer:1\n",
      "Please enter an integer:1\n",
      "Please enter an integer:1\n",
      "Please enter an integer:1\n",
      "Please enter an integer:1\n",
      "Please enter an integer:1\n",
      "10\n"
     ]
    }
   ],
   "source": [
    "x=0\n",
    "for i in range(10) :\n",
    "    j = int(input(\"Please enter an integer:\"))\n",
    "    x=j+x\n",
    "print(x)"
   ]
  },
  {
   "cell_type": "markdown",
   "metadata": {
    "nbpresent": {
     "id": "8e5bee16-8434-4ea4-a2ec-213fed94a1c2"
    }
   },
   "source": [
    "\n",
    "■問題６－６\n",
    "\n",
    "足し算だけの電卓を作りなさい．数を入力し，今まで入力した数の合計を表示する，という作業を繰り返すプログラムです．\n",
    "\n",
    "さらに，0 を入力したときは終了するようにしなさい．\n",
    "\n",
    "例えば，10,20,63,0 と入力すると，このようになります．\n",
    "\n",
    "「10 10 20 30 63 93 0」\n"
   ]
  },
  {
   "cell_type": "code",
   "execution_count": 51,
   "metadata": {
    "nbpresent": {
     "id": "7107d807-2a64-4b99-9e9e-78635f3e9747"
    },
    "scrolled": true
   },
   "outputs": [
    {
     "name": "stdout",
     "output_type": "stream",
     "text": [
      "Please enter an integer:1\n",
      "1\n",
      "Please enter an integer:2\n",
      "3\n",
      "Please enter an integer:3\n",
      "6\n",
      "Please enter an integer:2\n",
      "8\n",
      "Please enter an integer:3\n",
      "11\n",
      "Please enter an integer:4\n",
      "15\n",
      "Please enter an integer:5\n",
      "20\n",
      "Please enter an integer:6\n",
      "26\n",
      "Please enter an integer:2\n",
      "28\n",
      "Please enter an integer:3\n",
      "31\n"
     ]
    }
   ],
   "source": [
    "x=0\n",
    "for i in range(10) :\n",
    "    j = int(input(\"Please enter an integer:\"))\n",
    "    x=j+x\n",
    "    print(x)"
   ]
  },
  {
   "cell_type": "markdown",
   "metadata": {
    "nbpresent": {
     "id": "1b593979-3ad8-440e-bd2a-87fbe41a3ece"
    }
   },
   "source": [
    "■問題６－７\n",
    "\n",
    "入力した10個の数の中に1と0，どちらが多いかを判定するプログラムを作りなさい．\n"
   ]
  },
  {
   "cell_type": "code",
   "execution_count": 52,
   "metadata": {
    "nbpresent": {
     "id": "7eb971b3-5886-4a98-9c81-5c0706674bfc"
    }
   },
   "outputs": [
    {
     "name": "stdout",
     "output_type": "stream",
     "text": [
      "Please enter an integer:1\n",
      "Please enter an integer:0\n",
      "Please enter an integer:1\n",
      "Please enter an integer:1\n",
      "Please enter an integer:1\n",
      "Please enter an integer:0\n",
      "Please enter an integer:1\n",
      "Please enter an integer:1\n",
      "Please enter an integer:1\n",
      "Please enter an integer:1\n",
      "1が多い\n"
     ]
    }
   ],
   "source": [
    "f = 0\n",
    "k = 0\n",
    "for i in range(10) :\n",
    "    j = int(input(\"Please enter an integer:\"))\n",
    "    if j == 1 :\n",
    "        f = 1+f\n",
    "    elif j==0:\n",
    "        k = 1+k\n",
    "if f > k :\n",
    "    print (\"1が多い\") \n",
    "elif f < k :\n",
    "    print(\"0が多い\")"
   ]
  },
  {
   "cell_type": "markdown",
   "metadata": {
    "nbpresent": {
     "id": "74cf6ea6-7dfb-4229-aad3-b93fef0080bb"
    }
   },
   "source": [
    "\n",
    "■問題６－８\n",
    "\n",
    "入力した数が素数かどうかを判定するプログラムを作りなさい．\n",
    "\n",
    "(ヒント：ある数xが素数ならば，2以上x未満の数で，xを割り切るものがありません．\n",
    "\n",
    "そこで，2からx-1までのループを作り，それぞれでxを割った余りが0になるかどうか判定し，0になったらフラグ変数にそのことを記録しましょう)\n",
    "\n"
   ]
  },
  {
   "cell_type": "code",
   "execution_count": 94,
   "metadata": {
    "nbpresent": {
     "id": "da50aa6e-103e-43bf-b480-c6f1ada90e67"
    }
   },
   "outputs": [
    {
     "name": "stdout",
     "output_type": "stream",
     "text": [
      "Please enter an integer:14\n",
      "素数ではありません\n"
     ]
    }
   ],
   "source": [
    "j = int(input(\"Please enter an integer:\"))\n",
    "for i in range(2,j):\n",
    "    s=j%i\n",
    "    if s==0:\n",
    "        print(\"素数ではありません\")\n",
    "        break\n",
    "if s!=0:\n",
    "    print(\"素数です\")"
   ]
  },
  {
   "cell_type": "markdown",
   "metadata": {
    "nbpresent": {
     "id": "f9846560-632a-414d-8497-5d65a145cb4f"
    }
   },
   "source": [
    "\n",
    "■問題６－９\n",
    "\n",
    "問題６－８のプログラムを使って，1 から入力した数nまでの素数を表示するプログラムを作りなさい．"
   ]
  },
  {
   "cell_type": "code",
   "execution_count": 100,
   "metadata": {
    "nbpresent": {
     "id": "157d0006-cbfe-47a9-b940-7a932069bc92"
    }
   },
   "outputs": [
    {
     "name": "stdout",
     "output_type": "stream",
     "text": [
      "Please enter an integer:4\n",
      "2は素数です\n",
      "3は素数です\n",
      "4は素数ではありません\n"
     ]
    }
   ],
   "source": [
    "j = int(input(\"Please enter an integer:\"))\n",
    "for j in range(2,j+1):\n",
    "    for i in range(2,j):\n",
    "        s=j%i\n",
    "        if s==0:\n",
    "            print(str(j)+\"は素数ではありません\")\n",
    "            break\n",
    "    if s!=0:\n",
    "        print(str(j)+\"は素数です\")"
   ]
  },
  {
   "cell_type": "markdown",
   "metadata": {
    "nbpresent": {
     "id": "9f301039-ba36-41b0-819e-379fe9444095"
    }
   },
   "source": [
    "\n",
    "■問題６－１０\n",
    "\n",
    "最初の行でimport randomと入力した上で、x= random.randint(1,100)という命令は，xに1～100の適当な（ランダムな）数を代入するものです．\n",
    "\n",
    "これを100回行って，xに30以下の数が何回代入されたかを表示するプログラムを作りなさい．\n"
   ]
  },
  {
   "cell_type": "code",
   "execution_count": 104,
   "metadata": {
    "nbpresent": {
     "id": "1ebcd763-d17b-4d93-a220-fbcad729eeda"
    }
   },
   "outputs": [
    {
     "name": "stdout",
     "output_type": "stream",
     "text": [
      "33回\n"
     ]
    }
   ],
   "source": [
    "import random\n",
    "k=0\n",
    "for i in range(1,100):\n",
    "    x=random.randint(1,100)\n",
    "    if x<=30:\n",
    "        k=1+k\n",
    "print(str(k)+\"回\")"
   ]
  },
  {
   "cell_type": "markdown",
   "metadata": {
    "nbpresent": {
     "id": "8371d680-e9f4-4f96-a516-9f7d47c24225"
    }
   },
   "source": [
    "\n",
    "■問題６－１１\n",
    "\n",
    "10個の数を入力し，「前回と同じ数を入力した回数」を勘定するプログラムを作りなさい．例えば，2,2,4,4,4と入力すると，3回と表示します．\n"
   ]
  },
  {
   "cell_type": "code",
   "execution_count": 119,
   "metadata": {
    "nbpresent": {
     "id": "7f29f384-7016-4aaf-bd32-d64933910c24"
    }
   },
   "outputs": [
    {
     "name": "stdout",
     "output_type": "stream",
     "text": [
      "x=1\n",
      "x=2\n",
      "x=3\n",
      "x=3\n",
      "x=4\n",
      "x=4\n",
      "x=5\n",
      "x=5\n",
      "x=6\n",
      "x=6\n",
      "x=7\n",
      "4回です\n"
     ]
    }
   ],
   "source": [
    "t=0\n",
    "y = int(input(\"x=\"))\n",
    "x = int(input(\"x=\"))\n",
    "for i in range(1,10):\n",
    "    if y == x:\n",
    "        t=t+1\n",
    "    y=x\n",
    "    x = input(\"x=\")\n",
    "print(str(t)+\"回です\")"
   ]
  },
  {
   "cell_type": "markdown",
   "metadata": {},
   "source": [
    "##### "
   ]
  }
 ],
 "metadata": {
  "anaconda-cloud": {
   "environment": null,
   "summary": "BasicProgramming1",
   "url": "https://anaconda.org/mikiokubo/basicprogramming1"
  },
  "kernelspec": {
   "display_name": "Python 3",
   "language": "python",
   "name": "python3"
  },
  "language_info": {
   "codemirror_mode": {
    "name": "ipython",
    "version": 3
   },
   "file_extension": ".py",
   "mimetype": "text/x-python",
   "name": "python",
   "nbconvert_exporter": "python",
   "pygments_lexer": "ipython3",
   "version": "3.5.2"
  },
  "nbpresent": {
   "slides": {
    "01da76bc-c60a-4a97-8745-bc9252c77810": {
     "id": "01da76bc-c60a-4a97-8745-bc9252c77810",
     "prev": "216b2be8-6c20-4c1d-89ba-e09a0092b658",
     "regions": {
      "5e0d028f-de7a-4655-9670-af58610ff1c0": {
       "attrs": {
        "height": 0.8,
        "width": 0.8,
        "x": 0.1,
        "y": 0.1
       },
       "content": {
        "cell": "f9846560-632a-414d-8497-5d65a145cb4f",
        "part": "whole"
       },
       "id": "5e0d028f-de7a-4655-9670-af58610ff1c0"
      }
     }
    },
    "051d8fda-88cb-454d-aacd-f9d6861f324a": {
     "id": "051d8fda-88cb-454d-aacd-f9d6861f324a",
     "prev": "7d926200-eba5-464a-81c0-3da903bdd15f",
     "regions": {
      "e6044a80-6a29-442c-814d-53a69b9b63d2": {
       "attrs": {
        "height": 0.8,
        "width": 0.8,
        "x": 0.1,
        "y": 0.1
       },
       "content": {
        "cell": "5facd15a-b695-45b0-8860-c66a3c074156",
        "part": "whole"
       },
       "id": "e6044a80-6a29-442c-814d-53a69b9b63d2"
      }
     }
    },
    "0554fe84-d22b-4a51-bed3-5e65635fe396": {
     "id": "0554fe84-d22b-4a51-bed3-5e65635fe396",
     "prev": "c0e3d4e6-b286-4e9c-8935-6a109f4b5f82",
     "regions": {
      "61cd50cb-2b43-42eb-b914-82b81c7df3cb": {
       "attrs": {
        "height": 0.8,
        "width": 0.8,
        "x": 0.1,
        "y": 0.1
       },
       "content": {
        "cell": "f3373762-b15e-44b6-a806-108ad1ddc3b0",
        "part": "whole"
       },
       "id": "61cd50cb-2b43-42eb-b914-82b81c7df3cb"
      }
     }
    },
    "06631201-4f17-4284-b4b1-3a3b39f9eb8c": {
     "id": "06631201-4f17-4284-b4b1-3a3b39f9eb8c",
     "prev": "4cf449c3-8552-4c5a-9b7e-5d648dca62fa",
     "regions": {
      "ef9497dc-ae2b-4b06-bcd1-f9f1cdf94362": {
       "attrs": {
        "height": 0.8,
        "width": 0.8,
        "x": 0.1,
        "y": 0.1
       },
       "content": {
        "cell": "e7514176-f784-471f-ae1b-44de1221139b",
        "part": "whole"
       },
       "id": "ef9497dc-ae2b-4b06-bcd1-f9f1cdf94362"
      }
     }
    },
    "06b9f097-63e4-47d9-a8fb-d631ee942666": {
     "id": "06b9f097-63e4-47d9-a8fb-d631ee942666",
     "prev": "43c5867a-67d1-40e5-b0a6-3dd37cf86e4c",
     "regions": {
      "102b122d-8eb2-4dfe-999a-f16ce840f6dd": {
       "attrs": {
        "height": 0.8,
        "width": 0.8,
        "x": 0.1,
        "y": 0.1
       },
       "content": {
        "cell": "fee68e76-15da-4ee9-a201-9eaba30150f3",
        "part": "whole"
       },
       "id": "102b122d-8eb2-4dfe-999a-f16ce840f6dd"
      }
     }
    },
    "0972430f-ff6c-49ed-b14f-4bd0a5ba9410": {
     "id": "0972430f-ff6c-49ed-b14f-4bd0a5ba9410",
     "prev": "9068a40d-ae0d-4890-bc8b-7088fb6765db",
     "regions": {
      "4521c7bb-e26a-4681-82b0-49d36b341327": {
       "attrs": {
        "height": 0.8,
        "width": 0.8,
        "x": 0.1,
        "y": 0.1
       },
       "content": {
        "cell": "5c31c185-8c06-4e2e-b395-fc28b687454c",
        "part": "whole"
       },
       "id": "4521c7bb-e26a-4681-82b0-49d36b341327"
      }
     }
    },
    "0a40c494-9363-4575-84d4-2941a22cf04b": {
     "id": "0a40c494-9363-4575-84d4-2941a22cf04b",
     "prev": "e905bec0-6ba0-4c9b-9dd1-29a60ac567f7",
     "regions": {
      "2ccd673a-32a2-446d-a04f-4f3cc6c6bfeb": {
       "attrs": {
        "height": 0.8,
        "width": 0.8,
        "x": 0.1,
        "y": 0.1
       },
       "content": {
        "cell": "1d4bd536-6fbd-4a93-b0eb-230f99ade32b",
        "part": "whole"
       },
       "id": "2ccd673a-32a2-446d-a04f-4f3cc6c6bfeb"
      }
     }
    },
    "0e7182f1-fa3d-4695-8c9b-a3ff5fa5ce54": {
     "id": "0e7182f1-fa3d-4695-8c9b-a3ff5fa5ce54",
     "prev": "d3d6d51e-d0c2-4907-bc98-8175bb5d2259",
     "regions": {
      "4db43ccb-489f-4044-b1cb-d4fc3dbdacba": {
       "attrs": {
        "height": 0.8,
        "width": 0.8,
        "x": 0.1,
        "y": 0.1
       },
       "content": {
        "cell": "1438e04e-dc87-49fd-8375-62d34a59964f",
        "part": "whole"
       },
       "id": "4db43ccb-489f-4044-b1cb-d4fc3dbdacba"
      }
     }
    },
    "0eaf29a6-4e3a-448a-9a6d-5a4e66f3fe58": {
     "id": "0eaf29a6-4e3a-448a-9a6d-5a4e66f3fe58",
     "prev": "2338b651-1d3f-4fcb-a9df-a7f1f6707d74",
     "regions": {
      "28c2f14b-a2f9-43da-82a8-5fc7211e53aa": {
       "attrs": {
        "height": 0.8,
        "width": 0.8,
        "x": 0.1,
        "y": 0.1
       },
       "content": {
        "cell": "6e8a4a3c-a67b-454f-a7a6-6ef7bb778666",
        "part": "whole"
       },
       "id": "28c2f14b-a2f9-43da-82a8-5fc7211e53aa"
      }
     }
    },
    "10450a8d-9b85-4e8b-a98c-c463347a9f25": {
     "id": "10450a8d-9b85-4e8b-a98c-c463347a9f25",
     "prev": "ef1762be-b5e6-46ae-86e8-7e06f4c8cac4",
     "regions": {
      "7ed8985a-81bc-4bb5-a006-7a87d19c4974": {
       "attrs": {
        "height": 0.8,
        "width": 0.8,
        "x": 0.1,
        "y": 0.1
       },
       "content": {
        "cell": "20cc427e-4cf1-4086-882a-80a10a288419",
        "part": "whole"
       },
       "id": "7ed8985a-81bc-4bb5-a006-7a87d19c4974"
      }
     }
    },
    "11126937-79a9-4156-ba4b-a682ceb48f56": {
     "id": "11126937-79a9-4156-ba4b-a682ceb48f56",
     "prev": "75909a08-e9c9-4306-b47b-d89151c9e936",
     "regions": {
      "56997c9b-ed5b-4dfc-bf06-eb8d56384db7": {
       "attrs": {
        "height": 0.8,
        "width": 0.8,
        "x": 0.1,
        "y": 0.1
       },
       "content": {
        "cell": "a2c68fbf-b326-49cf-aa63-d28e91c27215",
        "part": "whole"
       },
       "id": "56997c9b-ed5b-4dfc-bf06-eb8d56384db7"
      }
     }
    },
    "11473eb1-36ea-43b1-9b2e-3bd63683cd2a": {
     "id": "11473eb1-36ea-43b1-9b2e-3bd63683cd2a",
     "prev": "26418423-bcf3-4e01-ab5b-9c1d3dc1d76b",
     "regions": {
      "46b5c9e0-a8cd-4d65-994f-aabca1b42f4e": {
       "attrs": {
        "height": 0.8,
        "width": 0.8,
        "x": 0.1,
        "y": 0.1
       },
       "content": {
        "cell": "0871b2e1-944b-46d4-a940-0729e64a717e",
        "part": "whole"
       },
       "id": "46b5c9e0-a8cd-4d65-994f-aabca1b42f4e"
      }
     }
    },
    "12b9889a-7dac-4971-bc33-d8b66e431dee": {
     "id": "12b9889a-7dac-4971-bc33-d8b66e431dee",
     "prev": "06b9f097-63e4-47d9-a8fb-d631ee942666",
     "regions": {
      "9c25d546-6e9f-4e43-8269-fc33284f5520": {
       "attrs": {
        "height": 0.8,
        "width": 0.8,
        "x": 0.1,
        "y": 0.1
       },
       "content": {
        "cell": "2449a41d-8161-499f-96f7-1913b386508f",
        "part": "whole"
       },
       "id": "9c25d546-6e9f-4e43-8269-fc33284f5520"
      }
     }
    },
    "14571f3f-9b5f-460d-9886-b0ec4fc23f25": {
     "id": "14571f3f-9b5f-460d-9886-b0ec4fc23f25",
     "prev": "9b7968b5-3be8-4dde-89de-7d294f2c5d1b",
     "regions": {
      "ac8ec184-76f7-4b7a-bc18-a5f12adfe35b": {
       "attrs": {
        "height": 0.8,
        "width": 0.8,
        "x": 0.1,
        "y": 0.1
       },
       "content": {
        "cell": "f8ebbbe6-66bd-4a74-b2ee-3e2ff7abd0c2",
        "part": "whole"
       },
       "id": "ac8ec184-76f7-4b7a-bc18-a5f12adfe35b"
      }
     }
    },
    "16b61d50-520a-47e7-9fe2-f95fd6e6d8cd": {
     "id": "16b61d50-520a-47e7-9fe2-f95fd6e6d8cd",
     "prev": "98484448-266a-4eb2-b144-8df4117fe9c4",
     "regions": {
      "6e5cb17b-1c72-4ad9-8067-f765ca413c06": {
       "attrs": {
        "height": 0.8,
        "width": 0.8,
        "x": 0.1,
        "y": 0.1
       },
       "content": {
        "cell": "ac98c3b2-23c2-4f6d-8be9-41f137c4c779",
        "part": "whole"
       },
       "id": "6e5cb17b-1c72-4ad9-8067-f765ca413c06"
      }
     }
    },
    "17e5d4cb-a1d3-4497-bf10-fd8a125051b7": {
     "id": "17e5d4cb-a1d3-4497-bf10-fd8a125051b7",
     "prev": "62ed4a95-e05f-48f6-9f9e-673c8982f513",
     "regions": {
      "00eec2d2-fb7a-4f0b-b4dd-6041a4a64800": {
       "attrs": {
        "height": 0.8,
        "width": 0.8,
        "x": 0.1,
        "y": 0.1
       },
       "content": {
        "cell": "e7421b18-c456-40b0-92aa-4c86e4a91234",
        "part": "whole"
       },
       "id": "00eec2d2-fb7a-4f0b-b4dd-6041a4a64800"
      }
     }
    },
    "18a0d0f6-e6f3-44e2-b6df-6c621afb4da0": {
     "id": "18a0d0f6-e6f3-44e2-b6df-6c621afb4da0",
     "prev": "0eaf29a6-4e3a-448a-9a6d-5a4e66f3fe58",
     "regions": {
      "aa8ea762-a9c8-4cae-87ee-87a6e5cdea9f": {
       "attrs": {
        "height": 0.8,
        "width": 0.8,
        "x": 0.1,
        "y": 0.1
       },
       "content": {
        "cell": "7114eb3a-2a8c-4b68-a250-483c18b2cc27",
        "part": "whole"
       },
       "id": "aa8ea762-a9c8-4cae-87ee-87a6e5cdea9f"
      }
     }
    },
    "1e386032-b56f-4227-920d-cc40830350a7": {
     "id": "1e386032-b56f-4227-920d-cc40830350a7",
     "prev": "14571f3f-9b5f-460d-9886-b0ec4fc23f25",
     "regions": {
      "2e2c6cb2-36fc-4f7e-8988-1c4670c66953": {
       "attrs": {
        "height": 0.8,
        "width": 0.8,
        "x": 0.1,
        "y": 0.1
       },
       "content": {
        "cell": "26f7afe5-b36c-4560-834e-38fb7099aa98",
        "part": "whole"
       },
       "id": "2e2c6cb2-36fc-4f7e-8988-1c4670c66953"
      }
     }
    },
    "1e675759-0861-4891-bc80-0ba93b7a36d7": {
     "id": "1e675759-0861-4891-bc80-0ba93b7a36d7",
     "prev": "06631201-4f17-4284-b4b1-3a3b39f9eb8c",
     "regions": {
      "6d50f143-1884-45e2-bdad-6acdd54dc0b4": {
       "attrs": {
        "height": 0.8,
        "width": 0.8,
        "x": 0.1,
        "y": 0.1
       },
       "content": {
        "cell": "2426ce7c-5233-4d5e-aeb9-52b062e2a298",
        "part": "whole"
       },
       "id": "6d50f143-1884-45e2-bdad-6acdd54dc0b4"
      }
     }
    },
    "1f250fa2-7aa0-41da-af6f-797116036e2f": {
     "id": "1f250fa2-7aa0-41da-af6f-797116036e2f",
     "prev": "ccd44b72-56bd-4784-9414-0b9f650d0c58",
     "regions": {
      "208f5fab-3bde-4bbd-9c08-3c7bd06b0cdb": {
       "attrs": {
        "height": 0.8,
        "width": 0.8,
        "x": 0.1,
        "y": 0.1
       },
       "content": {
        "cell": "3cfc5633-90b0-4862-a30e-472cc250943e",
        "part": "whole"
       },
       "id": "208f5fab-3bde-4bbd-9c08-3c7bd06b0cdb"
      }
     }
    },
    "204a84bd-a2f1-43ef-b4b8-283626a258cb": {
     "id": "204a84bd-a2f1-43ef-b4b8-283626a258cb",
     "prev": "2d4c35f4-7091-402d-993f-3f9384279d0f",
     "regions": {
      "6822dbe6-14bc-43e2-aa16-e417cc6777ec": {
       "attrs": {
        "height": 0.8,
        "width": 0.8,
        "x": 0.1,
        "y": 0.1
       },
       "content": {
        "cell": "f9dba5ba-fc8a-431f-a9ad-ddb2e9f69558",
        "part": "whole"
       },
       "id": "6822dbe6-14bc-43e2-aa16-e417cc6777ec"
      }
     }
    },
    "21355b56-8b41-485a-9bc0-2d3aa93063cf": {
     "id": "21355b56-8b41-485a-9bc0-2d3aa93063cf",
     "prev": "527256bc-55bc-44c3-87b1-effec57f7287",
     "regions": {
      "5ea00ac1-a1eb-4eeb-95a5-93335c7b9a49": {
       "attrs": {
        "height": 0.8,
        "width": 0.8,
        "x": 0.1,
        "y": 0.1
       },
       "content": {
        "cell": "1b593979-3ad8-440e-bd2a-87fbe41a3ece",
        "part": "whole"
       },
       "id": "5ea00ac1-a1eb-4eeb-95a5-93335c7b9a49"
      }
     }
    },
    "216b2be8-6c20-4c1d-89ba-e09a0092b658": {
     "id": "216b2be8-6c20-4c1d-89ba-e09a0092b658",
     "prev": "48753785-3fcf-4d63-90a9-f705f6b9d773",
     "regions": {
      "1a8d481f-1c8d-4eb1-a0cb-34b7a2a475d5": {
       "attrs": {
        "height": 0.8,
        "width": 0.8,
        "x": 0.1,
        "y": 0.1
       },
       "content": {
        "cell": "da50aa6e-103e-43bf-b480-c6f1ada90e67",
        "part": "whole"
       },
       "id": "1a8d481f-1c8d-4eb1-a0cb-34b7a2a475d5"
      }
     }
    },
    "217c5bfc-7107-4ba0-92d9-76a9915ca8e1": {
     "id": "217c5bfc-7107-4ba0-92d9-76a9915ca8e1",
     "prev": "65773354-d381-46c4-ad40-a05753153974",
     "regions": {
      "6355d365-b98b-4f6b-838b-e6371b868b87": {
       "attrs": {
        "height": 0.8,
        "width": 0.8,
        "x": 0.1,
        "y": 0.1
       },
       "content": {
        "cell": "6e553bf5-31c5-40d4-8921-6fa77e91ec60",
        "part": "whole"
       },
       "id": "6355d365-b98b-4f6b-838b-e6371b868b87"
      }
     }
    },
    "2338b651-1d3f-4fcb-a9df-a7f1f6707d74": {
     "id": "2338b651-1d3f-4fcb-a9df-a7f1f6707d74",
     "prev": "204a84bd-a2f1-43ef-b4b8-283626a258cb",
     "regions": {
      "a14a7319-d00e-4fe0-9acd-e1229ace0dc1": {
       "attrs": {
        "height": 0.8,
        "width": 0.8,
        "x": 0.1,
        "y": 0.1
       },
       "content": {
        "cell": "a57e8695-e1f4-4d6b-9345-07c8c9578df0",
        "part": "whole"
       },
       "id": "a14a7319-d00e-4fe0-9acd-e1229ace0dc1"
      }
     }
    },
    "26418423-bcf3-4e01-ab5b-9c1d3dc1d76b": {
     "id": "26418423-bcf3-4e01-ab5b-9c1d3dc1d76b",
     "prev": "1e675759-0861-4891-bc80-0ba93b7a36d7",
     "regions": {
      "c52324f5-beed-4864-86c5-90db9846319a": {
       "attrs": {
        "height": 0.8,
        "width": 0.8,
        "x": 0.1,
        "y": 0.1
       },
       "content": {
        "cell": "c974e4e9-f12a-41f4-bcdb-3b1b47a85fe7",
        "part": "whole"
       },
       "id": "c52324f5-beed-4864-86c5-90db9846319a"
      }
     }
    },
    "28f11de7-5e3a-4cc3-8a31-365b59a7f888": {
     "id": "28f11de7-5e3a-4cc3-8a31-365b59a7f888",
     "prev": "32a08043-2bb8-4a05-b88b-30e96efc0d53",
     "regions": {
      "de5b639e-edd0-4cf3-8bea-75420a5d8ad0": {
       "attrs": {
        "height": 0.8,
        "width": 0.8,
        "x": 0.1,
        "y": 0.1
       },
       "content": {
        "cell": "8e5bee16-8434-4ea4-a2ec-213fed94a1c2",
        "part": "whole"
       },
       "id": "de5b639e-edd0-4cf3-8bea-75420a5d8ad0"
      }
     }
    },
    "2aaacc4b-28f0-4efd-8314-0d66e1b7e2e2": {
     "id": "2aaacc4b-28f0-4efd-8314-0d66e1b7e2e2",
     "prev": "4fa28014-3b07-4c07-ad61-363500bf7f53",
     "regions": {
      "a4792361-e3f0-482b-b7e6-151f4f262e4d": {
       "attrs": {
        "height": 0.8,
        "width": 0.8,
        "x": 0.1,
        "y": 0.1
       },
       "content": {
        "cell": "0d8a5e96-c7d6-4678-8082-926ecd1a7282",
        "part": "whole"
       },
       "id": "a4792361-e3f0-482b-b7e6-151f4f262e4d"
      }
     }
    },
    "2d4c35f4-7091-402d-993f-3f9384279d0f": {
     "id": "2d4c35f4-7091-402d-993f-3f9384279d0f",
     "prev": "6c40c45b-5a1d-4273-b96c-1ed92de46a23",
     "regions": {
      "fd1ad266-3e12-4e93-a0fc-aea92d83b0a1": {
       "attrs": {
        "height": 0.8,
        "width": 0.8,
        "x": 0.1,
        "y": 0.1
       },
       "content": {
        "cell": "f945a55e-172c-4dcd-bc7c-8f86f68621ee",
        "part": "whole"
       },
       "id": "fd1ad266-3e12-4e93-a0fc-aea92d83b0a1"
      }
     }
    },
    "2e36a4ea-6123-438e-873c-163ef4ec5399": {
     "id": "2e36a4ea-6123-438e-873c-163ef4ec5399",
     "prev": "01da76bc-c60a-4a97-8745-bc9252c77810",
     "regions": {
      "acb6d6d0-3ed6-4240-8fff-37fedafa23f4": {
       "attrs": {
        "height": 0.8,
        "width": 0.8,
        "x": 0.1,
        "y": 0.1
       },
       "content": {
        "cell": "157d0006-cbfe-47a9-b940-7a932069bc92",
        "part": "whole"
       },
       "id": "acb6d6d0-3ed6-4240-8fff-37fedafa23f4"
      }
     }
    },
    "32a08043-2bb8-4a05-b88b-30e96efc0d53": {
     "id": "32a08043-2bb8-4a05-b88b-30e96efc0d53",
     "prev": "cbe4ff51-5a10-41dd-956a-e5f986d3b2c5",
     "regions": {
      "17362111-353b-4477-ab1f-bb7ae3dc899a": {
       "attrs": {
        "height": 0.8,
        "width": 0.8,
        "x": 0.1,
        "y": 0.1
       },
       "content": {
        "cell": "f44cfa6a-f767-44b4-b9b6-335b4ed3e09b",
        "part": "whole"
       },
       "id": "17362111-353b-4477-ab1f-bb7ae3dc899a"
      }
     }
    },
    "339fb6f8-6218-429b-b83f-4af1e8cdb7b1": {
     "id": "339fb6f8-6218-429b-b83f-4af1e8cdb7b1",
     "prev": "0554fe84-d22b-4a51-bed3-5e65635fe396",
     "regions": {
      "a9f21112-9fe5-45b4-9211-c03dd07ae0ec": {
       "attrs": {
        "height": 0.8,
        "width": 0.8,
        "x": 0.1,
        "y": 0.1
       },
       "content": {
        "cell": "7d6e989a-80fa-4411-90b4-fe292794904a",
        "part": "whole"
       },
       "id": "a9f21112-9fe5-45b4-9211-c03dd07ae0ec"
      }
     }
    },
    "35ef7fa0-972d-4d1e-8c65-7266f216c1a2": {
     "id": "35ef7fa0-972d-4d1e-8c65-7266f216c1a2",
     "prev": "9de1a315-cfd0-4861-a803-7cf2e36a24f3",
     "regions": {
      "f914147f-e120-46c2-91a2-686d187e60c1": {
       "attrs": {
        "height": 0.8,
        "width": 0.8,
        "x": 0.1,
        "y": 0.1
       },
       "content": {
        "cell": "30ee6ccc-d6d9-464b-b253-480a8423c564",
        "part": "whole"
       },
       "id": "f914147f-e120-46c2-91a2-686d187e60c1"
      }
     }
    },
    "3c436d93-713c-438e-b449-2020cc9c80ad": {
     "id": "3c436d93-713c-438e-b449-2020cc9c80ad",
     "prev": "1e386032-b56f-4227-920d-cc40830350a7",
     "regions": {
      "83f64586-e860-42be-8a0f-33c253a3bdc0": {
       "attrs": {
        "height": 0.8,
        "width": 0.8,
        "x": 0.1,
        "y": 0.1
       },
       "content": {
        "cell": "fb2dad07-9010-46ad-8d51-a60826d01e80",
        "part": "whole"
       },
       "id": "83f64586-e860-42be-8a0f-33c253a3bdc0"
      }
     }
    },
    "3ee92f30-9f2e-4f0a-8a97-56681070152f": {
     "id": "3ee92f30-9f2e-4f0a-8a97-56681070152f",
     "prev": "db2969ca-bd33-4585-a1bc-f58bd548fc75",
     "regions": {
      "33af364b-92d6-4192-9f7b-73cc11f398b4": {
       "attrs": {
        "height": 0.8,
        "width": 0.8,
        "x": 0.1,
        "y": 0.1
       },
       "content": {
        "cell": "249d05a3-123b-4379-8c6c-e47a5ecd79c5",
        "part": "whole"
       },
       "id": "33af364b-92d6-4192-9f7b-73cc11f398b4"
      }
     }
    },
    "3f1a538c-2a37-4984-9c3d-7e5f269bacd6": {
     "id": "3f1a538c-2a37-4984-9c3d-7e5f269bacd6",
     "prev": "59586b07-18c5-422d-821e-657a11537ef8",
     "regions": {
      "5b175b04-4e2e-4699-828e-6b0cb662e20c": {
       "attrs": {
        "height": 0.8,
        "width": 0.8,
        "x": 0.1,
        "y": 0.1
       },
       "content": {
        "cell": "eb1f7ec5-a9ee-4f11-8203-7ed05efe8b2d",
        "part": "whole"
       },
       "id": "5b175b04-4e2e-4699-828e-6b0cb662e20c"
      }
     }
    },
    "43c5867a-67d1-40e5-b0a6-3dd37cf86e4c": {
     "id": "43c5867a-67d1-40e5-b0a6-3dd37cf86e4c",
     "prev": "6fc27aef-9186-4424-abc5-c2f9b4e4887e",
     "regions": {
      "0c972c87-02a6-42f4-b341-41c4fc24885b": {
       "attrs": {
        "height": 0.8,
        "width": 0.8,
        "x": 0.1,
        "y": 0.1
       },
       "content": {
        "cell": "f927a649-e243-43e1-bdb3-e6ac539c5681",
        "part": "whole"
       },
       "id": "0c972c87-02a6-42f4-b341-41c4fc24885b"
      }
     }
    },
    "48753785-3fcf-4d63-90a9-f705f6b9d773": {
     "id": "48753785-3fcf-4d63-90a9-f705f6b9d773",
     "prev": "a13f311c-81ab-43d6-afc2-42739990a153",
     "regions": {
      "1b2482e7-8e72-4ad8-819c-4625f858786a": {
       "attrs": {
        "height": 0.8,
        "width": 0.8,
        "x": 0.1,
        "y": 0.1
       },
       "content": {
        "cell": "74cf6ea6-7dfb-4229-aad3-b93fef0080bb",
        "part": "whole"
       },
       "id": "1b2482e7-8e72-4ad8-819c-4625f858786a"
      }
     }
    },
    "4b790427-e85a-45e1-88d5-4009229994e0": {
     "id": "4b790427-e85a-45e1-88d5-4009229994e0",
     "prev": "11126937-79a9-4156-ba4b-a682ceb48f56",
     "regions": {
      "d5b4c4cb-db00-45ee-8cdd-0659ceef3875": {
       "attrs": {
        "height": 0.8,
        "width": 0.8,
        "x": 0.1,
        "y": 0.1
       },
       "content": {
        "cell": "59e7d3f6-8301-4188-b863-b46b4b6201e4",
        "part": "whole"
       },
       "id": "d5b4c4cb-db00-45ee-8cdd-0659ceef3875"
      }
     }
    },
    "4c8a3315-b365-4554-b7c1-3babbcc6a83e": {
     "id": "4c8a3315-b365-4554-b7c1-3babbcc6a83e",
     "prev": "d13d31fc-50d3-4dff-8826-e723d8f0f128",
     "regions": {
      "5b44016c-db62-4556-ace5-e1a6caf2a839": {
       "attrs": {
        "height": 0.8,
        "width": 0.8,
        "x": 0.1,
        "y": 0.1
       },
       "content": {
        "cell": "a0597278-51eb-4cdb-9d60-31f3e1b540d6",
        "part": "whole"
       },
       "id": "5b44016c-db62-4556-ace5-e1a6caf2a839"
      }
     }
    },
    "4cf449c3-8552-4c5a-9b7e-5d648dca62fa": {
     "id": "4cf449c3-8552-4c5a-9b7e-5d648dca62fa",
     "prev": "10450a8d-9b85-4e8b-a98c-c463347a9f25",
     "regions": {
      "8660811c-171d-4bc5-8384-6a4cc647ffd9": {
       "attrs": {
        "height": 0.8,
        "width": 0.8,
        "x": 0.1,
        "y": 0.1
       },
       "content": {
        "cell": "efd546b6-83b9-4e4f-9213-d25135a48dd7",
        "part": "whole"
       },
       "id": "8660811c-171d-4bc5-8384-6a4cc647ffd9"
      }
     }
    },
    "4e93749a-d2af-4698-9e1c-52edc6a1d1b7": {
     "id": "4e93749a-d2af-4698-9e1c-52edc6a1d1b7",
     "prev": "2aaacc4b-28f0-4efd-8314-0d66e1b7e2e2",
     "regions": {
      "a249b007-f0be-4bbd-82e4-c1bf2ca5530f": {
       "attrs": {
        "height": 0.8,
        "width": 0.8,
        "x": 0.1,
        "y": 0.1
       },
       "content": {
        "cell": "ac36f7a8-ae6b-442f-9ea7-7ae43cc138aa",
        "part": "whole"
       },
       "id": "a249b007-f0be-4bbd-82e4-c1bf2ca5530f"
      }
     }
    },
    "4ea5bb0e-96d6-4a09-aa47-3b93bc925f0f": {
     "id": "4ea5bb0e-96d6-4a09-aa47-3b93bc925f0f",
     "prev": "11473eb1-36ea-43b1-9b2e-3bd63683cd2a",
     "regions": {
      "e2acd0f8-51b6-4056-855e-6c877e9c056d": {
       "attrs": {
        "height": 0.8,
        "width": 0.8,
        "x": 0.1,
        "y": 0.1
       },
       "content": {
        "cell": "9132be7b-2dae-4894-9401-ce838c5f93a5",
        "part": "whole"
       },
       "id": "e2acd0f8-51b6-4056-855e-6c877e9c056d"
      }
     }
    },
    "4fa28014-3b07-4c07-ad61-363500bf7f53": {
     "id": "4fa28014-3b07-4c07-ad61-363500bf7f53",
     "prev": "60010ce8-ee33-4943-930f-2e933014e503",
     "regions": {
      "8136a8f9-4650-42f4-acb1-800bad1d7497": {
       "attrs": {
        "height": 0.8,
        "width": 0.8,
        "x": 0.1,
        "y": 0.1
       },
       "content": {
        "cell": "d518b9d7-3497-4ac7-8107-417c24642aef",
        "part": "whole"
       },
       "id": "8136a8f9-4650-42f4-acb1-800bad1d7497"
      }
     }
    },
    "51f1d937-bed7-463f-ba34-5388ea553b7f": {
     "id": "51f1d937-bed7-463f-ba34-5388ea553b7f",
     "prev": "f7376ab0-5833-4788-a767-7d0fec2b4c45",
     "regions": {
      "194b8dc1-8722-4c61-822b-5ed79e6b3937": {
       "attrs": {
        "height": 0.8,
        "width": 0.8,
        "x": 0.1,
        "y": 0.1
       },
       "content": {
        "cell": "552cceaf-4225-4e8c-9398-60c3f43aacf7",
        "part": "whole"
       },
       "id": "194b8dc1-8722-4c61-822b-5ed79e6b3937"
      }
     }
    },
    "5243441e-7196-470b-ab56-a5882dd0f3c8": {
     "id": "5243441e-7196-470b-ab56-a5882dd0f3c8",
     "prev": "6f8f56ee-98fe-466e-89a7-2df3044fe689",
     "regions": {
      "11098308-db23-44c2-a2a0-58be418f1413": {
       "attrs": {
        "height": 0.8,
        "width": 0.8,
        "x": 0.1,
        "y": 0.1
       },
       "content": {
        "cell": "657d5889-0c2f-460d-a84f-58c2d88f830e",
        "part": "whole"
       },
       "id": "11098308-db23-44c2-a2a0-58be418f1413"
      }
     }
    },
    "527256bc-55bc-44c3-87b1-effec57f7287": {
     "id": "527256bc-55bc-44c3-87b1-effec57f7287",
     "prev": "28f11de7-5e3a-4cc3-8a31-365b59a7f888",
     "regions": {
      "63d70367-2d46-40ad-9392-5facf2095a07": {
       "attrs": {
        "height": 0.8,
        "width": 0.8,
        "x": 0.1,
        "y": 0.1
       },
       "content": {
        "cell": "7107d807-2a64-4b99-9e9e-78635f3e9747",
        "part": "whole"
       },
       "id": "63d70367-2d46-40ad-9392-5facf2095a07"
      }
     }
    },
    "554ae308-b389-4584-a42d-6ca0413cba9b": {
     "id": "554ae308-b389-4584-a42d-6ca0413cba9b",
     "prev": "c1e96d32-0443-4764-a983-e58b6777021c",
     "regions": {
      "69abb170-18d8-4488-b655-2e1d47dd69f7": {
       "attrs": {
        "height": 0.8,
        "width": 0.8,
        "x": 0.1,
        "y": 0.1
       },
       "content": {
        "cell": "2d35e655-bb62-42e7-bada-cf69d2fc60c8",
        "part": "whole"
       },
       "id": "69abb170-18d8-4488-b655-2e1d47dd69f7"
      }
     }
    },
    "555e3ef7-873c-4241-b48a-8d1d19d6d787": {
     "id": "555e3ef7-873c-4241-b48a-8d1d19d6d787",
     "prev": "d0d83265-2dfe-4a28-8779-2666712794fa",
     "regions": {
      "5889ea1a-8cd3-481b-830d-3d29503589b4": {
       "attrs": {
        "height": 0.8,
        "width": 0.8,
        "x": 0.1,
        "y": 0.1
       },
       "content": {
        "cell": "872c618c-6c27-4cad-9632-f10b52a66a52",
        "part": "whole"
       },
       "id": "5889ea1a-8cd3-481b-830d-3d29503589b4"
      }
     }
    },
    "58206a46-e545-41be-a1d9-db7dbfc4a0a7": {
     "id": "58206a46-e545-41be-a1d9-db7dbfc4a0a7",
     "prev": "8eebd1ca-6f85-4a83-a879-4f73a0c5f57e",
     "regions": {
      "8e6c1dcb-4581-49a6-915a-12b46e1bd585": {
       "attrs": {
        "height": 0.8,
        "width": 0.8,
        "x": 0.1,
        "y": 0.1
       },
       "content": {
        "cell": "58fc96e9-b580-46ad-bc3d-adcbac5c9c3b",
        "part": "whole"
       },
       "id": "8e6c1dcb-4581-49a6-915a-12b46e1bd585"
      }
     }
    },
    "59239f45-0835-44a2-bfe0-a64c49936702": {
     "id": "59239f45-0835-44a2-bfe0-a64c49936702",
     "prev": "c4cdb8a5-acc5-420c-8baa-12ff5b645770",
     "regions": {
      "66590267-3596-4b0e-ab70-43ed56d4fb83": {
       "attrs": {
        "height": 0.8,
        "width": 0.8,
        "x": 0.1,
        "y": 0.1
       },
       "content": {
        "cell": "a3314f49-0106-40bf-aed3-4c4c1f30d990",
        "part": "whole"
       },
       "id": "66590267-3596-4b0e-ab70-43ed56d4fb83"
      }
     }
    },
    "59586b07-18c5-422d-821e-657a11537ef8": {
     "id": "59586b07-18c5-422d-821e-657a11537ef8",
     "prev": "4e93749a-d2af-4698-9e1c-52edc6a1d1b7",
     "regions": {
      "9ef853ff-f898-49f3-a093-3b394566939a": {
       "attrs": {
        "height": 0.8,
        "width": 0.8,
        "x": 0.1,
        "y": 0.1
       },
       "content": {
        "cell": "5df579fa-5c96-465f-a1a5-ce7af702deca",
        "part": "whole"
       },
       "id": "9ef853ff-f898-49f3-a093-3b394566939a"
      }
     }
    },
    "5a56fc74-c39e-4236-ad86-c7ab6f514d27": {
     "id": "5a56fc74-c39e-4236-ad86-c7ab6f514d27",
     "prev": "fb5b381e-e2e1-4a81-9b52-6444ed2d1581",
     "regions": {
      "2954d608-9442-4bdd-8db2-03b34c83e809": {
       "attrs": {
        "height": 0.8,
        "width": 0.8,
        "x": 0.1,
        "y": 0.1
       },
       "content": {
        "cell": "dc46f1d0-4682-4072-8d0f-400a3caaa909",
        "part": "whole"
       },
       "id": "2954d608-9442-4bdd-8db2-03b34c83e809"
      }
     }
    },
    "5afc8c07-1313-4ea3-a66b-9f8de5840d8e": {
     "id": "5afc8c07-1313-4ea3-a66b-9f8de5840d8e",
     "prev": null,
     "regions": {
      "35a02c31-5999-4770-b3e9-e721caeac44c": {
       "attrs": {
        "height": 0.8,
        "width": 0.8,
        "x": 0.1,
        "y": 0.1
       },
       "content": {
        "cell": "34b76949-9443-4d9c-87bd-659ba8d0e226",
        "part": "whole"
       },
       "id": "35a02c31-5999-4770-b3e9-e721caeac44c"
      }
     }
    },
    "5b7632cd-cddb-474a-9e69-a5123e5811be": {
     "id": "5b7632cd-cddb-474a-9e69-a5123e5811be",
     "prev": "9abc12ba-2478-4089-ad0c-941619f670aa",
     "regions": {
      "b918b9f6-ab11-4d8e-9e04-6ca0a49ccfc5": {
       "attrs": {
        "height": 0.8,
        "width": 0.8,
        "x": 0.1,
        "y": 0.1
       },
       "content": {
        "cell": "1f0393c4-9736-4cd1-ab72-c23768b4f9af",
        "part": "whole"
       },
       "id": "b918b9f6-ab11-4d8e-9e04-6ca0a49ccfc5"
      }
     }
    },
    "5ca7e1d3-9a1e-428d-9d4b-22b54642022a": {
     "id": "5ca7e1d3-9a1e-428d-9d4b-22b54642022a",
     "prev": "a52be549-7ea3-48d8-80cb-580ae2e1c5a9",
     "regions": {
      "fa5fe07c-cfd1-4c32-bda6-cfd59cfe08a7": {
       "attrs": {
        "height": 0.8,
        "width": 0.8,
        "x": 0.1,
        "y": 0.1
       },
       "content": {
        "cell": "c6f6c5a8-eb3d-470f-bae4-6622e8f183b9",
        "part": "whole"
       },
       "id": "fa5fe07c-cfd1-4c32-bda6-cfd59cfe08a7"
      }
     }
    },
    "5f6bb073-1779-442d-9f56-8971500c6b31": {
     "id": "5f6bb073-1779-442d-9f56-8971500c6b31",
     "prev": "61e8ebf4-9744-4aa7-9827-1e68c6aaa1cf",
     "regions": {
      "843dc382-d2ec-4ad6-bde3-065a21f7ed5f": {
       "attrs": {
        "height": 0.8,
        "width": 0.8,
        "x": 0.1,
        "y": 0.1
       },
       "content": {
        "cell": "46b6c903-5ceb-4705-b6aa-056934dd9752",
        "part": "whole"
       },
       "id": "843dc382-d2ec-4ad6-bde3-065a21f7ed5f"
      }
     }
    },
    "5fda65a8-ca4c-4c2a-a8c8-14e7cf418549": {
     "id": "5fda65a8-ca4c-4c2a-a8c8-14e7cf418549",
     "prev": "16b61d50-520a-47e7-9fe2-f95fd6e6d8cd",
     "regions": {
      "11af942a-2621-43ce-990e-d4366bca705b": {
       "attrs": {
        "height": 0.8,
        "width": 0.8,
        "x": 0.1,
        "y": 0.1
       },
       "content": {
        "cell": "683254d7-fe71-43dd-97a2-57255899e2a6",
        "part": "whole"
       },
       "id": "11af942a-2621-43ce-990e-d4366bca705b"
      }
     }
    },
    "60010ce8-ee33-4943-930f-2e933014e503": {
     "id": "60010ce8-ee33-4943-930f-2e933014e503",
     "prev": "e81161be-3474-4df7-821c-4bdb98c762c7",
     "regions": {
      "c16240a0-3d9c-4f9a-8fe0-15e2616d43f5": {
       "attrs": {
        "height": 0.8,
        "width": 0.8,
        "x": 0.1,
        "y": 0.1
       },
       "content": {
        "cell": "8746f29a-ff28-447e-822d-1e2211983eec",
        "part": "whole"
       },
       "id": "c16240a0-3d9c-4f9a-8fe0-15e2616d43f5"
      }
     }
    },
    "61e8ebf4-9744-4aa7-9827-1e68c6aaa1cf": {
     "id": "61e8ebf4-9744-4aa7-9827-1e68c6aaa1cf",
     "prev": "59239f45-0835-44a2-bfe0-a64c49936702",
     "regions": {
      "6b596ab1-9e51-4897-8c07-d54c06af0355": {
       "attrs": {
        "height": 0.8,
        "width": 0.8,
        "x": 0.1,
        "y": 0.1
       },
       "content": {
        "cell": "b3c3b67d-3422-42fa-85cd-b6ea9cad28e0",
        "part": "whole"
       },
       "id": "6b596ab1-9e51-4897-8c07-d54c06af0355"
      }
     }
    },
    "62ed4a95-e05f-48f6-9f9e-673c8982f513": {
     "id": "62ed4a95-e05f-48f6-9f9e-673c8982f513",
     "prev": "4ea5bb0e-96d6-4a09-aa47-3b93bc925f0f",
     "regions": {
      "2c54c235-27e0-4daa-982f-100ad68bcfe9": {
       "attrs": {
        "height": 0.8,
        "width": 0.8,
        "x": 0.1,
        "y": 0.1
       },
       "content": {
        "cell": "d4bbbd83-ca84-442a-9020-243f7ab0eee3",
        "part": "whole"
       },
       "id": "2c54c235-27e0-4daa-982f-100ad68bcfe9"
      }
     }
    },
    "65773354-d381-46c4-ad40-a05753153974": {
     "id": "65773354-d381-46c4-ad40-a05753153974",
     "prev": "12b9889a-7dac-4971-bc33-d8b66e431dee",
     "regions": {
      "b63931c9-fe53-47e4-9ecd-2ccea44f1ba6": {
       "attrs": {
        "height": 0.8,
        "width": 0.8,
        "x": 0.1,
        "y": 0.1
       },
       "content": {
        "cell": "57db372f-ce5f-4a14-82ae-6530c070e18d",
        "part": "whole"
       },
       "id": "b63931c9-fe53-47e4-9ecd-2ccea44f1ba6"
      }
     }
    },
    "67ca42ea-83ea-43be-940d-f4eff16226ed": {
     "id": "67ca42ea-83ea-43be-940d-f4eff16226ed",
     "prev": "0a40c494-9363-4575-84d4-2941a22cf04b",
     "regions": {
      "01cb12b7-609c-4f29-b5c6-7f4c9a4d452f": {
       "attrs": {
        "height": 0.8,
        "width": 0.8,
        "x": 0.1,
        "y": 0.1
       },
       "content": {
        "cell": "4332c8e4-7b90-4ee0-9fa3-35f845b9fa86",
        "part": "whole"
       },
       "id": "01cb12b7-609c-4f29-b5c6-7f4c9a4d452f"
      }
     }
    },
    "6be7e6d7-6f00-48ec-b1ea-26f18bc8b475": {
     "id": "6be7e6d7-6f00-48ec-b1ea-26f18bc8b475",
     "prev": "84dd3109-ab46-4121-a31d-2672849d6cb6",
     "regions": {
      "8041501a-83ca-44bd-ab13-a0b386fd3493": {
       "attrs": {
        "height": 0.8,
        "width": 0.8,
        "x": 0.1,
        "y": 0.1
       },
       "content": {
        "cell": "115cc600-1426-46d7-9ba6-950d07e65f8a",
        "part": "whole"
       },
       "id": "8041501a-83ca-44bd-ab13-a0b386fd3493"
      }
     }
    },
    "6c40c45b-5a1d-4273-b96c-1ed92de46a23": {
     "id": "6c40c45b-5a1d-4273-b96c-1ed92de46a23",
     "prev": "ca8dd306-3863-4cd8-ac58-8e400751ad5b",
     "regions": {
      "7e60269b-531b-4eff-9bed-81132c39f38f": {
       "attrs": {
        "height": 0.8,
        "width": 0.8,
        "x": 0.1,
        "y": 0.1
       },
       "content": {
        "cell": "761bc38a-95cf-4a92-a3b2-26b0696e184b",
        "part": "whole"
       },
       "id": "7e60269b-531b-4eff-9bed-81132c39f38f"
      }
     }
    },
    "6f7a1f70-1440-4f95-a60c-385dd02c1b02": {
     "id": "6f7a1f70-1440-4f95-a60c-385dd02c1b02",
     "prev": "9de99bdb-c2ee-4671-a1a0-4a7fedaa3a37",
     "regions": {
      "56d6da69-d7f4-4d0a-b493-3a93a31960cb": {
       "attrs": {
        "height": 0.8,
        "width": 0.8,
        "x": 0.1,
        "y": 0.1
       },
       "content": {
        "cell": "c61cca73-9059-4cd7-ba39-5f9d76d551d7",
        "part": "whole"
       },
       "id": "56d6da69-d7f4-4d0a-b493-3a93a31960cb"
      }
     }
    },
    "6f8f56ee-98fe-466e-89a7-2df3044fe689": {
     "id": "6f8f56ee-98fe-466e-89a7-2df3044fe689",
     "prev": "6be7e6d7-6f00-48ec-b1ea-26f18bc8b475",
     "regions": {
      "3b46c86f-2f74-4c91-9307-9e453b758c99": {
       "attrs": {
        "height": 0.8,
        "width": 0.8,
        "x": 0.1,
        "y": 0.1
       },
       "content": {
        "cell": "0173d4f5-4710-428c-9bc2-6f603fd9412f",
        "part": "whole"
       },
       "id": "3b46c86f-2f74-4c91-9307-9e453b758c99"
      }
     }
    },
    "6fc27aef-9186-4424-abc5-c2f9b4e4887e": {
     "id": "6fc27aef-9186-4424-abc5-c2f9b4e4887e",
     "prev": "3ee92f30-9f2e-4f0a-8a97-56681070152f",
     "regions": {
      "8af118f2-b927-473c-9ba0-220c5d115632": {
       "attrs": {
        "height": 0.8,
        "width": 0.8,
        "x": 0.1,
        "y": 0.1
       },
       "content": {
        "cell": "bf745217-8f6d-4009-88f8-9de3094fef5d",
        "part": "whole"
       },
       "id": "8af118f2-b927-473c-9ba0-220c5d115632"
      }
     }
    },
    "70346f60-3396-42cf-ab8c-5ca7e93036b0": {
     "id": "70346f60-3396-42cf-ab8c-5ca7e93036b0",
     "prev": "c5d39c0a-3d5b-40d5-9840-9dca03b9efac",
     "regions": {
      "3534b197-a990-4cfb-9d5a-9de7923254bf": {
       "attrs": {
        "height": 0.8,
        "width": 0.8,
        "x": 0.1,
        "y": 0.1
       },
       "content": {
        "cell": "e74eed6e-31f3-41ee-a600-4209f5630a7c",
        "part": "whole"
       },
       "id": "3534b197-a990-4cfb-9d5a-9de7923254bf"
      }
     }
    },
    "7525f903-0589-472e-b64f-6c35b9c80861": {
     "id": "7525f903-0589-472e-b64f-6c35b9c80861",
     "prev": "b2cd5186-695b-49eb-9a26-ae4279787eb2",
     "regions": {
      "68e1c6fb-d115-4601-9744-12baa5b77dab": {
       "attrs": {
        "height": 0.8,
        "width": 0.8,
        "x": 0.1,
        "y": 0.1
       },
       "content": {
        "cell": "7f29f384-7016-4aaf-bd32-d64933910c24",
        "part": "whole"
       },
       "id": "68e1c6fb-d115-4601-9744-12baa5b77dab"
      }
     }
    },
    "75909a08-e9c9-4306-b47b-d89151c9e936": {
     "id": "75909a08-e9c9-4306-b47b-d89151c9e936",
     "prev": "ce7723fa-b7d8-4139-8f83-6c4168b643f1",
     "regions": {
      "effc09d1-a082-460a-a3dc-0c6f2f5960bb": {
       "attrs": {
        "height": 0.8,
        "width": 0.8,
        "x": 0.1,
        "y": 0.1
       },
       "content": {
        "cell": "316a2e42-bb92-4743-bbda-44e81abd7f5d",
        "part": "whole"
       },
       "id": "effc09d1-a082-460a-a3dc-0c6f2f5960bb"
      }
     }
    },
    "778cf012-cd0e-4099-b9ae-612398bf51f3": {
     "id": "778cf012-cd0e-4099-b9ae-612398bf51f3",
     "prev": "efc6e0e2-373b-49fc-84f8-db338a5a05b4",
     "regions": {
      "55eb8b63-825e-44f4-a55a-3c9ebf1f273d": {
       "attrs": {
        "height": 0.8,
        "width": 0.8,
        "x": 0.1,
        "y": 0.1
       },
       "content": {
        "cell": "0d40923c-6ef4-4c35-ab77-5f0440d0e456",
        "part": "whole"
       },
       "id": "55eb8b63-825e-44f4-a55a-3c9ebf1f273d"
      }
     }
    },
    "779a43b7-bdbc-4826-8eb6-3dad2052fa52": {
     "id": "779a43b7-bdbc-4826-8eb6-3dad2052fa52",
     "prev": "7caf196c-20b7-44b1-8cfd-517e0178e994",
     "regions": {
      "27ffabb0-3759-4271-936a-0f6e918e409f": {
       "attrs": {
        "height": 0.8,
        "width": 0.8,
        "x": 0.1,
        "y": 0.1
       },
       "content": {
        "cell": "021ce133-49f0-4a8b-8d12-a4ec8b1051d9",
        "part": "whole"
       },
       "id": "27ffabb0-3759-4271-936a-0f6e918e409f"
      }
     }
    },
    "7a0dd4b6-9173-43ae-aafa-03e372dbacb7": {
     "id": "7a0dd4b6-9173-43ae-aafa-03e372dbacb7",
     "prev": "4b790427-e85a-45e1-88d5-4009229994e0",
     "regions": {
      "fb4b07e3-2a3e-4b80-b832-9cb2e746c5f4": {
       "attrs": {
        "height": 0.8,
        "width": 0.8,
        "x": 0.1,
        "y": 0.1
       },
       "content": {
        "cell": "0db6b397-312e-4647-a2ab-d4830fa9518d",
        "part": "whole"
       },
       "id": "fb4b07e3-2a3e-4b80-b832-9cb2e746c5f4"
      }
     }
    },
    "7caf196c-20b7-44b1-8cfd-517e0178e994": {
     "id": "7caf196c-20b7-44b1-8cfd-517e0178e994",
     "prev": "fb9babe3-23f8-49b6-a74c-7ef2ec4e5d99",
     "regions": {
      "4236697f-0ddb-4ea0-8159-309b08f6e92e": {
       "attrs": {
        "height": 0.8,
        "width": 0.8,
        "x": 0.1,
        "y": 0.1
       },
       "content": {
        "cell": "ee059d42-0504-4cdd-a538-5e80d12be75b",
        "part": "whole"
       },
       "id": "4236697f-0ddb-4ea0-8159-309b08f6e92e"
      }
     }
    },
    "7d926200-eba5-464a-81c0-3da903bdd15f": {
     "id": "7d926200-eba5-464a-81c0-3da903bdd15f",
     "prev": "7a0dd4b6-9173-43ae-aafa-03e372dbacb7",
     "regions": {
      "a83e1221-e6d4-4b74-b087-cea580cfc5c9": {
       "attrs": {
        "height": 0.8,
        "width": 0.8,
        "x": 0.1,
        "y": 0.1
       },
       "content": {
        "cell": "bb8fb69b-f7c1-487f-97ff-44cc9a802a90",
        "part": "whole"
       },
       "id": "a83e1221-e6d4-4b74-b087-cea580cfc5c9"
      }
     }
    },
    "7f5074b2-21da-401c-a1cc-7683869950cb": {
     "id": "7f5074b2-21da-401c-a1cc-7683869950cb",
     "prev": "f91f18a7-2a11-4c1a-854e-3ec89e994be2",
     "regions": {
      "6ebdde51-3cbf-46a2-a20f-faec9f5bd192": {
       "attrs": {
        "height": 0.8,
        "width": 0.8,
        "x": 0.1,
        "y": 0.1
       },
       "content": {
        "cell": "5a94a7ba-860f-4bab-88c9-2cbf4b9a0e58",
        "part": "whole"
       },
       "id": "6ebdde51-3cbf-46a2-a20f-faec9f5bd192"
      }
     }
    },
    "810ccb34-0f5b-46b7-bb09-bd021c8cee5e": {
     "id": "810ccb34-0f5b-46b7-bb09-bd021c8cee5e",
     "prev": "58206a46-e545-41be-a1d9-db7dbfc4a0a7",
     "regions": {
      "6a51e082-d023-44cf-ae42-6ff496aa3be9": {
       "attrs": {
        "height": 0.8,
        "width": 0.8,
        "x": 0.1,
        "y": 0.1
       },
       "content": {
        "cell": "f0bf3262-3a1d-49a6-bf51-753d48d5dadc",
        "part": "whole"
       },
       "id": "6a51e082-d023-44cf-ae42-6ff496aa3be9"
      }
     }
    },
    "81c4c786-a662-4ad4-be70-303ee027b077": {
     "id": "81c4c786-a662-4ad4-be70-303ee027b077",
     "prev": "8a7e2a67-38c0-418d-9fa5-7f52759a1180",
     "regions": {
      "9b3bd065-3feb-4441-bb2a-6757821af13d": {
       "attrs": {
        "height": 0.8,
        "width": 0.8,
        "x": 0.1,
        "y": 0.1
       },
       "content": {
        "cell": "eb0d8b0d-b783-4c25-8a96-f76f94637ca1",
        "part": "whole"
       },
       "id": "9b3bd065-3feb-4441-bb2a-6757821af13d"
      }
     }
    },
    "83434c0f-47ff-477d-bfbb-ad26d60ff76b": {
     "id": "83434c0f-47ff-477d-bfbb-ad26d60ff76b",
     "prev": "f4e47ea3-4b9e-43e1-b55a-91fbf0902915",
     "regions": {
      "3f2bc3e8-efcc-42cc-8453-9da6a499c7e9": {
       "attrs": {
        "height": 0.8,
        "width": 0.8,
        "x": 0.1,
        "y": 0.1
       },
       "content": {
        "cell": "478e593d-b23e-4c98-b2aa-605e45717447",
        "part": "whole"
       },
       "id": "3f2bc3e8-efcc-42cc-8453-9da6a499c7e9"
      }
     }
    },
    "8374ad7d-6fea-4623-bbb6-715ff9f03876": {
     "id": "8374ad7d-6fea-4623-bbb6-715ff9f03876",
     "prev": "5ca7e1d3-9a1e-428d-9d4b-22b54642022a",
     "regions": {
      "3badefe7-d705-42f3-9007-af8ca826c4c6": {
       "attrs": {
        "height": 0.8,
        "width": 0.8,
        "x": 0.1,
        "y": 0.1
       },
       "content": {
        "cell": "a3e395f4-ae5f-4317-96fc-4632298f0b86",
        "part": "whole"
       },
       "id": "3badefe7-d705-42f3-9007-af8ca826c4c6"
      }
     }
    },
    "8385fc27-6d98-4de8-84b5-ffe9a0d06beb": {
     "id": "8385fc27-6d98-4de8-84b5-ffe9a0d06beb",
     "prev": "fd9bfa7e-d8de-4963-b2a4-0d0405335f39",
     "regions": {
      "967021de-0926-4e17-bc5f-bc89cf411760": {
       "attrs": {
        "height": 0.8,
        "width": 0.8,
        "x": 0.1,
        "y": 0.1
       },
       "content": {
        "cell": "7d1a8480-bd02-46d4-ba89-b25e0cd175d0",
        "part": "whole"
       },
       "id": "967021de-0926-4e17-bc5f-bc89cf411760"
      }
     }
    },
    "84dd3109-ab46-4121-a31d-2672849d6cb6": {
     "id": "84dd3109-ab46-4121-a31d-2672849d6cb6",
     "prev": "67ca42ea-83ea-43be-940d-f4eff16226ed",
     "regions": {
      "c61e12c2-175c-4844-a064-ac423b60b601": {
       "attrs": {
        "height": 0.8,
        "width": 0.8,
        "x": 0.1,
        "y": 0.1
       },
       "content": {
        "cell": "29698b24-b406-40db-9915-1eeafc09cab7",
        "part": "whole"
       },
       "id": "c61e12c2-175c-4844-a064-ac423b60b601"
      }
     }
    },
    "85a93a07-2040-42f9-b35d-f9f1a74afbca": {
     "id": "85a93a07-2040-42f9-b35d-f9f1a74afbca",
     "prev": "c6125004-a8c2-4516-86c1-1eec2d8c91c8",
     "regions": {
      "c6834b14-b7b2-4a26-a4e6-7fdd2ee513e3": {
       "attrs": {
        "height": 0.8,
        "width": 0.8,
        "x": 0.1,
        "y": 0.1
       },
       "content": {
        "cell": "1ebcd763-d17b-4d93-a220-fbcad729eeda",
        "part": "whole"
       },
       "id": "c6834b14-b7b2-4a26-a4e6-7fdd2ee513e3"
      }
     }
    },
    "8a7e2a67-38c0-418d-9fa5-7f52759a1180": {
     "id": "8a7e2a67-38c0-418d-9fa5-7f52759a1180",
     "prev": "8374ad7d-6fea-4623-bbb6-715ff9f03876",
     "regions": {
      "1ff2cd21-587c-4aaf-9985-0e85e77e85a7": {
       "attrs": {
        "height": 0.8,
        "width": 0.8,
        "x": 0.1,
        "y": 0.1
       },
       "content": {
        "cell": "a8323bd0-c3da-476f-a343-930129234508",
        "part": "whole"
       },
       "id": "1ff2cd21-587c-4aaf-9985-0e85e77e85a7"
      }
     }
    },
    "8eebd1ca-6f85-4a83-a879-4f73a0c5f57e": {
     "id": "8eebd1ca-6f85-4a83-a879-4f73a0c5f57e",
     "prev": "779a43b7-bdbc-4826-8eb6-3dad2052fa52",
     "regions": {
      "48170782-3391-420b-843c-b31c0ca47077": {
       "attrs": {
        "height": 0.8,
        "width": 0.8,
        "x": 0.1,
        "y": 0.1
       },
       "content": {
        "cell": "a03309a7-3ccb-466a-ad2f-6b00d5617990",
        "part": "whole"
       },
       "id": "48170782-3391-420b-843c-b31c0ca47077"
      }
     }
    },
    "9068a40d-ae0d-4890-bc8b-7088fb6765db": {
     "id": "9068a40d-ae0d-4890-bc8b-7088fb6765db",
     "prev": "cfd3426d-6a08-4fa0-97cd-ab63c0a41f75",
     "regions": {
      "cae12bd3-3c69-4db9-8b0d-43c5cbaf23da": {
       "attrs": {
        "height": 0.8,
        "width": 0.8,
        "x": 0.1,
        "y": 0.1
       },
       "content": {
        "cell": "3b0459b6-e0a0-44dc-85db-2d55787184f2",
        "part": "whole"
       },
       "id": "cae12bd3-3c69-4db9-8b0d-43c5cbaf23da"
      }
     }
    },
    "9287a137-8926-407a-9c41-e86be272753e": {
     "id": "9287a137-8926-407a-9c41-e86be272753e",
     "prev": "f43c5d5a-7727-4b0d-a6c6-3cba01654de7",
     "regions": {
      "294e448f-374e-401f-a72c-8e4f357dcbaa": {
       "attrs": {
        "height": 0.8,
        "width": 0.8,
        "x": 0.1,
        "y": 0.1
       },
       "content": {
        "cell": "ae67c862-5df6-4679-90c1-7345a019d062",
        "part": "whole"
       },
       "id": "294e448f-374e-401f-a72c-8e4f357dcbaa"
      }
     }
    },
    "96ade4b8-5375-4f33-9716-9788492e5cdc": {
     "id": "96ade4b8-5375-4f33-9716-9788492e5cdc",
     "prev": "fdc601dc-68a2-4258-a48c-8e0c5787d6da",
     "regions": {
      "66e4657d-a1fd-417d-bb8a-755a51783d6f": {
       "attrs": {
        "height": 0.8,
        "width": 0.8,
        "x": 0.1,
        "y": 0.1
       },
       "content": {
        "cell": "6800c109-d35f-4081-8104-1ca785cb2359",
        "part": "whole"
       },
       "id": "66e4657d-a1fd-417d-bb8a-755a51783d6f"
      }
     }
    },
    "9811e175-81e9-4cb8-9f6f-44dd93028a2f": {
     "id": "9811e175-81e9-4cb8-9f6f-44dd93028a2f",
     "prev": "3c436d93-713c-438e-b449-2020cc9c80ad",
     "regions": {
      "d430be53-0aae-4e5f-a532-7199656a2ee9": {
       "attrs": {
        "height": 0.8,
        "width": 0.8,
        "x": 0.1,
        "y": 0.1
       },
       "content": {
        "cell": "24b9b07e-679b-4992-863a-202870fc4dd0",
        "part": "whole"
       },
       "id": "d430be53-0aae-4e5f-a532-7199656a2ee9"
      }
     }
    },
    "98484448-266a-4eb2-b144-8df4117fe9c4": {
     "id": "98484448-266a-4eb2-b144-8df4117fe9c4",
     "prev": "96ade4b8-5375-4f33-9716-9788492e5cdc",
     "regions": {
      "8fb9503b-6f9e-460f-8784-53ac9349e957": {
       "attrs": {
        "height": 0.8,
        "width": 0.8,
        "x": 0.1,
        "y": 0.1
       },
       "content": {
        "cell": "eb18522c-4d3b-4e42-a12e-06cff0aec12e",
        "part": "whole"
       },
       "id": "8fb9503b-6f9e-460f-8784-53ac9349e957"
      }
     }
    },
    "9aad885d-2f34-4cbb-bcbc-051f6dd7ce39": {
     "id": "9aad885d-2f34-4cbb-bcbc-051f6dd7ce39",
     "prev": "5f6bb073-1779-442d-9f56-8971500c6b31",
     "regions": {
      "9e802d7b-a48e-4500-be4d-68765aeccfa5": {
       "attrs": {
        "height": 0.8,
        "width": 0.8,
        "x": 0.1,
        "y": 0.1
       },
       "content": {
        "cell": "68ead954-7ffb-4606-8946-e4c373341d05",
        "part": "whole"
       },
       "id": "9e802d7b-a48e-4500-be4d-68765aeccfa5"
      }
     }
    },
    "9abc12ba-2478-4089-ad0c-941619f670aa": {
     "id": "9abc12ba-2478-4089-ad0c-941619f670aa",
     "prev": "c765dab9-1fb8-4e5c-aa75-532005b60afd",
     "regions": {
      "962282ab-016a-4e93-b364-23fa5bea92d1": {
       "attrs": {
        "height": 0.8,
        "width": 0.8,
        "x": 0.1,
        "y": 0.1
       },
       "content": {
        "cell": "f34a507e-0dee-48e7-a166-38adb8b19c86",
        "part": "whole"
       },
       "id": "962282ab-016a-4e93-b364-23fa5bea92d1"
      }
     }
    },
    "9b7968b5-3be8-4dde-89de-7d294f2c5d1b": {
     "id": "9b7968b5-3be8-4dde-89de-7d294f2c5d1b",
     "prev": "d7e56a46-ea24-4afe-a824-38d742ce8296",
     "regions": {
      "de149994-1b5a-45f6-93a5-938d3379a509": {
       "attrs": {
        "height": 0.8,
        "width": 0.8,
        "x": 0.1,
        "y": 0.1
       },
       "content": {
        "cell": "be2a3604-b4a7-491f-b5ea-835c5f35fca2",
        "part": "whole"
       },
       "id": "de149994-1b5a-45f6-93a5-938d3379a509"
      }
     }
    },
    "9c4fdfc9-0fcc-4572-bb69-f51feead804c": {
     "id": "9c4fdfc9-0fcc-4572-bb69-f51feead804c",
     "prev": "a100bd19-fc2c-4d29-888d-2deb0862ee5c",
     "regions": {
      "1e3482fe-c443-472b-bf77-12f726d6af56": {
       "attrs": {
        "height": 0.8,
        "width": 0.8,
        "x": 0.1,
        "y": 0.1
       },
       "content": {
        "cell": "f671b2c7-098b-42f9-87cc-4e81fed9da26",
        "part": "whole"
       },
       "id": "1e3482fe-c443-472b-bf77-12f726d6af56"
      }
     }
    },
    "9de1a315-cfd0-4861-a803-7cf2e36a24f3": {
     "id": "9de1a315-cfd0-4861-a803-7cf2e36a24f3",
     "prev": "5a56fc74-c39e-4236-ad86-c7ab6f514d27",
     "regions": {
      "05d1e151-acb3-46c2-be98-3969335d3cd3": {
       "attrs": {
        "height": 0.8,
        "width": 0.8,
        "x": 0.1,
        "y": 0.1
       },
       "content": {
        "cell": "56b5add6-b8bf-4575-af9c-eaed340316ae",
        "part": "whole"
       },
       "id": "05d1e151-acb3-46c2-be98-3969335d3cd3"
      }
     }
    },
    "9de99bdb-c2ee-4671-a1a0-4a7fedaa3a37": {
     "id": "9de99bdb-c2ee-4671-a1a0-4a7fedaa3a37",
     "prev": "18a0d0f6-e6f3-44e2-b6df-6c621afb4da0",
     "regions": {
      "6937976b-2b30-439d-9fcc-7ca25d6375b3": {
       "attrs": {
        "height": 0.8,
        "width": 0.8,
        "x": 0.1,
        "y": 0.1
       },
       "content": {
        "cell": "17b3642e-d7d1-4109-9016-fc1c5d7079b9",
        "part": "whole"
       },
       "id": "6937976b-2b30-439d-9fcc-7ca25d6375b3"
      }
     }
    },
    "9ed0b449-3d0f-44e3-90c6-db28eb4257e6": {
     "id": "9ed0b449-3d0f-44e3-90c6-db28eb4257e6",
     "prev": "5fda65a8-ca4c-4c2a-a8c8-14e7cf418549",
     "regions": {
      "478a70fb-ba9a-4567-86ba-e2a7da20a515": {
       "attrs": {
        "height": 0.8,
        "width": 0.8,
        "x": 0.1,
        "y": 0.1
       },
       "content": {
        "cell": "cdbf9d2f-97ff-4abc-ad99-a0017b50d708",
        "part": "whole"
       },
       "id": "478a70fb-ba9a-4567-86ba-e2a7da20a515"
      }
     }
    },
    "9f4e5fb5-fd6c-431d-8adc-e03c469f58f3": {
     "id": "9f4e5fb5-fd6c-431d-8adc-e03c469f58f3",
     "prev": "0972430f-ff6c-49ed-b14f-4bd0a5ba9410",
     "regions": {
      "d7ee4e82-4f67-4bea-b00c-0a0a051e475c": {
       "attrs": {
        "height": 0.8,
        "width": 0.8,
        "x": 0.1,
        "y": 0.1
       },
       "content": {
        "cell": "8c738f05-8525-466e-9622-0348b1d45fbb",
        "part": "whole"
       },
       "id": "d7ee4e82-4f67-4bea-b00c-0a0a051e475c"
      }
     }
    },
    "a100bd19-fc2c-4d29-888d-2deb0862ee5c": {
     "id": "a100bd19-fc2c-4d29-888d-2deb0862ee5c",
     "prev": "83434c0f-47ff-477d-bfbb-ad26d60ff76b",
     "regions": {
      "22796e0d-1986-4cc2-9b80-d04c7fc5db68": {
       "attrs": {
        "height": 0.8,
        "width": 0.8,
        "x": 0.1,
        "y": 0.1
       },
       "content": {
        "cell": "6334ac6e-30d7-41de-bfc0-61e89cfe9868",
        "part": "whole"
       },
       "id": "22796e0d-1986-4cc2-9b80-d04c7fc5db68"
      }
     }
    },
    "a13f311c-81ab-43d6-afc2-42739990a153": {
     "id": "a13f311c-81ab-43d6-afc2-42739990a153",
     "prev": "21355b56-8b41-485a-9bc0-2d3aa93063cf",
     "regions": {
      "85ae0f72-2f27-41f4-af27-0d48cab618a3": {
       "attrs": {
        "height": 0.8,
        "width": 0.8,
        "x": 0.1,
        "y": 0.1
       },
       "content": {
        "cell": "7eb971b3-5886-4a98-9c81-5c0706674bfc",
        "part": "whole"
       },
       "id": "85ae0f72-2f27-41f4-af27-0d48cab618a3"
      }
     }
    },
    "a2a98061-46f1-4655-9518-7ba060f1150e": {
     "id": "a2a98061-46f1-4655-9518-7ba060f1150e",
     "prev": "a54e214a-1638-42fd-a2d2-5f3125946659",
     "regions": {
      "84431667-0950-4d15-9111-de70f74d37d6": {
       "attrs": {
        "height": 0.8,
        "width": 0.8,
        "x": 0.1,
        "y": 0.1
       },
       "content": {
        "cell": "8907d7d5-a3ea-46ff-a146-160c641f0a4c",
        "part": "whole"
       },
       "id": "84431667-0950-4d15-9111-de70f74d37d6"
      }
     }
    },
    "a52be549-7ea3-48d8-80cb-580ae2e1c5a9": {
     "id": "a52be549-7ea3-48d8-80cb-580ae2e1c5a9",
     "prev": "a2a98061-46f1-4655-9518-7ba060f1150e",
     "regions": {
      "57680255-2d85-4f89-b06b-decfdd75f93e": {
       "attrs": {
        "height": 0.8,
        "width": 0.8,
        "x": 0.1,
        "y": 0.1
       },
       "content": {
        "cell": "2d7979d1-e1a7-4be9-bf8f-3661210a5f12",
        "part": "whole"
       },
       "id": "57680255-2d85-4f89-b06b-decfdd75f93e"
      }
     }
    },
    "a54e214a-1638-42fd-a2d2-5f3125946659": {
     "id": "a54e214a-1638-42fd-a2d2-5f3125946659",
     "prev": "ef42434c-3d2c-4f38-87c5-893767ec7c93",
     "regions": {
      "3ac51df4-085b-46d9-9078-a16f7aa78f2c": {
       "attrs": {
        "height": 0.8,
        "width": 0.8,
        "x": 0.1,
        "y": 0.1
       },
       "content": {
        "cell": "d7c9819d-9814-4211-9db5-e3ca87b43b1c",
        "part": "whole"
       },
       "id": "3ac51df4-085b-46d9-9078-a16f7aa78f2c"
      }
     }
    },
    "a775c4f0-f520-4592-9b41-5ca5d3e54233": {
     "id": "a775c4f0-f520-4592-9b41-5ca5d3e54233",
     "prev": "810ccb34-0f5b-46b7-bb09-bd021c8cee5e",
     "regions": {
      "7a13be0b-99aa-49de-b419-de5d3ef3f47f": {
       "attrs": {
        "height": 0.8,
        "width": 0.8,
        "x": 0.1,
        "y": 0.1
       },
       "content": {
        "cell": "1b773690-83cb-4db3-b563-17ddf5f34838",
        "part": "whole"
       },
       "id": "7a13be0b-99aa-49de-b419-de5d3ef3f47f"
      }
     }
    },
    "a99b826d-22d8-473b-a8f7-f72a0d175cb8": {
     "id": "a99b826d-22d8-473b-a8f7-f72a0d175cb8",
     "prev": "b6ce17c9-8fdd-4ded-b50d-68af2a77c0de",
     "regions": {
      "4310f455-d016-4cd1-8948-5c146f235229": {
       "attrs": {
        "height": 0.8,
        "width": 0.8,
        "x": 0.1,
        "y": 0.1
       },
       "content": {
        "cell": "1fab0480-f27d-4d0e-816d-1bf58595ec51",
        "part": "whole"
       },
       "id": "4310f455-d016-4cd1-8948-5c146f235229"
      }
     }
    },
    "b0c7274d-3ef1-439f-b6e1-180cff9488b9": {
     "id": "b0c7274d-3ef1-439f-b6e1-180cff9488b9",
     "prev": "6f7a1f70-1440-4f95-a60c-385dd02c1b02",
     "regions": {
      "12d9cd9f-e891-4b99-b2ab-121494722475": {
       "attrs": {
        "height": 0.8,
        "width": 0.8,
        "x": 0.1,
        "y": 0.1
       },
       "content": {
        "cell": "76a94a33-d451-42ed-af60-239dffd375d5",
        "part": "whole"
       },
       "id": "12d9cd9f-e891-4b99-b2ab-121494722475"
      }
     }
    },
    "b2cd5186-695b-49eb-9a26-ae4279787eb2": {
     "id": "b2cd5186-695b-49eb-9a26-ae4279787eb2",
     "prev": "85a93a07-2040-42f9-b35d-f9f1a74afbca",
     "regions": {
      "7694ce3f-961e-4eba-b37e-c119e12fb771": {
       "attrs": {
        "height": 0.8,
        "width": 0.8,
        "x": 0.1,
        "y": 0.1
       },
       "content": {
        "cell": "8371d680-e9f4-4f96-a516-9f7d47c24225",
        "part": "whole"
       },
       "id": "7694ce3f-961e-4eba-b37e-c119e12fb771"
      }
     }
    },
    "b6ce17c9-8fdd-4ded-b50d-68af2a77c0de": {
     "id": "b6ce17c9-8fdd-4ded-b50d-68af2a77c0de",
     "prev": "fef5e025-4863-4398-8cf4-6a8614079e92",
     "regions": {
      "238159d0-7702-407c-9459-0a5631b229b1": {
       "attrs": {
        "height": 0.8,
        "width": 0.8,
        "x": 0.1,
        "y": 0.1
       },
       "content": {
        "cell": "5d9e65dd-49af-4c38-b42f-6deeb75674ea",
        "part": "whole"
       },
       "id": "238159d0-7702-407c-9459-0a5631b229b1"
      }
     }
    },
    "c0e3d4e6-b286-4e9c-8935-6a109f4b5f82": {
     "id": "c0e3d4e6-b286-4e9c-8935-6a109f4b5f82",
     "prev": "0e7182f1-fa3d-4695-8c9b-a3ff5fa5ce54",
     "regions": {
      "c6a47f21-fa6f-4ef0-9dd5-09f892409513": {
       "attrs": {
        "height": 0.8,
        "width": 0.8,
        "x": 0.1,
        "y": 0.1
       },
       "content": {
        "cell": "f343add7-e490-48cb-a7b0-1291d0ea306d",
        "part": "whole"
       },
       "id": "c6a47f21-fa6f-4ef0-9dd5-09f892409513"
      }
     }
    },
    "c1e96d32-0443-4764-a983-e58b6777021c": {
     "id": "c1e96d32-0443-4764-a983-e58b6777021c",
     "prev": "de139c63-ea09-4898-a7d2-6be6b95d014e",
     "regions": {
      "aeea9b60-afbd-45d9-a361-37c5abcc451b": {
       "attrs": {
        "height": 0.8,
        "width": 0.8,
        "x": 0.1,
        "y": 0.1
       },
       "content": {
        "cell": "d91a3b88-8409-42a1-8487-805e9d57aba2",
        "part": "whole"
       },
       "id": "aeea9b60-afbd-45d9-a361-37c5abcc451b"
      }
     }
    },
    "c4cdb8a5-acc5-420c-8baa-12ff5b645770": {
     "id": "c4cdb8a5-acc5-420c-8baa-12ff5b645770",
     "prev": "dae30220-1b97-488e-ad84-5eafaf379121",
     "regions": {
      "699ce7a4-f0a8-4a95-b072-31181292b007": {
       "attrs": {
        "height": 0.8,
        "width": 0.8,
        "x": 0.1,
        "y": 0.1
       },
       "content": {
        "cell": "59574263-90c9-402e-8dac-2d3a29bbb968",
        "part": "whole"
       },
       "id": "699ce7a4-f0a8-4a95-b072-31181292b007"
      }
     }
    },
    "c5d39c0a-3d5b-40d5-9840-9dca03b9efac": {
     "id": "c5d39c0a-3d5b-40d5-9840-9dca03b9efac",
     "prev": "9ed0b449-3d0f-44e3-90c6-db28eb4257e6",
     "regions": {
      "a7a83087-8668-49df-a9cf-42f88283c762": {
       "attrs": {
        "height": 0.8,
        "width": 0.8,
        "x": 0.1,
        "y": 0.1
       },
       "content": {
        "cell": "4056215c-c29f-4860-bf0d-879fd4ae8516",
        "part": "whole"
       },
       "id": "a7a83087-8668-49df-a9cf-42f88283c762"
      }
     }
    },
    "c6125004-a8c2-4516-86c1-1eec2d8c91c8": {
     "id": "c6125004-a8c2-4516-86c1-1eec2d8c91c8",
     "prev": "2e36a4ea-6123-438e-873c-163ef4ec5399",
     "regions": {
      "aba6dc73-47a4-4f51-823f-6afc3e52f7b5": {
       "attrs": {
        "height": 0.8,
        "width": 0.8,
        "x": 0.1,
        "y": 0.1
       },
       "content": {
        "cell": "9f301039-ba36-41b0-819e-379fe9444095",
        "part": "whole"
       },
       "id": "aba6dc73-47a4-4f51-823f-6afc3e52f7b5"
      }
     }
    },
    "c765dab9-1fb8-4e5c-aa75-532005b60afd": {
     "id": "c765dab9-1fb8-4e5c-aa75-532005b60afd",
     "prev": "1f250fa2-7aa0-41da-af6f-797116036e2f",
     "regions": {
      "3a7973b0-4d15-4571-accb-35b4a1a38328": {
       "attrs": {
        "height": 0.8,
        "width": 0.8,
        "x": 0.1,
        "y": 0.1
       },
       "content": {
        "cell": "95cc38cd-7bab-45d3-bfb5-c007198f66aa",
        "part": "whole"
       },
       "id": "3a7973b0-4d15-4571-accb-35b4a1a38328"
      }
     }
    },
    "ca8dd306-3863-4cd8-ac58-8e400751ad5b": {
     "id": "ca8dd306-3863-4cd8-ac58-8e400751ad5b",
     "prev": "217c5bfc-7107-4ba0-92d9-76a9915ca8e1",
     "regions": {
      "a813cafd-2303-496e-859e-35043422e8ae": {
       "attrs": {
        "height": 0.8,
        "width": 0.8,
        "x": 0.1,
        "y": 0.1
       },
       "content": {
        "cell": "88ac7de6-e8b1-413c-918a-31d49425ac88",
        "part": "whole"
       },
       "id": "a813cafd-2303-496e-859e-35043422e8ae"
      }
     }
    },
    "cbe4ff51-5a10-41dd-956a-e5f986d3b2c5": {
     "id": "cbe4ff51-5a10-41dd-956a-e5f986d3b2c5",
     "prev": "70346f60-3396-42cf-ab8c-5ca7e93036b0",
     "regions": {
      "ed5e71f8-dacb-422e-98cb-c4141c1aee3d": {
       "attrs": {
        "height": 0.8,
        "width": 0.8,
        "x": 0.1,
        "y": 0.1
       },
       "content": {
        "cell": "1817909f-e61d-499c-b871-91c21028d9dd",
        "part": "whole"
       },
       "id": "ed5e71f8-dacb-422e-98cb-c4141c1aee3d"
      }
     }
    },
    "ccd44b72-56bd-4784-9414-0b9f650d0c58": {
     "id": "ccd44b72-56bd-4784-9414-0b9f650d0c58",
     "prev": "339fb6f8-6218-429b-b83f-4af1e8cdb7b1",
     "regions": {
      "052bb5e9-010a-46af-83e2-432b05033634": {
       "attrs": {
        "height": 0.8,
        "width": 0.8,
        "x": 0.1,
        "y": 0.1
       },
       "content": {
        "cell": "3a1ee7b9-37ae-4e86-b0ce-658bcfcf7efc",
        "part": "whole"
       },
       "id": "052bb5e9-010a-46af-83e2-432b05033634"
      }
     }
    },
    "cd71d111-0b88-42c4-97a4-827382a36c8a": {
     "id": "cd71d111-0b88-42c4-97a4-827382a36c8a",
     "prev": "9c4fdfc9-0fcc-4572-bb69-f51feead804c",
     "regions": {
      "dee4b40c-bdff-427c-853b-dd2fe75f7b12": {
       "attrs": {
        "height": 0.8,
        "width": 0.8,
        "x": 0.1,
        "y": 0.1
       },
       "content": {
        "cell": "298fa251-8e14-45db-9c28-1904b8e430df",
        "part": "whole"
       },
       "id": "dee4b40c-bdff-427c-853b-dd2fe75f7b12"
      }
     }
    },
    "ce7723fa-b7d8-4139-8f83-6c4168b643f1": {
     "id": "ce7723fa-b7d8-4139-8f83-6c4168b643f1",
     "prev": "9aad885d-2f34-4cbb-bcbc-051f6dd7ce39",
     "regions": {
      "38dd0377-5e46-425f-affd-a5aa4f3ab232": {
       "attrs": {
        "height": 0.8,
        "width": 0.8,
        "x": 0.1,
        "y": 0.1
       },
       "content": {
        "cell": "68f80eb4-48ac-4b5a-b5fc-82c01dd35f33",
        "part": "whole"
       },
       "id": "38dd0377-5e46-425f-affd-a5aa4f3ab232"
      }
     }
    },
    "cfd3426d-6a08-4fa0-97cd-ab63c0a41f75": {
     "id": "cfd3426d-6a08-4fa0-97cd-ab63c0a41f75",
     "prev": "4c8a3315-b365-4554-b7c1-3babbcc6a83e",
     "regions": {
      "16b84dd5-b5ab-498d-94f2-abb1a6689f94": {
       "attrs": {
        "height": 0.8,
        "width": 0.8,
        "x": 0.1,
        "y": 0.1
       },
       "content": {
        "cell": "5a1d9134-4e99-4d77-91ab-0485184ec01d",
        "part": "whole"
       },
       "id": "16b84dd5-b5ab-498d-94f2-abb1a6689f94"
      }
     }
    },
    "d0d83265-2dfe-4a28-8779-2666712794fa": {
     "id": "d0d83265-2dfe-4a28-8779-2666712794fa",
     "prev": "778cf012-cd0e-4099-b9ae-612398bf51f3",
     "regions": {
      "634a7da2-6170-4042-a549-4e023f239679": {
       "attrs": {
        "height": 0.8,
        "width": 0.8,
        "x": 0.1,
        "y": 0.1
       },
       "content": {
        "cell": "de526fd4-9cfe-4bf1-b1c1-5c376d14ac05",
        "part": "whole"
       },
       "id": "634a7da2-6170-4042-a549-4e023f239679"
      }
     }
    },
    "d13d31fc-50d3-4dff-8826-e723d8f0f128": {
     "id": "d13d31fc-50d3-4dff-8826-e723d8f0f128",
     "prev": "3f1a538c-2a37-4984-9c3d-7e5f269bacd6",
     "regions": {
      "391b4233-0f1d-4b15-b7a3-09641c0163d9": {
       "attrs": {
        "height": 0.8,
        "width": 0.8,
        "x": 0.1,
        "y": 0.1
       },
       "content": {
        "cell": "3c861022-0911-47c1-a494-115fc84e96a6",
        "part": "whole"
       },
       "id": "391b4233-0f1d-4b15-b7a3-09641c0163d9"
      }
     }
    },
    "d3d6d51e-d0c2-4907-bc98-8175bb5d2259": {
     "id": "d3d6d51e-d0c2-4907-bc98-8175bb5d2259",
     "prev": "a775c4f0-f520-4592-9b41-5ca5d3e54233",
     "regions": {
      "79d9a75f-5445-4960-80b0-5c88051117c4": {
       "attrs": {
        "height": 0.8,
        "width": 0.8,
        "x": 0.1,
        "y": 0.1
       },
       "content": {
        "cell": "12f9cc35-c684-4503-8248-21d1586042f4",
        "part": "whole"
       },
       "id": "79d9a75f-5445-4960-80b0-5c88051117c4"
      }
     }
    },
    "d7e56a46-ea24-4afe-a824-38d742ce8296": {
     "id": "d7e56a46-ea24-4afe-a824-38d742ce8296",
     "prev": "554ae308-b389-4584-a42d-6ca0413cba9b",
     "regions": {
      "00352732-d25f-4acc-a56e-232f4287e13d": {
       "attrs": {
        "height": 0.8,
        "width": 0.8,
        "x": 0.1,
        "y": 0.1
       },
       "content": {
        "cell": "8e84a281-52d2-412b-b0b8-8f29768f40bc",
        "part": "whole"
       },
       "id": "00352732-d25f-4acc-a56e-232f4287e13d"
      }
     }
    },
    "dae30220-1b97-488e-ad84-5eafaf379121": {
     "id": "dae30220-1b97-488e-ad84-5eafaf379121",
     "prev": "f126a6e9-5d39-460c-b705-61ebb2ce5095",
     "regions": {
      "14a04ee7-76de-4d23-81d2-5e2a6e08a3ed": {
       "attrs": {
        "height": 0.8,
        "width": 0.8,
        "x": 0.1,
        "y": 0.1
       },
       "content": {
        "cell": "861c4c80-7353-4dd9-b787-2fc2c572595f",
        "part": "whole"
       },
       "id": "14a04ee7-76de-4d23-81d2-5e2a6e08a3ed"
      }
     }
    },
    "db2969ca-bd33-4585-a1bc-f58bd548fc75": {
     "id": "db2969ca-bd33-4585-a1bc-f58bd548fc75",
     "prev": "8385fc27-6d98-4de8-84b5-ffe9a0d06beb",
     "regions": {
      "7b2c0865-92d0-418a-bd23-534ce4afe7df": {
       "attrs": {
        "height": 0.8,
        "width": 0.8,
        "x": 0.1,
        "y": 0.1
       },
       "content": {
        "cell": "e2392f10-f12a-48f9-a172-f1a61d2e9e9a",
        "part": "whole"
       },
       "id": "7b2c0865-92d0-418a-bd23-534ce4afe7df"
      }
     }
    },
    "de139c63-ea09-4898-a7d2-6be6b95d014e": {
     "id": "de139c63-ea09-4898-a7d2-6be6b95d014e",
     "prev": "051d8fda-88cb-454d-aacd-f9d6861f324a",
     "regions": {
      "c86a635e-2e47-444a-8615-291fd0683a00": {
       "attrs": {
        "height": 0.8,
        "width": 0.8,
        "x": 0.1,
        "y": 0.1
       },
       "content": {
        "cell": "dd7149b2-456e-48b5-ba3d-97335d137911",
        "part": "whole"
       },
       "id": "c86a635e-2e47-444a-8615-291fd0683a00"
      }
     }
    },
    "e72ec17f-74ed-4d3b-9b95-033fedc5ec96": {
     "id": "e72ec17f-74ed-4d3b-9b95-033fedc5ec96",
     "prev": "cd71d111-0b88-42c4-97a4-827382a36c8a",
     "regions": {
      "d98e7a32-60ad-4dd4-bf9e-aae2587556a6": {
       "attrs": {
        "height": 0.8,
        "width": 0.8,
        "x": 0.1,
        "y": 0.1
       },
       "content": {
        "cell": "752011ee-3333-4e9f-811f-ee149c1377f1",
        "part": "whole"
       },
       "id": "d98e7a32-60ad-4dd4-bf9e-aae2587556a6"
      }
     }
    },
    "e81161be-3474-4df7-821c-4bdb98c762c7": {
     "id": "e81161be-3474-4df7-821c-4bdb98c762c7",
     "prev": "51f1d937-bed7-463f-ba34-5388ea553b7f",
     "regions": {
      "5592a729-7b5e-4e0d-abf9-62a95e584deb": {
       "attrs": {
        "height": 0.8,
        "width": 0.8,
        "x": 0.1,
        "y": 0.1
       },
       "content": {
        "cell": "75d99967-e0fe-465e-8bf9-2928b967be19",
        "part": "whole"
       },
       "id": "5592a729-7b5e-4e0d-abf9-62a95e584deb"
      }
     }
    },
    "e905bec0-6ba0-4c9b-9dd1-29a60ac567f7": {
     "id": "e905bec0-6ba0-4c9b-9dd1-29a60ac567f7",
     "prev": "eeb93850-1d9a-40d1-b90d-1d98bddafd10",
     "regions": {
      "5c49f5ee-6274-49c7-91b6-9591cb2526aa": {
       "attrs": {
        "height": 0.8,
        "width": 0.8,
        "x": 0.1,
        "y": 0.1
       },
       "content": {
        "cell": "968a9b1e-cd8b-4d5e-a66c-50c438367a02",
        "part": "whole"
       },
       "id": "5c49f5ee-6274-49c7-91b6-9591cb2526aa"
      }
     }
    },
    "eeb93850-1d9a-40d1-b90d-1d98bddafd10": {
     "id": "eeb93850-1d9a-40d1-b90d-1d98bddafd10",
     "prev": "17e5d4cb-a1d3-4497-bf10-fd8a125051b7",
     "regions": {
      "621c52fa-5de9-438a-b547-59a83dcf46b1": {
       "attrs": {
        "height": 0.8,
        "width": 0.8,
        "x": 0.1,
        "y": 0.1
       },
       "content": {
        "cell": "05f988b1-ebf8-4fa5-bfd0-13809c60be0f",
        "part": "whole"
       },
       "id": "621c52fa-5de9-438a-b547-59a83dcf46b1"
      }
     }
    },
    "ef1762be-b5e6-46ae-86e8-7e06f4c8cac4": {
     "id": "ef1762be-b5e6-46ae-86e8-7e06f4c8cac4",
     "prev": "7f5074b2-21da-401c-a1cc-7683869950cb",
     "regions": {
      "50247dda-a4cf-4632-a2b7-1d56c5ef9de2": {
       "attrs": {
        "height": 0.8,
        "width": 0.8,
        "x": 0.1,
        "y": 0.1
       },
       "content": {
        "cell": "184a38f1-e00f-4260-921b-4f73142514d6",
        "part": "whole"
       },
       "id": "50247dda-a4cf-4632-a2b7-1d56c5ef9de2"
      }
     }
    },
    "ef42434c-3d2c-4f38-87c5-893767ec7c93": {
     "id": "ef42434c-3d2c-4f38-87c5-893767ec7c93",
     "prev": "f26aae15-c4bf-43ba-accf-5167f31256ad",
     "regions": {
      "79481d2c-e098-4001-bba2-4cdbce174eb0": {
       "attrs": {
        "height": 0.8,
        "width": 0.8,
        "x": 0.1,
        "y": 0.1
       },
       "content": {
        "cell": "c59f01a3-0826-4fc7-ba4d-71e898e94df7",
        "part": "whole"
       },
       "id": "79481d2c-e098-4001-bba2-4cdbce174eb0"
      }
     }
    },
    "efc6e0e2-373b-49fc-84f8-db338a5a05b4": {
     "id": "efc6e0e2-373b-49fc-84f8-db338a5a05b4",
     "prev": "9811e175-81e9-4cb8-9f6f-44dd93028a2f",
     "regions": {
      "8802e5a6-8a7f-4d5a-91d5-382c4764c773": {
       "attrs": {
        "height": 0.8,
        "width": 0.8,
        "x": 0.1,
        "y": 0.1
       },
       "content": {
        "cell": "12d7a47c-7656-477c-be92-35946adcc758",
        "part": "whole"
       },
       "id": "8802e5a6-8a7f-4d5a-91d5-382c4764c773"
      }
     }
    },
    "f126a6e9-5d39-460c-b705-61ebb2ce5095": {
     "id": "f126a6e9-5d39-460c-b705-61ebb2ce5095",
     "prev": "5243441e-7196-470b-ab56-a5882dd0f3c8",
     "regions": {
      "e66531a3-9e8f-47ea-bf08-8f9e01669a17": {
       "attrs": {
        "height": 0.8,
        "width": 0.8,
        "x": 0.1,
        "y": 0.1
       },
       "content": {
        "cell": "e34a5f85-c7b6-4e21-9054-d5ea3b15328d",
        "part": "whole"
       },
       "id": "e66531a3-9e8f-47ea-bf08-8f9e01669a17"
      }
     }
    },
    "f26aae15-c4bf-43ba-accf-5167f31256ad": {
     "id": "f26aae15-c4bf-43ba-accf-5167f31256ad",
     "prev": "b0c7274d-3ef1-439f-b6e1-180cff9488b9",
     "regions": {
      "ed35b2a9-b9c9-45ec-a610-02cf7dc0ccfb": {
       "attrs": {
        "height": 0.8,
        "width": 0.8,
        "x": 0.1,
        "y": 0.1
       },
       "content": {
        "cell": "f0e09f0f-8bd2-4d68-9124-f7bee777057f",
        "part": "whole"
       },
       "id": "ed35b2a9-b9c9-45ec-a610-02cf7dc0ccfb"
      }
     }
    },
    "f43c5d5a-7727-4b0d-a6c6-3cba01654de7": {
     "id": "f43c5d5a-7727-4b0d-a6c6-3cba01654de7",
     "prev": "5afc8c07-1313-4ea3-a66b-9f8de5840d8e",
     "regions": {
      "ff3fae6c-f253-44f7-9bf2-98ff336724bc": {
       "attrs": {
        "height": 0.8,
        "width": 0.8,
        "x": 0.1,
        "y": 0.1
       },
       "content": {
        "cell": "22a3c373-ea8a-43ff-972a-f9bacfb310a8",
        "part": "whole"
       },
       "id": "ff3fae6c-f253-44f7-9bf2-98ff336724bc"
      }
     }
    },
    "f4e47ea3-4b9e-43e1-b55a-91fbf0902915": {
     "id": "f4e47ea3-4b9e-43e1-b55a-91fbf0902915",
     "prev": "a99b826d-22d8-473b-a8f7-f72a0d175cb8",
     "regions": {
      "c01e2a46-4a7e-4807-8585-57ac21c2f582": {
       "attrs": {
        "height": 0.8,
        "width": 0.8,
        "x": 0.1,
        "y": 0.1
       },
       "content": {
        "cell": "ffc49a3e-1762-4939-9848-f866c6f403ea",
        "part": "whole"
       },
       "id": "c01e2a46-4a7e-4807-8585-57ac21c2f582"
      }
     }
    },
    "f7376ab0-5833-4788-a767-7d0fec2b4c45": {
     "id": "f7376ab0-5833-4788-a767-7d0fec2b4c45",
     "prev": "9287a137-8926-407a-9c41-e86be272753e",
     "regions": {
      "f1e67c1b-974e-4b86-b727-c3d37dec8829": {
       "attrs": {
        "height": 0.8,
        "width": 0.8,
        "x": 0.1,
        "y": 0.1
       },
       "content": {
        "cell": "33c3e0e7-4715-4758-812b-98c5e7ab8550",
        "part": "whole"
       },
       "id": "f1e67c1b-974e-4b86-b727-c3d37dec8829"
      }
     }
    },
    "f91f18a7-2a11-4c1a-854e-3ec89e994be2": {
     "id": "f91f18a7-2a11-4c1a-854e-3ec89e994be2",
     "prev": "e72ec17f-74ed-4d3b-9b95-033fedc5ec96",
     "regions": {
      "d91314f5-06e1-41e1-ab67-ea9016109048": {
       "attrs": {
        "height": 0.8,
        "width": 0.8,
        "x": 0.1,
        "y": 0.1
       },
       "content": {
        "cell": "fab92b1e-5de7-4f93-bb14-c6f121154aba",
        "part": "whole"
       },
       "id": "d91314f5-06e1-41e1-ab67-ea9016109048"
      }
     }
    },
    "fb5b381e-e2e1-4a81-9b52-6444ed2d1581": {
     "id": "fb5b381e-e2e1-4a81-9b52-6444ed2d1581",
     "prev": "555e3ef7-873c-4241-b48a-8d1d19d6d787",
     "regions": {
      "219bb13c-2c58-4719-b605-1cabeddc992a": {
       "attrs": {
        "height": 0.8,
        "width": 0.8,
        "x": 0.1,
        "y": 0.1
       },
       "content": {
        "cell": "639d49cd-7b45-406a-8a07-b01bcb10039c",
        "part": "whole"
       },
       "id": "219bb13c-2c58-4719-b605-1cabeddc992a"
      }
     }
    },
    "fb9babe3-23f8-49b6-a74c-7ef2ec4e5d99": {
     "id": "fb9babe3-23f8-49b6-a74c-7ef2ec4e5d99",
     "prev": "35ef7fa0-972d-4d1e-8c65-7266f216c1a2",
     "regions": {
      "2628fdbb-c13f-4f61-b55b-e3e75801cdb9": {
       "attrs": {
        "height": 0.8,
        "width": 0.8,
        "x": 0.1,
        "y": 0.1
       },
       "content": {
        "cell": "9b7e908a-e2ee-4509-ab4c-6033f64da07e",
        "part": "whole"
       },
       "id": "2628fdbb-c13f-4f61-b55b-e3e75801cdb9"
      }
     }
    },
    "fd9bfa7e-d8de-4963-b2a4-0d0405335f39": {
     "id": "fd9bfa7e-d8de-4963-b2a4-0d0405335f39",
     "prev": "9f4e5fb5-fd6c-431d-8adc-e03c469f58f3",
     "regions": {
      "5c58a4f2-60dd-44d8-8a1f-9909114593fd": {
       "attrs": {
        "height": 0.8,
        "width": 0.8,
        "x": 0.1,
        "y": 0.1
       },
       "content": {
        "cell": "5350c59e-1d40-4e3c-8062-6606bb9843e1",
        "part": "whole"
       },
       "id": "5c58a4f2-60dd-44d8-8a1f-9909114593fd"
      }
     }
    },
    "fdc601dc-68a2-4258-a48c-8e0c5787d6da": {
     "id": "fdc601dc-68a2-4258-a48c-8e0c5787d6da",
     "prev": "5b7632cd-cddb-474a-9e69-a5123e5811be",
     "regions": {
      "e80739c6-1177-4eb1-90d7-458e42289ea5": {
       "attrs": {
        "height": 0.8,
        "width": 0.8,
        "x": 0.1,
        "y": 0.1
       },
       "content": {
        "cell": "ab19d124-d54e-4391-aa55-e61979a92ab6",
        "part": "whole"
       },
       "id": "e80739c6-1177-4eb1-90d7-458e42289ea5"
      }
     }
    },
    "fef5e025-4863-4398-8cf4-6a8614079e92": {
     "id": "fef5e025-4863-4398-8cf4-6a8614079e92",
     "prev": "81c4c786-a662-4ad4-be70-303ee027b077",
     "regions": {
      "88cb1c1a-a53f-4542-b39b-fff22037a635": {
       "attrs": {
        "height": 0.8,
        "width": 0.8,
        "x": 0.1,
        "y": 0.1
       },
       "content": {
        "cell": "2d770f1f-895a-487e-a8f3-d4418e2c1862",
        "part": "whole"
       },
       "id": "88cb1c1a-a53f-4542-b39b-fff22037a635"
      }
     }
    }
   },
   "themes": {}
  }
 },
 "nbformat": 4,
 "nbformat_minor": 1
}
