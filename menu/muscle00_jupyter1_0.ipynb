{
 "cells": [
  {
   "cell_type": "markdown",
   "metadata": {
    "colab_type": "text",
    "id": "rluUao6d5LLg"
   },
   "source": [
    "# Jupyter入門\n",
    "\n",
    "### ファイル操作\n",
    "\n",
    "1. Files画面：左上にある**ファイル**⇒**Python3の新しいノートブック**を選択すると新しいノートブックを作成\n",
    "2. ファイルの**保存**で，Google Cloudに保存\n",
    "3. ファイルの**GitHubにコピーを保存**でGitHubを登録してあれば保存\n"
   ]
  },
  {
   "cell_type": "markdown",
   "metadata": {
    "colab_type": "text",
    "id": "_O0eIfvc5LLi"
   },
   "source": [
    "### 問題\n",
    "\n",
    "新しいノートを起動させてから，保存してみよう．"
   ]
  },
  {
   "cell_type": "code",
   "execution_count": null,
   "metadata": {
    "colab": {},
    "colab_type": "code",
    "id": "7WcUo8OX5LLl"
   },
   "outputs": [],
   "source": []
  },
  {
   "cell_type": "markdown",
   "metadata": {
    "colab_type": "text",
    "id": "An-nf6hb5LLr"
   },
   "source": [
    "## ノートブックの利用法\n",
    "\n",
    "1. 入力画面(セル）\n",
    " - **Shift + Enter**: 実行してから，下にセルを追加\n",
    "2. 上部メニューアイコン(左から順に）\n",
    " - 保存\n",
    " - 新しいセルの追加\n",
    " - セルの切り取り\n",
    " - セルのコピー\n",
    " - セルの貼り付け\n",
    " - 上へ移動\n",
    " - 下に移動\n",
    " - 実行\n",
    " - 停止\n",
    " - 再起動\n",
    " - セルの種類の切り替え（**Code**と**Markdown**のみ使う）\n",
    "3. セルの左にある**In[ ]**\n",
    " - セルの番号；$In[*]$は実行中を表すので，このときに何度も**Shift + Enter**をして再実行しない！**(重要！）**\n",
    " \n",
    "### 問題\n",
    "以下のセルを実行し，コピーして貼り付けて，上に移動させてから，下に移動させ元に戻せ．"
   ]
  },
  {
   "cell_type": "code",
   "execution_count": null,
   "metadata": {
    "colab": {
     "base_uri": "https://localhost:8080/",
     "height": 34
    },
    "colab_type": "code",
    "id": "MRD6s1S-5LLt",
    "outputId": "0d5ecd9b-7738-49eb-8ef9-ec10a031267a"
   },
   "outputs": [],
   "source": [
    "# Shiftキーを押しながらEnterキーを押して実行\n",
    "a = 2\n",
    "b = 100\n",
    "c = a**b\n",
    "c"
   ]
  },
  {
   "cell_type": "markdown",
   "metadata": {
    "colab_type": "text",
    "id": "CpcHyHu05LL0"
   },
   "source": [
    "## ヒント\n",
    "\n",
    "1. **pr **と押してからTabキーを押すと候補が出てくるので，**print**を選択してEnterを押す．\n",
    "2. print関数を選択してからShiftキーを押しながらTabキーを押すと，説明が表示される．\n",
    "3. さらにもう一度，Shiftキーを押しながらTabキーを押す（もしくは右上の$+$を押す）と，詳細が表示される．"
   ]
  },
  {
   "cell_type": "markdown",
   "metadata": {
    "colab_type": "text",
    "id": "uV8QvDWZ5LL2"
   },
   "source": [
    "### 問題\n",
    "\n",
    "上の操作でヒントを出してから，以下のように打ち込んで，'こんにちは'を表示してみよう．\n",
    "\n",
    "```python\n",
    "print('こんにちは')\n",
    "```"
   ]
  },
  {
   "cell_type": "markdown",
   "metadata": {
    "colab_type": "text",
    "id": "VJCFM_F05LL3"
   },
   "source": [
    "## Markdown言語\n",
    "\n",
    "上部でセルの種類を切り替えて**Markdown**にしてみよう．\n",
    "\n",
    "するとコードではなく，文章が書けるようになる．\n",
    "\n",
    "実際には，[Markdown言語](http://qiita.com/Blueman81/items/72ca43681d16d44e21ad)という簡易言語で記述でき，Shift$+$Enterで表示され，ダブルクリックで再びMarkdown言語の入力ができるようになる．\n",
    "\n",
    "言語の詳細は上のリンク先を参照．\n",
    "\n",
    "LaTeXという論文を書くための言語の書式で，ドルマークで挟むことによって，数式も記述できる．\n",
    "\n",
    "たとえば，\n",
    "```\n",
    "$$ x^2 - 6x + 1 = 0 $$\n",
    "```\n",
    "と書くと，\n",
    "$$x^2 - 6x + 1 = 0$$\n",
    "と表示される．\n",
    "\n",
    "LaTeXについては，[こちら](http://www.latex-cmd.com/equation/equation.html)を参照．\n",
    "\n",
    "\n",
    "### 問題\n",
    "\n",
    "下の例をダブルクリックしてMarkdown言語を表示させて読んでみよう．"
   ]
  },
  {
   "cell_type": "markdown",
   "metadata": {
    "colab_type": "text",
    "id": "cI1C8faN5LL5"
   },
   "source": [
    "# Markdown言語のサンプル(見出しは\\#の個数で) [](見出し1，行の途中でもOK)\n",
    "文章は普通に書けばよい． 行頭にタブやスペースは入れない．\n",
    "\n",
    "パラグラフを変える場合は１行あける． 強制的に改行  \n",
    "する場合は行末にスペースを2 つ入れる． *斜体で強調*，**太文字で強調**．\n",
    "### 箇条書き (見出し1)\n",
    "* その1\n",
    "    * その1.1 入れ子は4 つのスペースでインデント\n",
    "* その2\n",
    "\n",
    "### 数式\n",
    "インライン数式\n",
    ": $f(x_1 , x_2 , \\ldots , x_n) =\n",
    "\\sum_{i=1}^{n-1} \\{ 100(x_i^2 - x_{i+1})^2 + (1-x_i)^2 \\}$\n",
    "\n",
    "ディスプレイ数式: $$f(x_1, x_2, \\ldots, x_n) = \n",
    "\\sum_{i=1}^{n-1} \\{ 100(x_i^2 - x_{i+1})^2 + (1-x_i)^2 \\}$$\n",
    "### 作表\n",
    "|左寄せ|右寄せ|中央|\n",
    "|:-----------|------------:|:------------:|\n",
    "|ここに|何かを|書く|\n",
    "|文字位置が|自動的に|定まる|\n",
    "### インデント\n",
    "    import numpy as np # 行頭にスペース4 つ入れるとインデントされる\n",
    "    # 文章中のコードなどに使える．\n",
    "### リンク\n",
    "リンクはこのように[ipython.org](http://ipython.org /)\n",
    "### 水平線\n",
    "***\n",
    "### 箇条書き( 番号付)\n",
    "1. その１\n",
    "2. その２"
   ]
  },
  {
   "cell_type": "code",
   "execution_count": null,
   "metadata": {
    "colab": {},
    "colab_type": "code",
    "id": "uqfHz84F5LL5"
   },
   "outputs": [],
   "source": []
  }
 ],
 "metadata": {
  "colab": {
   "collapsed_sections": [],
   "include_colab_link": true,
   "name": "jupyter1.0.ipynb",
   "provenance": [],
   "version": "0.3.2"
  },
  "kernelspec": {
   "display_name": "Python 3",
   "language": "python",
   "name": "python3"
  },
  "language_info": {
   "codemirror_mode": {
    "name": "ipython",
    "version": 3
   },
   "file_extension": ".py",
   "mimetype": "text/x-python",
   "name": "python",
   "nbconvert_exporter": "python",
   "pygments_lexer": "ipython3",
   "version": "3.5.2"
  }
 },
 "nbformat": 4,
 "nbformat_minor": 1
}
