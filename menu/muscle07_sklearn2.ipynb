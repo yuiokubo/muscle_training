{
 "cells": [
  {
   "cell_type": "markdown",
   "metadata": {
    "colab_type": "text",
    "id": "ERsJ8Yi52JiQ"
   },
   "source": [
    "# Python言語によるビジネスアナリティクス\n",
    "\n",
    "## 実務家のための最適化，統計分析，機械学習（近代科学社）\n",
    "\n",
    "\n",
    "## scikit-learn を用いた 機械学習の例題と練習問題 \n",
    "\n",
    "\n",
    "## 教科書 付録 B参照\n",
    "\n",
    "### B.2 線形回帰\n",
    "\n",
    "広告のデータ http://logopt.com/data/Advertising.csv を用いる．\n",
    "\n",
    "テレビ(TV)，ラジオ(Radio)，新聞(Newspaper)への広告から売り上げ(Sales)を予測する．\n"
   ]
  },
  {
   "cell_type": "code",
   "execution_count": null,
   "metadata": {
    "colab": {},
    "colab_type": "code",
    "id": "hUWqw92Q2JiS"
   },
   "outputs": [],
   "source": [
    "import pandas as pd #まずはpandasモジュールを準備する．"
   ]
  },
  {
   "cell_type": "code",
   "execution_count": null,
   "metadata": {
    "colab": {
     "base_uri": "https://localhost:8080/",
     "height": 203
    },
    "colab_type": "code",
    "id": "iJlco2-I2JiY",
    "outputId": "cfc1e8ae-e450-415e-8817-1d95b0faebd1"
   },
   "outputs": [],
   "source": [
    "#csvファイルからデータ読み込み\n",
    "data = pd.read_csv('http://logopt.com/data/Advertising.csv', index_col =0) #0行目をインデックスにする．\n",
    "data.head()"
   ]
  },
  {
   "cell_type": "markdown",
   "metadata": {
    "colab_type": "text",
    "id": "OJ01sSbn2Jif"
   },
   "source": [
    "独立変数（特徴ベクトル）$X$ は TV, Ratio, Newspaperの列，従属変数 $y$ は Salesの列\n"
   ]
  },
  {
   "cell_type": "code",
   "execution_count": null,
   "metadata": {
    "colab": {
     "base_uri": "https://localhost:8080/",
     "height": 203
    },
    "colab_type": "code",
    "id": "x0dx0vJd2Jig",
    "outputId": "b98a2ced-a2ab-4da9-c9ac-c63d2e5bdf66"
   },
   "outputs": [],
   "source": [
    "X = data[['TV', 'Radio', 'Newspaper']]\n",
    "y = data['Sales']\n",
    "X.head()"
   ]
  },
  {
   "cell_type": "markdown",
   "metadata": {
    "colab_type": "text",
    "id": "uazJr1JN2Jil"
   },
   "source": [
    "## scikit-learnの基本手順\n",
    "\n",
    "### 手順１：クラスをインポートして，インスタンスを生成する．\n",
    "\n",
    "### 手順２：fitメソッドを用いて，データから学習する．\n",
    "\n",
    "### 手順３：predictメソッドを用いて予測を行う．\n"
   ]
  },
  {
   "cell_type": "code",
   "execution_count": null,
   "metadata": {
    "colab": {},
    "colab_type": "code",
    "id": "z_GGKlrP2Jin"
   },
   "outputs": [],
   "source": [
    "from sklearn.linear_model import LinearRegression #線形回帰クラス LinearRegression のインポート\n",
    "reg = LinearRegression() # 線形回帰クラスのインスタンス reg 生成\n",
    "reg.fit(X, y)           # fitによる学習\n",
    "yhat = reg.predict(X)   # predictによる予測"
   ]
  },
  {
   "cell_type": "code",
   "execution_count": null,
   "metadata": {
    "colab": {
     "base_uri": "https://localhost:8080/",
     "height": 52
    },
    "colab_type": "code",
    "id": "_f9AcIoD2Jio",
    "outputId": "d762f703-9e1e-4d57-8b64-e422e261325a"
   },
   "outputs": [],
   "source": [
    "print(\"y-切片= \",reg.intercept_)\n",
    "print(\"係数 = \",reg.coef_)"
   ]
  },
  {
   "cell_type": "code",
   "execution_count": null,
   "metadata": {
    "colab": {
     "base_uri": "https://localhost:8080/",
     "height": 34
    },
    "colab_type": "code",
    "id": "ixXIZEV12Jir",
    "outputId": "61b084ef-41ec-4341-a4c9-d2bad96f4043"
   },
   "outputs": [],
   "source": [
    "SSE = ((yhat-y)**2).sum()      # Sum of Square Error\n",
    "SST = ((y.mean()-y)**2).sum()  # Total Sum of Square\n",
    "print(\"R2 =\", 1-SSE/SST)       # 決定係数 R^2"
   ]
  },
  {
   "cell_type": "code",
   "execution_count": null,
   "metadata": {
    "colab": {
     "base_uri": "https://localhost:8080/",
     "height": 34
    },
    "colab_type": "code",
    "id": "M60HO8hL2Jit",
    "outputId": "0d9d3ec8-8627-47fb-efd4-7f29adda4468"
   },
   "outputs": [],
   "source": [
    "print(reg.score(X,y)) #決定係数の別計算"
   ]
  },
  {
   "cell_type": "markdown",
   "metadata": {
    "colab_type": "text",
    "id": "8RDDcZ1t2Jiv"
   },
   "source": [
    "## 問題\n",
    "\n",
    "http://logopt.com/data/SATGPA.csv データを用いて，2種類のSATの成績からGPAを予測せよ．"
   ]
  },
  {
   "cell_type": "code",
   "execution_count": null,
   "metadata": {
    "colab": {},
    "colab_type": "code",
    "id": "JSudnnMV2Jix"
   },
   "outputs": [],
   "source": []
  },
  {
   "cell_type": "markdown",
   "metadata": {
    "colab_type": "text",
    "id": "cdfpLCfj2Jiy"
   },
   "source": [
    "### 問題\n",
    "\n",
    "http://logopt.com/data/Boston.csv のBostonの住宅データを用いて回帰分析を行え．\n",
    "\n",
    "medvが住宅の価格で，他のデータ（犯罪率や人口など）から予測する．\n"
   ]
  },
  {
   "cell_type": "code",
   "execution_count": null,
   "metadata": {
    "colab": {},
    "colab_type": "code",
    "id": "X1uZu5Y-2Jiz"
   },
   "outputs": [],
   "source": []
  },
  {
   "cell_type": "markdown",
   "metadata": {
    "colab_type": "text",
    "id": "r9PQDqfD2Ji0"
   },
   "source": [
    "### 問題\n",
    "\n",
    "http://logopt.com/data/Auto.csv の車の燃費のデータを用いて回帰分析を行え．\n",
    "\n",
    "データの詳細については，\n",
    "\n",
    "https://vincentarelbundock.github.io/Rdatasets/doc/ISLR/Auto.html\n",
    "\n",
    "を参照せよ．\n",
    "\n",
    "最初の列が燃費（mpg: Mile Per Gallon)であり，これを他の列の情報を用いて予測する．最後の列は車名なので無視して良い．"
   ]
  },
  {
   "cell_type": "code",
   "execution_count": null,
   "metadata": {
    "colab": {},
    "colab_type": "code",
    "id": "5wLGQ14j2Ji1"
   },
   "outputs": [],
   "source": []
  },
  {
   "cell_type": "markdown",
   "metadata": {
    "colab_type": "text",
    "id": "vBkD8GlG2Ji3"
   },
   "source": [
    "### 例題２\n",
    "\n",
    "http://logopt.com/data/Diamond.csv からダイアモンドの価格データを読み込み，線形回帰による予測を行う．\n",
    "\n",
    "列は [\"carat\",\"colour\",\"clarity\",\"certification\",\"price\"] であり，他の情報から価格(price)の予測を行え．\n",
    "\n",
    "カラット(carat)以外の列は情報が文字列として保管されている．\n",
    "\n",
    "これはカテゴリー変数とよばれ，sciki-learnで扱うには，数値に変換してあげる必要がある．\n",
    "\n",
    "pandasの**get_dummies関数**で数値情報（ダミー変数）に変換してから，線形回帰を行う．\n",
    "\n",
    "たとえば，色を表すcolour列はD,E,F,G,H,Iの文字列が入っている．これを各値が入っているとき1，それ以外のとき0の数値に変換したものが**ダミー変数**になる．\n",
    "\n",
    "色はいずれかの値をとるので，ダミー変数は独立でない（1つが1になると，他のすべては0になる）．\n",
    "\n",
    "最初のダミー変数を除くには，get_dummies関数の引数の**drop_first**をTrueに設定すれば良い．"
   ]
  },
  {
   "cell_type": "code",
   "execution_count": null,
   "metadata": {
    "colab": {
     "base_uri": "https://localhost:8080/",
     "height": 203
    },
    "colab_type": "code",
    "id": "bvC5mQJ82Ji5",
    "outputId": "71333080-13b3-4f46-9f8c-169334e053b1"
   },
   "outputs": [],
   "source": [
    "diamond = pd.read_csv('http://logopt.com/data/Diamond.csv', index_col=0)\n",
    "diamond.head()"
   ]
  },
  {
   "cell_type": "code",
   "execution_count": null,
   "metadata": {
    "colab": {
     "base_uri": "https://localhost:8080/",
     "height": 203
    },
    "colab_type": "code",
    "id": "XzLot1sB2Ji8",
    "outputId": "5024ea00-71fc-454d-ce69-3acbcca11936"
   },
   "outputs": [],
   "source": [
    "diamond = pd.get_dummies(diamond, drop_first=True) #ダミー変数の最初のものを除く\n",
    "#diamond = pd.get_dummies(diamond) # 除かなくても結果は同じ\n",
    "diamond.head()"
   ]
  },
  {
   "cell_type": "code",
   "execution_count": null,
   "metadata": {
    "colab": {
     "base_uri": "https://localhost:8080/",
     "height": 203
    },
    "colab_type": "code",
    "id": "cOiDa0Rc2Ji-",
    "outputId": "1cef682f-7a74-404b-cd0f-00b4dcaa91f2"
   },
   "outputs": [],
   "source": [
    "y = diamond.price                # 従属変数(price)の抽出\n",
    "X = diamond.drop('price',axis=1) # 独立変数（特徴ベクトル）をpriceの列を除くことによって生成\n",
    "X.head()"
   ]
  },
  {
   "cell_type": "code",
   "execution_count": null,
   "metadata": {
    "colab": {},
    "colab_type": "code",
    "id": "TVRRFRGe2JjB"
   },
   "outputs": [],
   "source": [
    "from sklearn.linear_model import LinearRegression #線形回帰クラスのインポート\n",
    "reg = LinearRegression() # 線形回帰クラスのインスタンス生成\n",
    "reg.fit(X, y)           # 学習\n",
    "yhat = reg.predict(X)   # 予測"
   ]
  },
  {
   "cell_type": "code",
   "execution_count": null,
   "metadata": {
    "colab": {
     "base_uri": "https://localhost:8080/",
     "height": 105
    },
    "colab_type": "code",
    "id": "TZCqAFzK2JjE",
    "outputId": "5f79c969-4db8-4d89-97a7-7a1a8602adb9"
   },
   "outputs": [],
   "source": [
    "print(\"y-切片= \",reg.intercept_)\n",
    "print(\"係数 = \",reg.coef_)\n",
    "print(\"決定変数= \",reg.score(X,y)) #決定係数の別計算"
   ]
  },
  {
   "cell_type": "markdown",
   "metadata": {
    "colab_type": "text",
    "id": "yeSu2IbB2JjI"
   },
   "source": [
    "### 問題\n",
    "\n",
    "http://logopt.com/data/carprice.csv から車の価格データを読み込み，線形回帰による予測を行え．\n",
    "\n",
    "データの詳細は\n",
    "https://vincentarelbundock.github.io/Rdatasets/doc/DAAG/carprice.html\n",
    "にある．\n",
    "\n",
    "車種(Type)，100マイル走る際のガロン数（gpm100），都市部での1ガロンあたりの走行距離（MPG.city），高速道路での１ガロン当たりの走行距離（MPG.highway）から，価格(Price)を予測せよ．"
   ]
  },
  {
   "cell_type": "code",
   "execution_count": null,
   "metadata": {
    "colab": {},
    "colab_type": "code",
    "id": "24xC5f3j2JjJ"
   },
   "outputs": [],
   "source": []
  },
  {
   "cell_type": "markdown",
   "metadata": {
    "colab_type": "text",
    "id": "c1ai4iQC2JjL"
   },
   "source": [
    "### 問題\n",
    "\n",
    "教科書79ページのtipsデータに対して線形回帰を用いてもらえるチップの額を予測せよ．"
   ]
  },
  {
   "cell_type": "code",
   "execution_count": null,
   "metadata": {
    "colab": {
     "base_uri": "https://localhost:8080/",
     "height": 203
    },
    "colab_type": "code",
    "id": "LJBzBiIa2JjL",
    "outputId": "146cb413-9696-419a-a88f-af3be2e24552"
   },
   "outputs": [],
   "source": [
    "import seaborn as sns\n",
    "tips = sns.load_dataset('tips')\n",
    "tips.head()"
   ]
  },
  {
   "cell_type": "code",
   "execution_count": null,
   "metadata": {
    "colab": {},
    "colab_type": "code",
    "id": "yCQffAOg2JjN"
   },
   "outputs": [],
   "source": []
  },
  {
   "cell_type": "markdown",
   "metadata": {
    "colab_type": "text",
    "id": "89Y0t3k92JjP"
   },
   "source": [
    "### B.3  ロジスティック回帰\n",
    "\n",
    "iris（アヤメ）のデータを用いてロジスティック回帰（分類）を行う．\n"
   ]
  },
  {
   "cell_type": "code",
   "execution_count": null,
   "metadata": {
    "colab": {},
    "colab_type": "code",
    "id": "7irDd0QX2JjQ"
   },
   "outputs": [],
   "source": [
    "import pandas as pd"
   ]
  },
  {
   "cell_type": "code",
   "execution_count": null,
   "metadata": {
    "colab": {},
    "colab_type": "code",
    "id": "4g9zsEHj2JjS"
   },
   "outputs": [],
   "source": [
    "iris = pd.read_csv(\"http://logopt.com/data/iris.data\",\n",
    "                   names=['sepal length','sepal width','petal length','petal width', 'class'])"
   ]
  },
  {
   "cell_type": "code",
   "execution_count": null,
   "metadata": {
    "colab": {},
    "colab_type": "code",
    "id": "U9es_v932JjU"
   },
   "outputs": [],
   "source": [
    "#  独立変数（特徴ベクトル） X \n",
    "X = iris[ ['sepal length','sepal width','petal length','petal width'] ]"
   ]
  },
  {
   "cell_type": "code",
   "execution_count": null,
   "metadata": {
    "colab": {
     "base_uri": "https://localhost:8080/",
     "height": 122
    },
    "colab_type": "code",
    "id": "JeffG0PA2JjX",
    "outputId": "0af9ae84-ad4c-4ff9-fce5-a35b45a5ecc5"
   },
   "outputs": [],
   "source": [
    "#従属変数 y \n",
    "y = iris['class']\n",
    "y.head() "
   ]
  },
  {
   "cell_type": "code",
   "execution_count": null,
   "metadata": {
    "colab": {
     "base_uri": "https://localhost:8080/",
     "height": 203
    },
    "colab_type": "code",
    "id": "wcbHO76v2JjY",
    "outputId": "b2a40add-5b3c-414e-bb7c-8090b11729e3"
   },
   "outputs": [],
   "source": [
    "#特徴ベクトルの抽出\n",
    "X= iris[ ['sepal length','sepal width','petal length','petal width'] ]\n",
    "X .head() "
   ]
  },
  {
   "cell_type": "markdown",
   "metadata": {
    "colab_type": "text",
    "id": "eeIJC2L72Jja"
   },
   "source": [
    "## 手順１：分類するためのクラスをインポートして，インスタンスを生成する．\n",
    "\n",
    "> ### 以下の例では，ロジスティック回帰を用いた分類を行う．\n",
    "\n",
    "## 手順２：fitメソッドを用いて，データから学習する．\n",
    "\n",
    "## 手順３：predictメソッドを用いて予測を行う．\n"
   ]
  },
  {
   "cell_type": "code",
   "execution_count": null,
   "metadata": {
    "colab": {},
    "colab_type": "code",
    "id": "CNoShEot2Jjb"
   },
   "outputs": [],
   "source": [
    "from sklearn.linear_model import LogisticRegression #ロジスティック回帰クラスの読み込み"
   ]
  },
  {
   "cell_type": "code",
   "execution_count": null,
   "metadata": {
    "colab": {
     "base_uri": "https://localhost:8080/",
     "height": 158
    },
    "colab_type": "code",
    "id": "k1PfNvPg2Jjd",
    "outputId": "6d11b606-ea49-4842-e610-9eb989d31400"
   },
   "outputs": [],
   "source": [
    "logreg =  LogisticRegression() # インスタンスの生成\n",
    "logreg.fit(X, y) # 学習"
   ]
  },
  {
   "cell_type": "code",
   "execution_count": null,
   "metadata": {
    "colab": {
     "base_uri": "https://localhost:8080/",
     "height": 34
    },
    "colab_type": "code",
    "id": "BAm3qEPt2Jje",
    "outputId": "caa166f3-59d2-4f33-ea12-184330c6febc"
   },
   "outputs": [],
   "source": [
    "logreg.predict([[3, 5, 4, 2]]) # 試しに予測"
   ]
  },
  {
   "cell_type": "markdown",
   "metadata": {
    "colab_type": "text",
    "id": "Rms5jXSb2Jjg"
   },
   "source": [
    "### 予測と実際の誤差を検証（元データXを入れたときの予測y_predと本当の値yの比較）\n",
    "\n",
    "### metricsにある正確度を計算する関数 accuracy_score を利用"
   ]
  },
  {
   "cell_type": "code",
   "execution_count": null,
   "metadata": {
    "colab": {},
    "colab_type": "code",
    "id": "ZHlJLHiy2Jjh"
   },
   "outputs": [],
   "source": [
    "y_pred = logreg.predict(X)"
   ]
  },
  {
   "cell_type": "code",
   "execution_count": null,
   "metadata": {
    "colab": {
     "base_uri": "https://localhost:8080/",
     "height": 34
    },
    "colab_type": "code",
    "id": "Xah2OaOz2Jji",
    "outputId": "77b5081b-b761-430b-b6e0-e91286ff6caf"
   },
   "outputs": [],
   "source": [
    "from sklearn import metrics\n",
    "print(metrics.accuracy_score(y, y_pred))"
   ]
  },
  {
   "cell_type": "markdown",
   "metadata": {
    "colab_type": "text",
    "id": "_Gk7HaYV2Jjl"
   },
   "source": [
    "### 問題\n",
    "\n",
    "教科書81ページのtitanicデータに対してロジスティック回帰を行い，死亡確率の推定を行え．\n",
    "\n",
    "ヒント：このデータは欠損値を含んでいる．pandasのところで学んだ欠損値処理を参照せよ．\n",
    "\n",
    "また，このデータはターゲットとなる**survived**と同じ意味をもつ列を含んでいる．それを入れると正確度は当然100%になる．\n",
    "その行を見つけて除くにはどうしたら良いか考えよ．"
   ]
  },
  {
   "cell_type": "code",
   "execution_count": null,
   "metadata": {
    "colab": {},
    "colab_type": "code",
    "id": "d1DN_URv2Jjl"
   },
   "outputs": [],
   "source": []
  },
  {
   "cell_type": "markdown",
   "metadata": {
    "colab_type": "text",
    "id": "e1xz62T22Jjm"
   },
   "source": [
    "### 問題\n",
    " \"http://logopt.com/data/cancer.csv\" にある胸部癌か否かを判定するデータセットを用いて分類を行え．\n",
    "\n",
    "最初の列**diagnosis**が癌か否かを表すものであり，'M'が悪性（malignant），'B'が良性（benign）"
   ]
  },
  {
   "cell_type": "code",
   "execution_count": null,
   "metadata": {
    "colab": {
     "base_uri": "https://localhost:8080/",
     "height": 300
    },
    "colab_type": "code",
    "id": "pMCcpk172Jjn",
    "outputId": "ede236f0-4190-4ba0-c22f-406bd72fa34e"
   },
   "outputs": [],
   "source": [
    "cancer = pd.read_csv(\"http://logopt.com/data/cancer.csv\", index_col=0)\n",
    "#従属変数 y \n",
    "y = cancer['diagnosis']\n",
    "#特徴ベクトルの抽出\n",
    "X= cancer.iloc[ : , 1: ]\n",
    "X .head() "
   ]
  },
  {
   "cell_type": "code",
   "execution_count": null,
   "metadata": {
    "colab": {},
    "colab_type": "code",
    "id": "Htxa0-Ep2Jjp"
   },
   "outputs": [],
   "source": []
  },
  {
   "cell_type": "markdown",
   "metadata": {
    "colab_type": "text",
    "id": "aQyKPD6y2Jjq"
   },
   "source": [
    "## 問題\n",
    "\n",
    "$K$ 近傍法とは，(Xの空間で）データに近い $K$ 個のデータの値(y)の多数決で分類を行う最も簡単な分類手法である．\n",
    "\n",
    "以下のようにしてクラスをインポートできる．\n",
    "```python\n",
    "from sklearn.neighbors import KNeighborsClassifier\n",
    "```\n",
    "\n",
    "クラス **KNeighborsClassifier** は引数 **n_neighbors** でパラメータ $K$ を設定できる．\n",
    "\n",
    "irisデータに対して，$K$ 近傍法で元データを予測したしたときの正確度を計算せよ．パラメータ $K$（近傍の数）が5のときはどうか？また，パラメータ $K$ が 1のときはどうか？"
   ]
  },
  {
   "cell_type": "code",
   "execution_count": null,
   "metadata": {
    "colab": {},
    "colab_type": "code",
    "id": "JDQFEX0F2Jjr"
   },
   "outputs": [],
   "source": []
  },
  {
   "cell_type": "markdown",
   "metadata": {
    "colab_type": "text",
    "id": "HTVbcvI92Jju"
   },
   "source": [
    "### B.4  正規化とB.7 仮説の評価\n",
    "\n",
    "### 多項式回帰\n",
    "\n",
    "宣伝の効果のデータを用いて多項式回帰を行う．\n",
    "\n",
    "pandasで2次の項（たとえばテレビとラジオの相乗効果の列 TV*Radio）を生成してから，線形回帰を行う．"
   ]
  },
  {
   "cell_type": "code",
   "execution_count": null,
   "metadata": {
    "colab": {
     "base_uri": "https://localhost:8080/",
     "height": 203
    },
    "colab_type": "code",
    "id": "nERDlR_A2Jjv",
    "outputId": "9042f300-5ee5-4592-9dc0-7be17e107258"
   },
   "outputs": [],
   "source": [
    "data = pd.read_csv('http://logopt.com/data/Advertising.csv', index_col =0)\n",
    "data['TV*Radio'] = data.TV * data.Radio\n",
    "data['TV*Newspaper'] = data.TV * data.Newspaper\n",
    "data['Radio*Newspaper'] = data.Radio * data.Newspaper\n",
    "data.head()"
   ]
  },
  {
   "cell_type": "code",
   "execution_count": null,
   "metadata": {
    "colab": {},
    "colab_type": "code",
    "id": "Q7urWk4T2Jjw"
   },
   "outputs": [],
   "source": [
    "X = data[['TV', 'Radio', 'Newspaper','TV*Radio','TV*Newspaper','Radio*Newspaper']]\n",
    "y = data['Sales']"
   ]
  },
  {
   "cell_type": "code",
   "execution_count": null,
   "metadata": {
    "colab": {
     "base_uri": "https://localhost:8080/",
     "height": 34
    },
    "colab_type": "code",
    "id": "kMF21Neb2Jjz",
    "outputId": "b82003fe-12f1-46d1-f3f5-2ce64a4c41b6"
   },
   "outputs": [],
   "source": [
    "from sklearn.linear_model import LinearRegression #クラスのインポート\n",
    "lin_reg = LinearRegression()     # 線形回帰クラスのインスタンス生成\n",
    "lin_reg.fit(X, y)    # 学習\n",
    "yhat = lin_reg.predict(X)   # 予測\n",
    "print(lin_reg.score(X,y)) #決定係数　（線形回帰だと R^2は 0.897210638179"
   ]
  },
  {
   "cell_type": "code",
   "execution_count": null,
   "metadata": {
    "colab": {
     "base_uri": "https://localhost:8080/",
     "height": 70
    },
    "colab_type": "code",
    "id": "lE5nyXq02Jj2",
    "outputId": "7c29b1f8-a66d-4da6-d5d4-aba0b7e123a9"
   },
   "outputs": [],
   "source": [
    "print(\"y-切片= \",lin_reg.intercept_)\n",
    "print(\"係数 = \",lin_reg.coef_)"
   ]
  },
  {
   "cell_type": "markdown",
   "metadata": {
    "colab_type": "text",
    "id": "oh0s3sF62Jj4"
   },
   "source": [
    "### 過剰適合（過学習）\n",
    "\n",
    "元データを入れてテストをすることは良くない．\n",
    "\n",
    "### irisデータに対してK(=1)近傍法を適用したときのように，過剰適合をしてしまう！\n",
    "\n",
    "### 学習データをテストデータを分ける！ train_test_split関数を使うと簡単．\n",
    "\n",
    "**（最近のバージョンではmodel_selection内にあるが，古いバージョンの場合には,cross_validationの中にあるので注意）**"
   ]
  },
  {
   "cell_type": "markdown",
   "metadata": {
    "colab_type": "text",
    "id": "trE5ckHu2Jj5"
   },
   "source": [
    "例としてBostonの住宅データの予測を線形回帰とリッジ回帰（正規化を入れた回帰）行う．\n",
    "\n",
    "medvが住宅の価格で，他のデータ（犯罪率や人口など）から予測する．"
   ]
  },
  {
   "cell_type": "code",
   "execution_count": null,
   "metadata": {
    "colab": {
     "base_uri": "https://localhost:8080/",
     "height": 203
    },
    "colab_type": "code",
    "id": "2vHo-qJW2Jj5",
    "outputId": "ac200b6c-b7ed-40bb-ee86-4084962bb8a7"
   },
   "outputs": [],
   "source": [
    "boston = pd.read_csv('http://logopt.com/data/Boston.csv',index_col=0)\n",
    "boston.head()"
   ]
  },
  {
   "cell_type": "code",
   "execution_count": null,
   "metadata": {
    "colab": {},
    "colab_type": "code",
    "id": "ASXAHCD12Jj7"
   },
   "outputs": [],
   "source": [
    "X = boston.iloc[:,range(13)] # 最後の列以外のデータを独立変数（特徴ベクトル）として抽出\n",
    "y = boston.medv #最後の列(medv)を従属変数として抽出"
   ]
  },
  {
   "cell_type": "code",
   "execution_count": null,
   "metadata": {
    "colab": {},
    "colab_type": "code",
    "id": "iUoASbyb2Jj9"
   },
   "outputs": [],
   "source": [
    "from sklearn.model_selection import train_test_split #古いバージョンの場合には,cross_validationの中にある．\n",
    "X_train, X_test, y_train, y_test = train_test_split(X, y, test_size=0.3)#30%のデータをテスト用，それ以外を学習用に分離"
   ]
  },
  {
   "cell_type": "code",
   "execution_count": null,
   "metadata": {
    "colab": {
     "base_uri": "https://localhost:8080/",
     "height": 34
    },
    "colab_type": "code",
    "id": "ZTk6P5te2Jj_",
    "outputId": "94ec1ffa-023a-4dba-8622-2f1fffd3d236"
   },
   "outputs": [],
   "source": [
    "from sklearn.linear_model import LinearRegression #クラスのインポート\n",
    "lin_reg = LinearRegression()     # 線形回帰クラスのインスタンス生成\n",
    "lin_reg.fit(X_train, y_train)    # 学習\n",
    "yhat = lin_reg.predict(X_test)   # 予測\n",
    "print(lin_reg.score(X_test,y_test)) #決定係数"
   ]
  },
  {
   "cell_type": "markdown",
   "metadata": {
    "colab_type": "text",
    "id": "_mAyC5In2JkC"
   },
   "source": [
    "### リッジ回帰\n",
    "\n",
    "教科書460ページになある正規化を追加した線形回帰は，**リッジ回帰**とよばれる．\n",
    "\n",
    "パラメータ $\\lambda$ はリッジ回帰クラス Ridge では引数 alpha で与える．\n"
   ]
  },
  {
   "cell_type": "code",
   "execution_count": null,
   "metadata": {
    "colab": {
     "base_uri": "https://localhost:8080/",
     "height": 34
    },
    "colab_type": "code",
    "id": "xVrEJZS02JkC",
    "outputId": "79736d6f-fc2c-46cf-c66c-7905b799f33c"
   },
   "outputs": [],
   "source": [
    "from sklearn.linear_model import Ridge #クラスのインポート\n",
    "ridge_reg = Ridge(alpha=100.0)     # リッジ回帰クラスのインスタンス生成\n",
    "ridge_reg.fit(X_train, y_train)    # 学習\n",
    "yhat = ridge_reg.predict(X_test)   # 予測\n",
    "print(ridge_reg.score(X_test,y_test)) #決定係数"
   ]
  },
  {
   "cell_type": "markdown",
   "metadata": {
    "colab_type": "text",
    "id": "FBWvndI22JkF"
   },
   "source": [
    "### 問題\n",
    "\n",
    "1. irisデータを学習用とテスト用に分けてから，ロジスティック回帰による分類を行い，正確度を計算せよ．\n",
    "2. titanicデータ学習用とテスト用に分けてから，ロジスティック回帰による分類を行い，正確度を計算せよ．\n",
    "3. 例題2で用いた ダイアモンドの価格データhttp://logopt.com/data/Diamond.csv に対して線形回帰とリッジ回帰による予測を行え．また，学習用とテスト用に分けて決定変数を計算し，評価せよ．\n"
   ]
  },
  {
   "cell_type": "code",
   "execution_count": null,
   "metadata": {
    "colab": {},
    "colab_type": "code",
    "id": "WM6rBBej2JkF"
   },
   "outputs": [],
   "source": []
  },
  {
   "cell_type": "code",
   "execution_count": null,
   "metadata": {
    "colab": {},
    "colab_type": "code",
    "id": "O-quP7pj2JkG"
   },
   "outputs": [],
   "source": []
  },
  {
   "cell_type": "code",
   "execution_count": null,
   "metadata": {
    "colab": {},
    "colab_type": "code",
    "id": "nbWaeVNV2JkI"
   },
   "outputs": [],
   "source": []
  },
  {
   "cell_type": "markdown",
   "metadata": {
    "colab_type": "text",
    "id": "M5BcytXb2JkJ"
   },
   "source": [
    "### B.5 カーネルとSVM (Support Vector Machine) \n",
    "\n",
    "カーネルはクラス **SVC** (Support Vector Classifier) の引数 **kernel**で与える．\n",
    "\n",
    "Gaussカーネル（引数は'rbf'）を用いると非線形な境界をもつ問題に対しても，精度良く分類が可能になる．\n",
    "\n",
    "irisデータで試してみよう．"
   ]
  },
  {
   "cell_type": "code",
   "execution_count": null,
   "metadata": {
    "colab": {},
    "colab_type": "code",
    "id": "brPGEfZn2JkJ"
   },
   "outputs": [],
   "source": [
    "import pandas as pd\n",
    "iris = pd.read_csv(\"http://logopt.com/data/iris.data\",\n",
    "                   names=['sepal length','sepal width','petal length','petal width', 'class'])\n",
    "X = iris[ ['sepal length','sepal width','petal length','petal width'] ]\n",
    "y = iris['class']\n",
    "from sklearn.model_selection import train_test_split  #古いバージョンの場合には,cross_validationの中にある．\n",
    "X_train, X_test, y_train, y_test = train_test_split(X, y, test_size=0.3)"
   ]
  },
  {
   "cell_type": "code",
   "execution_count": null,
   "metadata": {
    "colab": {
     "base_uri": "https://localhost:8080/",
     "height": 34
    },
    "colab_type": "code",
    "id": "J__UDR6a2JkK",
    "outputId": "01d6ba05-384d-43d9-d43c-bd69daf96994"
   },
   "outputs": [],
   "source": [
    "from sklearn.svm import SVC      #クラスのインポート\n",
    "svc = SVC(kernel='rbf', gamma=\"scale\")        # インスタンス生成\n",
    "#svc = SVC(kernel='linear') \n",
    "svc.fit(X_train, y_train)    # 学習\n",
    "yhat = svc.predict(X_test)   # 予測\n",
    "from sklearn import metrics\n",
    "print(metrics.accuracy_score(y_test, yhat)) # 精度"
   ]
  },
  {
   "cell_type": "markdown",
   "metadata": {
    "colab_type": "text",
    "id": "oD6KF7-O2JkL"
   },
   "source": [
    "### B.7 仮説の評価\n",
    "\n",
    "###  １つのテストデータだけではばらつきが大きすぎて信用できない！\n",
    "\n",
    "### 交差検証を行えば良い！cross_val_scoreを用いる．\n",
    "\n",
    "上で用いたサポートベクトル分類 svcのインスタンスで試してみる．\n",
    "\n",
    "引数の*cv*は交差検証(cross validiation)の分割数．\n",
    "\n",
    "引数の**scoring='accuracy'**は分類の正確度を表す指標を指定している．\n",
    "\n",
    "（回帰分析のときには，引数を決定変数'r2'などに設定する．）\n"
   ]
  },
  {
   "cell_type": "code",
   "execution_count": null,
   "metadata": {
    "colab": {
     "base_uri": "https://localhost:8080/",
     "height": 70
    },
    "colab_type": "code",
    "id": "uNNRS9-a2JkM",
    "outputId": "89792fc7-6120-46c8-c18c-799567246598"
   },
   "outputs": [],
   "source": [
    "from sklearn.model_selection import cross_val_score #古いバージョンの場合には,cross_validationの中にある．\n",
    "scores = cross_val_score(svc, X, y, cv=10, scoring='accuracy')\n",
    "print(scores)\n",
    "print(scores.mean())"
   ]
  },
  {
   "cell_type": "markdown",
   "metadata": {
    "colab_type": "text",
    "id": "ilrTsVGp2JkP"
   },
   "source": [
    "### B.8 ニューラルネット，B.9 単純Bayes，B.10 決定木，B.11 アンサンブル法（ランダム森）\n",
    "\n",
    "他の手法も，scikit-learnでは同じ手順で分析を行うことができる．\n",
    "\n",
    "上の続きとしてirisデータで色々試してみよう．\n",
    "\n",
    "ニューラルネットは旧バージョンでは動かないが，\n",
    "http://playground.tensorflow.org/\n",
    "で深層学習（多階層のニューラルネット）を体験することができる．\n"
   ]
  },
  {
   "cell_type": "code",
   "execution_count": null,
   "metadata": {
    "colab": {
     "base_uri": "https://localhost:8080/",
     "height": 87
    },
    "colab_type": "code",
    "id": "02nSSfjZ2JkP",
    "outputId": "d431126b-9e01-4c35-f1ba-d7e857d230bc"
   },
   "outputs": [],
   "source": [
    "from sklearn.neural_network import MLPClassifier #ニューラルネット（旧バージョンでは実装されていないので，跳ばして良い．）\n",
    "neural = MLPClassifier(solver='lbfgs', alpha=1e-5, hidden_layer_sizes=(10, 3), random_state=1)\n",
    "neural.fit(X_train, y_train)    # 学習\n",
    "yhat = neural.predict(X_test)   # 予測\n",
    "from sklearn import metrics\n",
    "print(metrics.accuracy_score(y_test, yhat)) # 精度　\n",
    "scores = cross_val_score(neural, X, y, cv=10, scoring='accuracy')\n",
    "print(scores)\n",
    "print(scores.mean())"
   ]
  },
  {
   "cell_type": "code",
   "execution_count": null,
   "metadata": {
    "colab": {
     "base_uri": "https://localhost:8080/",
     "height": 87
    },
    "colab_type": "code",
    "id": "dPabavZ_2JkQ",
    "outputId": "b1fcaa25-c2cf-43bf-8507-5664efda383e"
   },
   "outputs": [],
   "source": [
    "from sklearn.naive_bayes import GaussianNB #単純Bayes\n",
    "bayes = GaussianNB()\n",
    "bayes.fit(X_train, y_train)    # 学習\n",
    "yhat = bayes.predict(X_test)   # 予測\n",
    "from sklearn import metrics\n",
    "print(metrics.accuracy_score(y_test, yhat)) # 精度　\n",
    "scores = cross_val_score(bayes, X, y, cv=10, scoring='accuracy')\n",
    "print(scores)\n",
    "print(scores.mean())"
   ]
  },
  {
   "cell_type": "code",
   "execution_count": null,
   "metadata": {
    "colab": {
     "base_uri": "https://localhost:8080/",
     "height": 87
    },
    "colab_type": "code",
    "id": "U9olHxvV2JkR",
    "outputId": "f8a50452-dc37-4720-81bf-47815d601c54"
   },
   "outputs": [],
   "source": [
    "from sklearn import tree\n",
    "tree_class = tree.DecisionTreeClassifier() #決定木\n",
    "tree_class.fit(X_train, y_train)    # 学習\n",
    "yhat = tree_class.predict(X_test)   # 予測\n",
    "from sklearn import metrics\n",
    "print(metrics.accuracy_score(y_test, yhat)) # 精度　\n",
    "scores = cross_val_score(tree_class, X, y, cv=10, scoring='accuracy')\n",
    "print(scores)\n",
    "print(scores.mean())"
   ]
  },
  {
   "cell_type": "code",
   "execution_count": null,
   "metadata": {
    "colab": {
     "base_uri": "https://localhost:8080/",
     "height": 122
    },
    "colab_type": "code",
    "id": "z98rnoAJ2JkT",
    "outputId": "a5c19c49-8839-4515-eeb6-e9404c48e71a"
   },
   "outputs": [],
   "source": [
    "from sklearn.ensemble import RandomForestClassifier #ランダム森\n",
    "forest = RandomForestClassifier()\n",
    "forest.fit(X_train, y_train)    # 学習\n",
    "yhat = forest.predict(X_test)   # 予測\n",
    "from sklearn import metrics\n",
    "print(metrics.accuracy_score(y_test, yhat)) # 精度　\n",
    "scores = cross_val_score(forest , X, y, cv=10, scoring='accuracy')\n",
    "print(scores)\n",
    "print(scores.mean())\n"
   ]
  },
  {
   "cell_type": "markdown",
   "metadata": {
    "colab_type": "text",
    "id": "7Vy_cbD92JkV"
   },
   "source": [
    "### 問題\n",
    "\n",
    "titanicデータ学習用とテスト用に分けてから，ニューラルネット（旧バージョンでは実装されていないので，跳ばして良い．），単純Bayes，決定木，ランダム森による分類を行い，交差検証を行え．"
   ]
  },
  {
   "cell_type": "code",
   "execution_count": null,
   "metadata": {
    "colab": {},
    "colab_type": "code",
    "id": "gMGeA0nx2JkV"
   },
   "outputs": [],
   "source": []
  },
  {
   "cell_type": "markdown",
   "metadata": {
    "colab_type": "text",
    "id": "gXphezqr2JkV"
   },
   "source": [
    "### B.12 クラスタリング\n",
    "\n",
    "UCI機械学習レポジトリのワインに関するデータセットを用いてクラスタリングを解説する．\n",
    "\n",
    "使用するのは**KMeans**クラスで実装されている $k$-平均法である．\n",
    "\n",
    "元データはこちらに格納されている．\n",
    "\n",
    "http://logopt.com/data/wine.data\n",
    "\n",
    "列名は https://archive.ics.uci.edu/ml/datasets/Wine で解説されているが，必要ならば以下のリストを用いて，列名を設定して読み込め．\n",
    "\n",
    "L = [ 'Alcohol', 'Malic','Ash', 'Alcalinity', 'Magnesium', 'Phenols', 'Flavanoids', 'Nonflavanoid', 'Proanthocyanins', 'Color', 'Hue', 'OD280', 'OD315', 'Proline']"
   ]
  },
  {
   "cell_type": "code",
   "execution_count": null,
   "metadata": {
    "colab": {
     "base_uri": "https://localhost:8080/",
     "height": 203
    },
    "colab_type": "code",
    "id": "V3HpU0pq2JkV",
    "outputId": "c7a9a10f-6afc-43ba-8b47-8a9b8c217b67"
   },
   "outputs": [],
   "source": [
    "import pandas as pd\n",
    "L = [ 'Alcohol', 'Malic','Ash', 'Alcalinity', 'Magnesium', 'Phenols', 'Flavanoids', 'Nonflavanoid',\n",
    "     'Proanthocyanins', 'Color', 'Hue', 'OD280', 'OD315', 'Proline']\n",
    "wine = pd.read_csv('http://logopt.com/data/wine.data',names=L)\n",
    "wine.head()"
   ]
  },
  {
   "cell_type": "code",
   "execution_count": null,
   "metadata": {
    "colab": {
     "base_uri": "https://localhost:8080/",
     "height": 70
    },
    "colab_type": "code",
    "id": "56ZfMv2U2JkX",
    "outputId": "c1cff5f7-5bbd-4174-84be-cbe7d6eeab8f"
   },
   "outputs": [],
   "source": [
    "from sklearn.cluster import KMeans  # クラスをインポート\n",
    "kmeans = KMeans(n_clusters=8)       # インスタンス生成\n",
    "kmeans.fit(wine)                    # 学習"
   ]
  },
  {
   "cell_type": "code",
   "execution_count": null,
   "metadata": {
    "colab": {
     "base_uri": "https://localhost:8080/",
     "height": 203
    },
    "colab_type": "code",
    "id": "WAmH2Uok2JkY",
    "outputId": "4982d78c-8e64-4089-f6cd-9bb8c1642f43"
   },
   "outputs": [],
   "source": [
    "wine['label'] = kmeans.labels_\n",
    "wine.head()"
   ]
  },
  {
   "cell_type": "markdown",
   "metadata": {
    "colab_type": "text",
    "id": "UimSVy5S2Jka"
   },
   "source": [
    "### 問題\n",
    "\n",
    "irisのデータセットの各データを $k$-平均法を用いて3つのクラスターに分けよ．"
   ]
  },
  {
   "cell_type": "code",
   "execution_count": null,
   "metadata": {
    "colab": {},
    "colab_type": "code",
    "id": "N2WMKFpD2Jka"
   },
   "outputs": [],
   "source": []
  },
  {
   "cell_type": "markdown",
   "metadata": {
    "colab_type": "text",
    "id": "t753o8X12Jkc"
   },
   "source": [
    "### B.13 主成分分析\n",
    "\n",
    "irisデータセットを用いて主成分分析と可視化の方法を説明する．\n"
   ]
  },
  {
   "cell_type": "code",
   "execution_count": null,
   "metadata": {
    "colab": {},
    "colab_type": "code",
    "id": "idj03rsX2Jkc"
   },
   "outputs": [],
   "source": [
    "import pandas as pd\n",
    "iris = pd.read_csv(\"http://logopt.com/data/iris.data\",\n",
    "                   names=['sepal length','sepal width','petal length','petal width', 'class'])\n",
    "X = iris[ ['sepal length','sepal width','petal length','petal width'] ]"
   ]
  },
  {
   "cell_type": "code",
   "execution_count": null,
   "metadata": {
    "colab": {
     "base_uri": "https://localhost:8080/",
     "height": 52
    },
    "colab_type": "code",
    "id": "tllyApye2Jke",
    "outputId": "5cc0bf6d-382b-410c-fc2e-14a836eef666"
   },
   "outputs": [],
   "source": [
    "from sklearn.decomposition import PCA\n",
    "pca = PCA(n_components=2) # 2次元に射影\n",
    "pca.fit(X)\n",
    "pca.components_ #射影行列"
   ]
  },
  {
   "cell_type": "code",
   "execution_count": null,
   "metadata": {
    "colab": {},
    "colab_type": "code",
    "id": "XhjX1r8t2Jkg"
   },
   "outputs": [],
   "source": [
    "Z = pca.transform(X) # 射影したデータ\n",
    "# 射影した2次元データを元のデータフレームに追加\n",
    "iris['X']=Z[:,0]\n",
    "iris['Y']=Z[:,1]"
   ]
  },
  {
   "cell_type": "code",
   "execution_count": null,
   "metadata": {
    "colab": {
     "base_uri": "https://localhost:8080/",
     "height": 369
    },
    "colab_type": "code",
    "id": "W0XVTeHH2Jkh",
    "outputId": "e20b178c-3768-4b0b-dbb7-2293be86c0b1"
   },
   "outputs": [],
   "source": [
    "#seabornの lmplot で描画（hueは色調指定，fit_reg=Falseは線を描画しない）\n",
    "import seaborn as sns\n",
    "%matplotlib inline\n",
    "sns.lmplot(x='X',y='Y',hue='class',fit_reg=False,data=iris);"
   ]
  },
  {
   "cell_type": "markdown",
   "metadata": {
    "colab_type": "text",
    "id": "RfB4Opmk2Jki"
   },
   "source": [
    "### 問題\n",
    "\n",
    "http://logopt.com/data/drinks.csv にある国別のアルコール摂取量データを用いて主成分分析を行え．\n",
    "\n",
    "4次元の数値データを2次元に射影し，2次元座標で表示せよ．その際，色調としては，大陸(continent)列を用いよ．"
   ]
  },
  {
   "cell_type": "code",
   "execution_count": null,
   "metadata": {
    "colab": {},
    "colab_type": "code",
    "id": "gDLTNW_z2Jki"
   },
   "outputs": [],
   "source": []
  },
  {
   "cell_type": "markdown",
   "metadata": {
    "colab_type": "text",
    "id": "iqcG5ALP2Jkl"
   },
   "source": [
    "### 問題\n",
    "\n",
    "クラスタリングの例で用いたワインのデータを2次元に射影して，クラスタリングされたラベルを色調として描画せよ．"
   ]
  },
  {
   "cell_type": "code",
   "execution_count": null,
   "metadata": {
    "colab": {},
    "colab_type": "code",
    "id": "pux3Sbkc2Jkl"
   },
   "outputs": [],
   "source": []
  }
 ],
 "metadata": {
  "colab": {
   "collapsed_sections": [],
   "include_colab_link": true,
   "name": "sklearn2.ipynb",
   "provenance": [],
   "version": "0.3.2"
  },
  "kernelspec": {
   "display_name": "Python 3",
   "language": "python",
   "name": "python3"
  },
  "language_info": {
   "codemirror_mode": {
    "name": "ipython",
    "version": 3
   },
   "file_extension": ".py",
   "mimetype": "text/x-python",
   "name": "python",
   "nbconvert_exporter": "python",
   "pygments_lexer": "ipython3",
   "version": "3.7.1"
  }
 },
 "nbformat": 4,
 "nbformat_minor": 1
}
